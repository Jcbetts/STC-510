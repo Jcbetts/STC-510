{
 "cells": [
  {
   "cell_type": "code",
   "execution_count": 1,
   "id": "94b98f2d",
   "metadata": {},
   "outputs": [],
   "source": [
    "import numpy as np"
   ]
  },
  {
   "cell_type": "code",
   "execution_count": 2,
   "id": "3d94aedc",
   "metadata": {},
   "outputs": [],
   "source": [
    "a = [1,2,3,4]"
   ]
  },
  {
   "cell_type": "code",
   "execution_count": 3,
   "id": "2ebe7bd1",
   "metadata": {},
   "outputs": [
    {
     "data": {
      "text/plain": [
       "[1, 2, 3, 4]"
      ]
     },
     "execution_count": 3,
     "metadata": {},
     "output_type": "execute_result"
    }
   ],
   "source": [
    "a"
   ]
  },
  {
   "cell_type": "code",
   "execution_count": 4,
   "id": "5c2819da",
   "metadata": {},
   "outputs": [],
   "source": [
    "x = np.array([1,2,3,4])"
   ]
  },
  {
   "cell_type": "markdown",
   "id": "c19d8a57",
   "metadata": {},
   "source": [
    "arrays are similar to lists. Same results from x[1] and a[1] output is 2. Properties are mutable."
   ]
  },
  {
   "cell_type": "markdown",
   "id": "0a95d186",
   "metadata": {},
   "source": [
    "So how are they different? Arrays are faster. The larger the dataset, the more important it is to use array. There are some functional differences as we."
   ]
  },
  {
   "cell_type": "code",
   "execution_count": 5,
   "id": "43ecdffb",
   "metadata": {},
   "outputs": [
    {
     "data": {
      "text/plain": [
       "[1, 2, 3, 4, 1, 2, 3, 4, 1, 2, 3, 4, 1, 2, 3, 4, 1, 2, 3, 4]"
      ]
     },
     "execution_count": 5,
     "metadata": {},
     "output_type": "execute_result"
    }
   ],
   "source": [
    "a*5"
   ]
  },
  {
   "cell_type": "code",
   "execution_count": 6,
   "id": "e4ed3747",
   "metadata": {},
   "outputs": [
    {
     "data": {
      "text/plain": [
       "array([ 5, 10, 15, 20])"
      ]
     },
     "execution_count": 6,
     "metadata": {},
     "output_type": "execute_result"
    }
   ],
   "source": [
    "x*5"
   ]
  },
  {
   "cell_type": "code",
   "execution_count": 7,
   "id": "570703ef",
   "metadata": {},
   "outputs": [],
   "source": [
    "a.append(6)"
   ]
  },
  {
   "cell_type": "code",
   "execution_count": 8,
   "id": "c7743ccc",
   "metadata": {},
   "outputs": [
    {
     "data": {
      "text/plain": [
       "[1, 2, 3, 4, 6]"
      ]
     },
     "execution_count": 8,
     "metadata": {},
     "output_type": "execute_result"
    }
   ],
   "source": [
    "a"
   ]
  },
  {
   "cell_type": "code",
   "execution_count": 9,
   "id": "f9b8faa3",
   "metadata": {},
   "outputs": [
    {
     "ename": "AttributeError",
     "evalue": "'numpy.ndarray' object has no attribute 'append'",
     "output_type": "error",
     "traceback": [
      "\u001b[0;31m---------------------------------------------------------------------------\u001b[0m",
      "\u001b[0;31mAttributeError\u001b[0m                            Traceback (most recent call last)",
      "Cell \u001b[0;32mIn [9], line 1\u001b[0m\n\u001b[0;32m----> 1\u001b[0m \u001b[43mx\u001b[49m\u001b[38;5;241;43m.\u001b[39;49m\u001b[43mappend\u001b[49m(\u001b[38;5;241m6\u001b[39m)\n",
      "\u001b[0;31mAttributeError\u001b[0m: 'numpy.ndarray' object has no attribute 'append'"
     ]
    }
   ],
   "source": [
    "x.append(6)"
   ]
  },
  {
   "cell_type": "markdown",
   "id": "eeb328f9",
   "metadata": {},
   "source": [
    "For lists you don't have to declare your variables ahead of time. So you can add things in the background. Arrays in Python treat this differently. Needs to be defined, which is why it is faster. Set memory of set dimension with same types of things all within the same structure."
   ]
  },
  {
   "cell_type": "code",
   "execution_count": 10,
   "id": "897cb5db",
   "metadata": {},
   "outputs": [
    {
     "data": {
      "text/plain": [
       "16"
      ]
     },
     "execution_count": 10,
     "metadata": {},
     "output_type": "execute_result"
    }
   ],
   "source": [
    "sum(a)"
   ]
  },
  {
   "cell_type": "code",
   "execution_count": 11,
   "id": "65d65701",
   "metadata": {},
   "outputs": [
    {
     "data": {
      "text/plain": [
       "10"
      ]
     },
     "execution_count": 11,
     "metadata": {},
     "output_type": "execute_result"
    }
   ],
   "source": [
    "sum(x)"
   ]
  },
  {
   "cell_type": "code",
   "execution_count": 15,
   "id": "31ef023e",
   "metadata": {},
   "outputs": [
    {
     "data": {
      "text/plain": [
       "3.2"
      ]
     },
     "execution_count": 15,
     "metadata": {},
     "output_type": "execute_result"
    }
   ],
   "source": [
    "sum(a)/len(a)"
   ]
  },
  {
   "cell_type": "code",
   "execution_count": 16,
   "id": "cc7c528d",
   "metadata": {},
   "outputs": [
    {
     "data": {
      "text/plain": [
       "2.5"
      ]
     },
     "execution_count": 16,
     "metadata": {},
     "output_type": "execute_result"
    }
   ],
   "source": [
    "sum(x)/len(x)"
   ]
  },
  {
   "cell_type": "code",
   "execution_count": 17,
   "id": "4a1c0c7f",
   "metadata": {},
   "outputs": [],
   "source": [
    "# g = np.loadtxt('grades.txt') language importing .txt in Collab"
   ]
  },
  {
   "cell_type": "markdown",
   "id": "061ba28a",
   "metadata": {},
   "source": [
    "functions need to come from the numpy library, not the standard library. "
   ]
  },
  {
   "cell_type": "markdown",
   "id": "29984479",
   "metadata": {},
   "source": [
    "delimeter tells us how they are separated \",\" for example"
   ]
  },
  {
   "cell_type": "code",
   "execution_count": 18,
   "id": "b2ae2456",
   "metadata": {},
   "outputs": [],
   "source": [
    "# f.dim tells us the demension"
   ]
  },
  {
   "cell_type": "code",
   "execution_count": 19,
   "id": "552753a3",
   "metadata": {},
   "outputs": [],
   "source": [
    "# f.shape tells us the shape of the matrix"
   ]
  },
  {
   "cell_type": "code",
   "execution_count": 20,
   "id": "160c55b2",
   "metadata": {},
   "outputs": [],
   "source": [
    "# f.size tells us how many elements"
   ]
  },
  {
   "cell_type": "code",
   "execution_count": 22,
   "id": "39df8d12",
   "metadata": {},
   "outputs": [],
   "source": [
    "h = np.matrix([[3,5],\n",
    "              [4,7]])"
   ]
  },
  {
   "cell_type": "code",
   "execution_count": 23,
   "id": "557cb836",
   "metadata": {},
   "outputs": [
    {
     "data": {
      "text/plain": [
       "matrix([[3, 5],\n",
       "        [4, 7]])"
      ]
     },
     "execution_count": 23,
     "metadata": {},
     "output_type": "execute_result"
    }
   ],
   "source": [
    "h"
   ]
  },
  {
   "cell_type": "code",
   "execution_count": 24,
   "id": "bba143e1",
   "metadata": {},
   "outputs": [
    {
     "data": {
      "text/plain": [
       "matrix([[29, 50],\n",
       "        [40, 69]])"
      ]
     },
     "execution_count": 24,
     "metadata": {},
     "output_type": "execute_result"
    }
   ],
   "source": [
    "h*h"
   ]
  },
  {
   "cell_type": "code",
   "execution_count": null,
   "id": "5e4aae22",
   "metadata": {},
   "outputs": [],
   "source": []
  }
 ],
 "metadata": {
  "kernelspec": {
   "display_name": "Python 3 (ipykernel)",
   "language": "python",
   "name": "python3"
  },
  "language_info": {
   "codemirror_mode": {
    "name": "ipython",
    "version": 3
   },
   "file_extension": ".py",
   "mimetype": "text/x-python",
   "name": "python",
   "nbconvert_exporter": "python",
   "pygments_lexer": "ipython3",
   "version": "3.11.2"
  }
 },
 "nbformat": 4,
 "nbformat_minor": 5
}
