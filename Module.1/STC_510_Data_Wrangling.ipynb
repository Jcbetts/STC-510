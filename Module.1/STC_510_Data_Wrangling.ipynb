{
  "nbformat": 4,
  "nbformat_minor": 0,
  "metadata": {
    "colab": {
      "provenance": []
    },
    "kernelspec": {
      "name": "python3",
      "display_name": "Python 3"
    },
    "language_info": {
      "name": "python"
    }
  },
  "cells": [
    {
      "cell_type": "markdown",
      "source": [
        "# Module 1"
      ],
      "metadata": {
        "id": "Wd17nH4BHeHk"
      }
    },
    {
      "cell_type": "markdown",
      "source": [
        "## Module 1.1: Starting Python"
      ],
      "metadata": {
        "id": "MtwHBEndAj7z"
      }
    },
    {
      "cell_type": "markdown",
      "source": [
        "Addition, Subtraction, Multiplication, Division:"
      ],
      "metadata": {
        "id": "QmRZOKI9248O"
      }
    },
    {
      "cell_type": "code",
      "source": [
        "5 + 5"
      ],
      "metadata": {
        "colab": {
          "base_uri": "https://localhost:8080/"
        },
        "id": "cNc0SWze22xb",
        "outputId": "13b0bfde-f64a-4584-bfd9-f03ebb0f747c"
      },
      "execution_count": null,
      "outputs": [
        {
          "output_type": "execute_result",
          "data": {
            "text/plain": [
              "10"
            ]
          },
          "metadata": {},
          "execution_count": 19
        }
      ]
    },
    {
      "cell_type": "code",
      "source": [
        "5 - 5"
      ],
      "metadata": {
        "colab": {
          "base_uri": "https://localhost:8080/"
        },
        "id": "h7iNFVGN27_a",
        "outputId": "c8ac7484-e3c7-42bf-a002-395319b509a4"
      },
      "execution_count": null,
      "outputs": [
        {
          "output_type": "execute_result",
          "data": {
            "text/plain": [
              "0"
            ]
          },
          "metadata": {},
          "execution_count": 8
        }
      ]
    },
    {
      "cell_type": "code",
      "source": [
        "5 * 5"
      ],
      "metadata": {
        "colab": {
          "base_uri": "https://localhost:8080/"
        },
        "id": "dRz8ZqBk3G2V",
        "outputId": "ac679601-4d07-4e4b-c318-bc31cd39921f"
      },
      "execution_count": null,
      "outputs": [
        {
          "output_type": "execute_result",
          "data": {
            "text/plain": [
              "25"
            ]
          },
          "metadata": {},
          "execution_count": 7
        }
      ]
    },
    {
      "cell_type": "code",
      "source": [
        "5 / 5"
      ],
      "metadata": {
        "colab": {
          "base_uri": "https://localhost:8080/"
        },
        "id": "pgVb_8e33I-h",
        "outputId": "13abfc85-5dcd-4335-9e15-39e714703115"
      },
      "execution_count": null,
      "outputs": [
        {
          "output_type": "execute_result",
          "data": {
            "text/plain": [
              "1.0"
            ]
          },
          "metadata": {},
          "execution_count": 9
        }
      ]
    },
    {
      "cell_type": "code",
      "source": [
        "5 / 2"
      ],
      "metadata": {
        "colab": {
          "base_uri": "https://localhost:8080/"
        },
        "id": "EGAL6pBL3J_x",
        "outputId": "76e49b53-6f3c-4741-af2f-5f9dd48e7914"
      },
      "execution_count": null,
      "outputs": [
        {
          "output_type": "execute_result",
          "data": {
            "text/plain": [
              "2.5"
            ]
          },
          "metadata": {},
          "execution_count": 13
        }
      ]
    },
    {
      "cell_type": "markdown",
      "source": [
        "Floor Operator: removes remainder"
      ],
      "metadata": {
        "id": "hjH3ATaF3qT_"
      }
    },
    {
      "cell_type": "code",
      "source": [
        "5 // 2"
      ],
      "metadata": {
        "colab": {
          "base_uri": "https://localhost:8080/"
        },
        "id": "kXN9FlMY3QMc",
        "outputId": "97e41058-af6d-45d0-b2ec-eb6b87ccff0a"
      },
      "execution_count": null,
      "outputs": [
        {
          "output_type": "execute_result",
          "data": {
            "text/plain": [
              "2"
            ]
          },
          "metadata": {},
          "execution_count": 16
        }
      ]
    },
    {
      "cell_type": "markdown",
      "source": [
        "Modulus Operator: output = remainder\n"
      ],
      "metadata": {
        "id": "uQj0EkpA3tvQ"
      }
    },
    {
      "cell_type": "code",
      "source": [
        "5 % 2"
      ],
      "metadata": {
        "colab": {
          "base_uri": "https://localhost:8080/"
        },
        "id": "CZ6UDYjx3YpB",
        "outputId": "a4794769-b150-4c35-d0b0-60b717b1acac"
      },
      "execution_count": null,
      "outputs": [
        {
          "output_type": "execute_result",
          "data": {
            "text/plain": [
              "1"
            ]
          },
          "metadata": {},
          "execution_count": 17
        }
      ]
    },
    {
      "cell_type": "markdown",
      "source": [
        "Square:"
      ],
      "metadata": {
        "id": "Cln0FKFb4kcE"
      }
    },
    {
      "cell_type": "code",
      "source": [
        "5 ** 2"
      ],
      "metadata": {
        "colab": {
          "base_uri": "https://localhost:8080/"
        },
        "id": "GutKKPtb4h6F",
        "outputId": "006ef303-4004-43b3-c2b5-3c3a057c777a"
      },
      "execution_count": null,
      "outputs": [
        {
          "output_type": "execute_result",
          "data": {
            "text/plain": [
              "25"
            ]
          },
          "metadata": {},
          "execution_count": 19
        }
      ]
    },
    {
      "cell_type": "code",
      "source": [
        "5 ^ 2"
      ],
      "metadata": {
        "colab": {
          "base_uri": "https://localhost:8080/"
        },
        "id": "5mFz3iKuCwcE",
        "outputId": "e3cb32ed-bca1-4037-bd35-a904dbb2ed0b"
      },
      "execution_count": null,
      "outputs": [
        {
          "output_type": "execute_result",
          "data": {
            "text/plain": [
              "7"
            ]
          },
          "metadata": {},
          "execution_count": 22
        }
      ]
    },
    {
      "cell_type": "markdown",
      "source": [
        "***[^ does not denote square in python](https://stackoverflow.com/questions/23230726/why-doesnt-python-use-to-denote-squaring-a-number-but-uses-instead)***"
      ],
      "metadata": {
        "id": "VmXimObNDR5_"
      }
    },
    {
      "cell_type": "markdown",
      "source": [
        "Order of Operations:"
      ],
      "metadata": {
        "id": "dEVyrrXQ-oPR"
      }
    },
    {
      "cell_type": "code",
      "source": [
        "3 + 2 * 4"
      ],
      "metadata": {
        "colab": {
          "base_uri": "https://localhost:8080/"
        },
        "id": "c2D1rHSH-qNf",
        "outputId": "a1d57968-08cc-4d24-89f2-328e72cef9f6"
      },
      "execution_count": null,
      "outputs": [
        {
          "output_type": "execute_result",
          "data": {
            "text/plain": [
              "11"
            ]
          },
          "metadata": {},
          "execution_count": 23
        }
      ]
    },
    {
      "cell_type": "code",
      "source": [
        "( 3 + 2 ) * 4"
      ],
      "metadata": {
        "colab": {
          "base_uri": "https://localhost:8080/"
        },
        "id": "BtcEo2SO_BRt",
        "outputId": "b063316a-f17f-4ac2-8677-b9be29f043c8"
      },
      "execution_count": null,
      "outputs": [
        {
          "output_type": "execute_result",
          "data": {
            "text/plain": [
              "20"
            ]
          },
          "metadata": {},
          "execution_count": 24
        }
      ]
    },
    {
      "cell_type": "markdown",
      "source": [
        "Logical Expressions:"
      ],
      "metadata": {
        "id": "1Mal0jQv_Sjs"
      }
    },
    {
      "cell_type": "code",
      "source": [
        "5 > 2"
      ],
      "metadata": {
        "colab": {
          "base_uri": "https://localhost:8080/"
        },
        "id": "ZJ9bCxCe_ede",
        "outputId": "f868d749-8bc2-43f4-c3e3-9f2d1019b5bc"
      },
      "execution_count": null,
      "outputs": [
        {
          "output_type": "execute_result",
          "data": {
            "text/plain": [
              "True"
            ]
          },
          "metadata": {},
          "execution_count": 3
        }
      ]
    },
    {
      "cell_type": "code",
      "source": [
        "5 < 2"
      ],
      "metadata": {
        "colab": {
          "base_uri": "https://localhost:8080/"
        },
        "id": "5mQwqlda_hr9",
        "outputId": "c2789ac8-f689-4576-f623-8e5ec06967cb"
      },
      "execution_count": null,
      "outputs": [
        {
          "output_type": "execute_result",
          "data": {
            "text/plain": [
              "False"
            ]
          },
          "metadata": {},
          "execution_count": 4
        }
      ]
    },
    {
      "cell_type": "markdown",
      "source": [
        "Assignment Error (Syntax Error):"
      ],
      "metadata": {
        "id": "FYGnb0P6AJ_J"
      }
    },
    {
      "cell_type": "code",
      "source": [
        "5 = 2"
      ],
      "metadata": {
        "colab": {
          "base_uri": "https://localhost:8080/",
          "height": 144
        },
        "id": "HItnMExsAM4T",
        "outputId": "ea621112-ea24-4a8a-baf9-f8dfc9455b6f"
      },
      "execution_count": null,
      "outputs": [
        {
          "output_type": "error",
          "ename": "SyntaxError",
          "evalue": "cannot assign to literal here. Maybe you meant '==' instead of '='? (<ipython-input-5-5e437cf2364c>, line 1)",
          "traceback": [
            "\u001b[0;36m  File \u001b[0;32m\"<ipython-input-5-5e437cf2364c>\"\u001b[0;36m, line \u001b[0;32m1\u001b[0m\n\u001b[0;31m    5 = 2\u001b[0m\n\u001b[0m    ^\u001b[0m\n\u001b[0;31mSyntaxError\u001b[0m\u001b[0;31m:\u001b[0m cannot assign to literal here. Maybe you meant '==' instead of '='?\n"
          ]
        }
      ]
    },
    {
      "cell_type": "code",
      "source": [
        "5 == 2"
      ],
      "metadata": {
        "colab": {
          "base_uri": "https://localhost:8080/"
        },
        "id": "2IDPzJ2MAP3l",
        "outputId": "f7e1ab65-bcba-4399-9166-80d203700233"
      },
      "execution_count": null,
      "outputs": [
        {
          "output_type": "execute_result",
          "data": {
            "text/plain": [
              "False"
            ]
          },
          "metadata": {},
          "execution_count": 6
        }
      ]
    },
    {
      "cell_type": "code",
      "source": [
        "5 == 5"
      ],
      "metadata": {
        "colab": {
          "base_uri": "https://localhost:8080/"
        },
        "id": "NU5fn6lqAa_q",
        "outputId": "db99bdbe-062a-4596-9221-73e70bdfed0c"
      },
      "execution_count": null,
      "outputs": [
        {
          "output_type": "execute_result",
          "data": {
            "text/plain": [
              "True"
            ]
          },
          "metadata": {},
          "execution_count": 7
        }
      ]
    },
    {
      "cell_type": "code",
      "source": [
        "5 == 2+3"
      ],
      "metadata": {
        "colab": {
          "base_uri": "https://localhost:8080/"
        },
        "id": "Kh1nyUATAcBP",
        "outputId": "bcc10a03-466e-44f8-a2fa-1ed49c586668"
      },
      "execution_count": null,
      "outputs": [
        {
          "output_type": "execute_result",
          "data": {
            "text/plain": [
              "True"
            ]
          },
          "metadata": {},
          "execution_count": 9
        }
      ]
    },
    {
      "cell_type": "markdown",
      "source": [
        "Modlue 1.1 Quiz"
      ],
      "metadata": {
        "id": "uDxPZRukCWW-"
      }
    },
    {
      "cell_type": "code",
      "source": [
        "2 + 4 ** 2"
      ],
      "metadata": {
        "colab": {
          "base_uri": "https://localhost:8080/"
        },
        "id": "e014THsrBZ5g",
        "outputId": "35f5ffb5-1f41-44b9-f35c-742f59386b46"
      },
      "execution_count": null,
      "outputs": [
        {
          "output_type": "execute_result",
          "data": {
            "text/plain": [
              "18"
            ]
          },
          "metadata": {},
          "execution_count": 26
        }
      ]
    },
    {
      "cell_type": "code",
      "source": [
        "9 // 2 + 9 % 2"
      ],
      "metadata": {
        "colab": {
          "base_uri": "https://localhost:8080/"
        },
        "id": "I-T_xGd5B0C_",
        "outputId": "6c05bbc9-7562-49ef-a678-17748afc0bd7"
      },
      "execution_count": null,
      "outputs": [
        {
          "output_type": "execute_result",
          "data": {
            "text/plain": [
              "5"
            ]
          },
          "metadata": {},
          "execution_count": 25
        }
      ]
    },
    {
      "cell_type": "code",
      "source": [
        "8 + 3 == 9 + 7"
      ],
      "metadata": {
        "colab": {
          "base_uri": "https://localhost:8080/"
        },
        "id": "D7z39aCpB8sP",
        "outputId": "471ca789-05c3-43fa-9bc1-e21a69d5bdd0"
      },
      "execution_count": null,
      "outputs": [
        {
          "output_type": "execute_result",
          "data": {
            "text/plain": [
              "False"
            ]
          },
          "metadata": {},
          "execution_count": 27
        }
      ]
    },
    {
      "cell_type": "markdown",
      "source": [
        "## Module 1.2: Variables"
      ],
      "metadata": {
        "id": "CrgmpBmJEYMz"
      }
    },
    {
      "cell_type": "code",
      "source": [
        "youngests_age = 9"
      ],
      "metadata": {
        "id": "nFUMwIeSEg2X"
      },
      "execution_count": null,
      "outputs": []
    },
    {
      "cell_type": "markdown",
      "source": [
        "Recall Expression:"
      ],
      "metadata": {
        "id": "qAmRaquYFXYe"
      }
    },
    {
      "cell_type": "code",
      "source": [
        "youngests_age"
      ],
      "metadata": {
        "colab": {
          "base_uri": "https://localhost:8080/"
        },
        "id": "CFJ6zC65FD8Z",
        "outputId": "10c75ea7-f5a3-4c3a-d882-5230710500c9"
      },
      "execution_count": null,
      "outputs": [
        {
          "output_type": "execute_result",
          "data": {
            "text/plain": [
              "9"
            ]
          },
          "metadata": {},
          "execution_count": 29
        }
      ]
    },
    {
      "cell_type": "markdown",
      "source": [
        "General Rules:\n",
        "* No whitespace within expressions\n",
        "* No starting with numbers\n",
        "* Start with lower case"
      ],
      "metadata": {
        "id": "D6WigmuMGd6o"
      }
    },
    {
      "cell_type": "markdown",
      "source": [
        "Floats (Floating Point Numbers)"
      ],
      "metadata": {
        "id": "vNDZj0EJHQhW"
      }
    },
    {
      "cell_type": "code",
      "source": [
        "pi = 3.1415"
      ],
      "metadata": {
        "id": "rz9j9hXjHUm4"
      },
      "execution_count": null,
      "outputs": []
    },
    {
      "cell_type": "code",
      "source": [
        "pi"
      ],
      "metadata": {
        "colab": {
          "base_uri": "https://localhost:8080/"
        },
        "id": "Gcv1Eg-II215",
        "outputId": "0512fdd1-16a4-4d51-a9b3-6a35c635dfab"
      },
      "execution_count": null,
      "outputs": [
        {
          "output_type": "execute_result",
          "data": {
            "text/plain": [
              "3.1415"
            ]
          },
          "metadata": {},
          "execution_count": 31
        }
      ]
    },
    {
      "cell_type": "markdown",
      "source": [
        "Strings:"
      ],
      "metadata": {
        "id": "L-DZXbgEJNaX"
      }
    },
    {
      "cell_type": "code",
      "source": [
        "youngests_name = 'Kai'"
      ],
      "metadata": {
        "id": "Xl-m7sx0I3NW"
      },
      "execution_count": null,
      "outputs": []
    },
    {
      "cell_type": "code",
      "source": [
        "youngests_name"
      ],
      "metadata": {
        "colab": {
          "base_uri": "https://localhost:8080/",
          "height": 35
        },
        "id": "iE7LhROzJR2W",
        "outputId": "f36bbeac-f9bd-4ef7-c109-62c8ba51d517"
      },
      "execution_count": null,
      "outputs": [
        {
          "output_type": "execute_result",
          "data": {
            "text/plain": [
              "'Kai'"
            ],
            "application/vnd.google.colaboratory.intrinsic+json": {
              "type": "string"
            }
          },
          "metadata": {},
          "execution_count": 33
        }
      ]
    },
    {
      "cell_type": "code",
      "source": [
        "youngests_name * 5"
      ],
      "metadata": {
        "colab": {
          "base_uri": "https://localhost:8080/",
          "height": 35
        },
        "id": "t46RSOEYJTSb",
        "outputId": "eca33901-ddec-4a44-862a-567d8821a960"
      },
      "execution_count": null,
      "outputs": [
        {
          "output_type": "execute_result",
          "data": {
            "text/plain": [
              "'KaiKaiKaiKaiKai'"
            ],
            "application/vnd.google.colaboratory.intrinsic+json": {
              "type": "string"
            }
          },
          "metadata": {},
          "execution_count": 34
        }
      ]
    },
    {
      "cell_type": "markdown",
      "source": [
        "Type Error:"
      ],
      "metadata": {
        "id": "V0oyegnmJfIb"
      }
    },
    {
      "cell_type": "code",
      "source": [
        "youngests_name + 5"
      ],
      "metadata": {
        "colab": {
          "base_uri": "https://localhost:8080/",
          "height": 181
        },
        "id": "S_4BItztJYXR",
        "outputId": "d44ac70f-2619-42d3-ee33-5cc306caf0f1"
      },
      "execution_count": null,
      "outputs": [
        {
          "output_type": "error",
          "ename": "TypeError",
          "evalue": "can only concatenate str (not \"int\") to str",
          "traceback": [
            "\u001b[0;31m---------------------------------------------------------------------------\u001b[0m",
            "\u001b[0;31mTypeError\u001b[0m                                 Traceback (most recent call last)",
            "\u001b[0;32m<ipython-input-35-9c75f9e959dc>\u001b[0m in \u001b[0;36m<cell line: 1>\u001b[0;34m()\u001b[0m\n\u001b[0;32m----> 1\u001b[0;31m \u001b[0myoungests_name\u001b[0m \u001b[0;34m+\u001b[0m \u001b[0;36m5\u001b[0m\u001b[0;34m\u001b[0m\u001b[0;34m\u001b[0m\u001b[0m\n\u001b[0m",
            "\u001b[0;31mTypeError\u001b[0m: can only concatenate str (not \"int\") to str"
          ]
        }
      ]
    },
    {
      "cell_type": "code",
      "source": [
        "'Mr. ' + youngests_name"
      ],
      "metadata": {
        "colab": {
          "base_uri": "https://localhost:8080/",
          "height": 35
        },
        "id": "iSOCeVTJJhFI",
        "outputId": "ddf4ef05-13f0-4c19-bf4c-b89d687c7737"
      },
      "execution_count": null,
      "outputs": [
        {
          "output_type": "execute_result",
          "data": {
            "text/plain": [
              "'Mr. Kai'"
            ],
            "application/vnd.google.colaboratory.intrinsic+json": {
              "type": "string"
            }
          },
          "metadata": {},
          "execution_count": 37
        }
      ]
    },
    {
      "cell_type": "markdown",
      "source": [
        "Functions:"
      ],
      "metadata": {
        "id": "tDJ8lEZPKkcB"
      }
    },
    {
      "cell_type": "code",
      "source": [
        "print('Hello World')"
      ],
      "metadata": {
        "colab": {
          "base_uri": "https://localhost:8080/"
        },
        "id": "eM28ROPTKmcl",
        "outputId": "a3618d2f-686d-4c5b-de17-c869ebf4ed60"
      },
      "execution_count": null,
      "outputs": [
        {
          "output_type": "stream",
          "name": "stdout",
          "text": [
            "Hello World\n"
          ]
        }
      ]
    },
    {
      "cell_type": "code",
      "source": [
        "print(pi)"
      ],
      "metadata": {
        "colab": {
          "base_uri": "https://localhost:8080/"
        },
        "id": "92OydNQBLDmh",
        "outputId": "7dfe0730-eb7f-4701-e1ad-6bb2127d5b81"
      },
      "execution_count": null,
      "outputs": [
        {
          "output_type": "stream",
          "name": "stdout",
          "text": [
            "3.1415\n"
          ]
        }
      ]
    },
    {
      "cell_type": "code",
      "source": [
        "print(youngests_age)"
      ],
      "metadata": {
        "colab": {
          "base_uri": "https://localhost:8080/"
        },
        "id": "6elTjJqCLEi4",
        "outputId": "996d15d4-d414-46ce-f1da-92fc9935b69b"
      },
      "execution_count": null,
      "outputs": [
        {
          "output_type": "stream",
          "name": "stdout",
          "text": [
            "9\n"
          ]
        }
      ]
    },
    {
      "cell_type": "code",
      "source": [
        "print(youngests_name)"
      ],
      "metadata": {
        "colab": {
          "base_uri": "https://localhost:8080/"
        },
        "id": "EkYKC10MLGOy",
        "outputId": "66b2b803-199a-4d33-ed57-d63c305e2921"
      },
      "execution_count": null,
      "outputs": [
        {
          "output_type": "stream",
          "name": "stdout",
          "text": [
            "Kai\n"
          ]
        }
      ]
    },
    {
      "cell_type": "code",
      "source": [
        "len(youngests_name)"
      ],
      "metadata": {
        "colab": {
          "base_uri": "https://localhost:8080/"
        },
        "id": "WMF9yGO7LH7x",
        "outputId": "67feae42-17e7-4d73-d673-e5a41236a528"
      },
      "execution_count": null,
      "outputs": [
        {
          "output_type": "execute_result",
          "data": {
            "text/plain": [
              "3"
            ]
          },
          "metadata": {},
          "execution_count": 45
        }
      ]
    },
    {
      "cell_type": "markdown",
      "source": [
        "Typecasting:"
      ],
      "metadata": {
        "id": "eU7iP9jpLqfG"
      }
    },
    {
      "cell_type": "code",
      "source": [
        "str(pi)"
      ],
      "metadata": {
        "colab": {
          "base_uri": "https://localhost:8080/",
          "height": 35
        },
        "id": "M9mN-e8iLsMU",
        "outputId": "bf0cdaa1-fb7f-4459-eb8e-6cdf5c29b046"
      },
      "execution_count": null,
      "outputs": [
        {
          "output_type": "execute_result",
          "data": {
            "text/plain": [
              "'3.1415'"
            ],
            "application/vnd.google.colaboratory.intrinsic+json": {
              "type": "string"
            }
          },
          "metadata": {},
          "execution_count": 46
        }
      ]
    },
    {
      "cell_type": "code",
      "source": [
        "str(pi) * 3"
      ],
      "metadata": {
        "colab": {
          "base_uri": "https://localhost:8080/",
          "height": 35
        },
        "id": "jDLAdZfmL5ys",
        "outputId": "dce5ef11-2311-4fe7-ce8b-cea4e583c96e"
      },
      "execution_count": null,
      "outputs": [
        {
          "output_type": "execute_result",
          "data": {
            "text/plain": [
              "'3.14153.14153.1415'"
            ],
            "application/vnd.google.colaboratory.intrinsic+json": {
              "type": "string"
            }
          },
          "metadata": {},
          "execution_count": 48
        }
      ]
    },
    {
      "cell_type": "code",
      "source": [
        "pi + youngests_name"
      ],
      "metadata": {
        "colab": {
          "base_uri": "https://localhost:8080/",
          "height": 181
        },
        "id": "v8hg4QKzL7g1",
        "outputId": "1e7989c7-e3eb-4ea6-aae1-162e9f5bb598"
      },
      "execution_count": null,
      "outputs": [
        {
          "output_type": "error",
          "ename": "TypeError",
          "evalue": "unsupported operand type(s) for +: 'float' and 'str'",
          "traceback": [
            "\u001b[0;31m---------------------------------------------------------------------------\u001b[0m",
            "\u001b[0;31mTypeError\u001b[0m                                 Traceback (most recent call last)",
            "\u001b[0;32m<ipython-input-49-904d12ea103a>\u001b[0m in \u001b[0;36m<cell line: 1>\u001b[0;34m()\u001b[0m\n\u001b[0;32m----> 1\u001b[0;31m \u001b[0mpi\u001b[0m \u001b[0;34m+\u001b[0m \u001b[0myoungests_name\u001b[0m\u001b[0;34m\u001b[0m\u001b[0;34m\u001b[0m\u001b[0m\n\u001b[0m",
            "\u001b[0;31mTypeError\u001b[0m: unsupported operand type(s) for +: 'float' and 'str'"
          ]
        }
      ]
    },
    {
      "cell_type": "code",
      "source": [
        "str(pi) + youngests_name"
      ],
      "metadata": {
        "colab": {
          "base_uri": "https://localhost:8080/",
          "height": 35
        },
        "id": "5sFnUzFyMIQA",
        "outputId": "6afce8c3-b29d-4d96-9a8e-855cfced56db"
      },
      "execution_count": null,
      "outputs": [
        {
          "output_type": "execute_result",
          "data": {
            "text/plain": [
              "'3.1415Kai'"
            ],
            "application/vnd.google.colaboratory.intrinsic+json": {
              "type": "string"
            }
          },
          "metadata": {},
          "execution_count": 50
        }
      ]
    },
    {
      "cell_type": "markdown",
      "source": [
        "Module 1.2 Quiz"
      ],
      "metadata": {
        "id": "QKds-sFNODO1"
      }
    },
    {
      "cell_type": "code",
      "source": [
        "my_cars_year = 2000 + 12"
      ],
      "metadata": {
        "id": "ATfHs_HtOK8g"
      },
      "execution_count": null,
      "outputs": []
    },
    {
      "cell_type": "code",
      "source": [
        "print(my_cars_year)"
      ],
      "metadata": {
        "colab": {
          "base_uri": "https://localhost:8080/"
        },
        "id": "SyU5H3Q7OWEF",
        "outputId": "b1e87936-e5a4-4205-e504-9f1737cdc2cc"
      },
      "execution_count": null,
      "outputs": [
        {
          "output_type": "stream",
          "name": "stdout",
          "text": [
            "2012\n"
          ]
        }
      ]
    },
    {
      "cell_type": "code",
      "source": [
        "x = '8'"
      ],
      "metadata": {
        "id": "laiTTr2XOYlz"
      },
      "execution_count": null,
      "outputs": []
    },
    {
      "cell_type": "code",
      "source": [
        "y = '1'"
      ],
      "metadata": {
        "id": "eRQLC4OxOjwE"
      },
      "execution_count": null,
      "outputs": []
    },
    {
      "cell_type": "code",
      "source": [
        "print( len( x + y ) )"
      ],
      "metadata": {
        "colab": {
          "base_uri": "https://localhost:8080/"
        },
        "id": "gP1dHc4DOlLp",
        "outputId": "e8812e8d-def4-46d9-e9ef-643f336b229f"
      },
      "execution_count": null,
      "outputs": [
        {
          "output_type": "stream",
          "name": "stdout",
          "text": [
            "2\n"
          ]
        }
      ]
    },
    {
      "cell_type": "code",
      "source": [
        "pizza = .25"
      ],
      "metadata": {
        "id": "r9k04xKMPh2G"
      },
      "execution_count": null,
      "outputs": []
    },
    {
      "cell_type": "code",
      "source": [
        "type(pizza)"
      ],
      "metadata": {
        "colab": {
          "base_uri": "https://localhost:8080/"
        },
        "id": "Ob2n80urPi6T",
        "outputId": "8e3f6161-db39-4cd2-9ea3-89939bde2af7"
      },
      "execution_count": null,
      "outputs": [
        {
          "output_type": "execute_result",
          "data": {
            "text/plain": [
              "float"
            ]
          },
          "metadata": {},
          "execution_count": 63
        }
      ]
    },
    {
      "cell_type": "code",
      "source": [
        "x = len( str( 3.14 ) )"
      ],
      "metadata": {
        "id": "7_lW2KCGPlcv"
      },
      "execution_count": null,
      "outputs": []
    },
    {
      "cell_type": "code",
      "source": [
        "print( x )"
      ],
      "metadata": {
        "colab": {
          "base_uri": "https://localhost:8080/"
        },
        "id": "-g0RDK6WP7ZN",
        "outputId": "f6783b14-8a31-4541-b871-21fbe9e4dda0"
      },
      "execution_count": null,
      "outputs": [
        {
          "output_type": "stream",
          "name": "stdout",
          "text": [
            "4\n"
          ]
        }
      ]
    },
    {
      "cell_type": "code",
      "source": [],
      "metadata": {
        "id": "bz4gYvjIP8m1"
      },
      "execution_count": null,
      "outputs": []
    },
    {
      "cell_type": "markdown",
      "source": [
        "## Module 1.3: If"
      ],
      "metadata": {
        "id": "TCWKlXg5RK_M"
      }
    },
    {
      "cell_type": "markdown",
      "source": [
        "Conditionals: If and Then"
      ],
      "metadata": {
        "id": "G4RpavoOIoiz"
      }
    },
    {
      "cell_type": "code",
      "source": [
        "print( 'hello world' )\n",
        "print( 'goodbye, cruel world' )"
      ],
      "metadata": {
        "id": "sUmZQ8EsRSVx",
        "colab": {
          "base_uri": "https://localhost:8080/"
        },
        "outputId": "61e273cb-0e7a-4f58-e79a-f94899a9955d"
      },
      "execution_count": null,
      "outputs": [
        {
          "output_type": "stream",
          "name": "stdout",
          "text": [
            "hello world\n",
            "goodbye, cruel world\n"
          ]
        }
      ]
    },
    {
      "cell_type": "markdown",
      "source": [
        "Boolean Variables:"
      ],
      "metadata": {
        "id": "94DXN9nMLaAz"
      }
    },
    {
      "cell_type": "code",
      "source": [
        "long_name = True\n",
        "if long_name:\n",
        "  print( 'That\\'s a long name you\\'ve got there!' )\n",
        "print( 'Thanks for asking!' )"
      ],
      "metadata": {
        "colab": {
          "base_uri": "https://localhost:8080/"
        },
        "id": "Qqqc10iSLc7S",
        "outputId": "d9916ca2-2364-4bc7-ad87-0d152737cee2"
      },
      "execution_count": null,
      "outputs": [
        {
          "output_type": "stream",
          "name": "stdout",
          "text": [
            "That's a long name you've got there!\n",
            "Thanks for asking!\n"
          ]
        }
      ]
    },
    {
      "cell_type": "code",
      "source": [
        "# long_name = True\n",
        "my_name = 'Justin Betts                '\n",
        "if len( my_name ) >= 20:\n",
        "   print( 'That\\'s a long name you\\'ve got there!' )\n",
        "   print( 'It is ' + str( len( my_name ) ) + ' characters long.' )\n",
        "   print( 'You should change it...' )\n",
        "elif len( my_name) >= 10:\n",
        "  print( 'That\\'s a reasonable length' )\n",
        "else:\n",
        "   print( 'Way too short!' )\n",
        "print( 'Thanks for asking.' )"
      ],
      "metadata": {
        "colab": {
          "base_uri": "https://localhost:8080/"
        },
        "id": "OOnhUWyoNU8o",
        "outputId": "53249ce7-9b89-4d56-a35f-728ef95a80ae"
      },
      "execution_count": null,
      "outputs": [
        {
          "output_type": "stream",
          "name": "stdout",
          "text": [
            "That's a long name you've got there!\n",
            "It is 28 characters long.\n",
            "You should change it...\n",
            "Thanks for asking.\n"
          ]
        }
      ]
    },
    {
      "cell_type": "markdown",
      "source": [
        "1.3 Quiz"
      ],
      "metadata": {
        "id": "sx1NTLOOTMZH"
      }
    },
    {
      "cell_type": "code",
      "source": [
        "if True:\n",
        "  print('Yes!)\n",
        "else:\n",
        "  print('No.')"
      ],
      "metadata": {
        "colab": {
          "base_uri": "https://localhost:8080/",
          "height": 144
        },
        "id": "QQJMpqHjPDb0",
        "outputId": "3fbeb17c-58ed-4483-deda-a84fdd88c413"
      },
      "execution_count": null,
      "outputs": [
        {
          "output_type": "error",
          "ename": "SyntaxError",
          "evalue": "unterminated string literal (detected at line 2) (<ipython-input-39-89bba84486a8>, line 2)",
          "traceback": [
            "\u001b[0;36m  File \u001b[0;32m\"<ipython-input-39-89bba84486a8>\"\u001b[0;36m, line \u001b[0;32m2\u001b[0m\n\u001b[0;31m    print('Yes!)\u001b[0m\n\u001b[0m          ^\u001b[0m\n\u001b[0;31mSyntaxError\u001b[0m\u001b[0;31m:\u001b[0m unterminated string literal (detected at line 2)\n"
          ]
        }
      ]
    },
    {
      "cell_type": "code",
      "source": [
        "x = 5\n",
        "y = 'five'\n",
        "print x\n",
        "print y"
      ],
      "metadata": {
        "colab": {
          "base_uri": "https://localhost:8080/",
          "height": 144
        },
        "id": "xwtv57KHVNPF",
        "outputId": "f0b60021-ea18-459c-80e5-c0500a826097"
      },
      "execution_count": null,
      "outputs": [
        {
          "output_type": "error",
          "ename": "SyntaxError",
          "evalue": "Missing parentheses in call to 'print'. Did you mean print(...)? (<ipython-input-40-6011bf7ef364>, line 3)",
          "traceback": [
            "\u001b[0;36m  File \u001b[0;32m\"<ipython-input-40-6011bf7ef364>\"\u001b[0;36m, line \u001b[0;32m3\u001b[0m\n\u001b[0;31m    print x\u001b[0m\n\u001b[0m    ^\u001b[0m\n\u001b[0;31mSyntaxError\u001b[0m\u001b[0;31m:\u001b[0m Missing parentheses in call to 'print'. Did you mean print(...)?\n"
          ]
        }
      ]
    },
    {
      "cell_type": "code",
      "source": [
        "if len(initials)=3:\n",
        "  print(initials)\n",
        "elif len(initials)<3:\n",
        "  print('Middle initial\\'s missing!')\n",
        "else:\n",
        "   print('Way too long!')"
      ],
      "metadata": {
        "colab": {
          "base_uri": "https://localhost:8080/",
          "height": 144
        },
        "id": "oh6mxAhuTumy",
        "outputId": "a0013ca5-a3dc-4f79-d702-6bc0ef8554b5"
      },
      "execution_count": null,
      "outputs": [
        {
          "output_type": "error",
          "ename": "SyntaxError",
          "evalue": "cannot assign to function call here. Maybe you meant '==' instead of '='? (<ipython-input-36-438703f887c6>, line 1)",
          "traceback": [
            "\u001b[0;36m  File \u001b[0;32m\"<ipython-input-36-438703f887c6>\"\u001b[0;36m, line \u001b[0;32m1\u001b[0m\n\u001b[0;31m    if len(initials)=3:\u001b[0m\n\u001b[0m       ^\u001b[0m\n\u001b[0;31mSyntaxError\u001b[0m\u001b[0;31m:\u001b[0m cannot assign to function call here. Maybe you meant '==' instead of '='?\n"
          ]
        }
      ]
    },
    {
      "cell_type": "code",
      "source": [
        "x = 5 == 5\n",
        "print(x)\n"
      ],
      "metadata": {
        "colab": {
          "base_uri": "https://localhost:8080/"
        },
        "id": "PVxx2yvcWEim",
        "outputId": "0b29f8fe-aae4-45e4-8ff2-cfebedb000e9"
      },
      "execution_count": null,
      "outputs": [
        {
          "output_type": "stream",
          "name": "stdout",
          "text": [
            "True\n"
          ]
        }
      ]
    },
    {
      "cell_type": "code",
      "source": [
        "x = 5-3\n",
        "if x ==2:\n",
        "  print( 'That's Right!' )\n"
      ],
      "metadata": {
        "colab": {
          "base_uri": "https://localhost:8080/",
          "height": 144
        },
        "id": "sUNndZpvUB5A",
        "outputId": "2e9ae813-8584-4a82-ddf8-474f30ec9344"
      },
      "execution_count": null,
      "outputs": [
        {
          "output_type": "error",
          "ename": "SyntaxError",
          "evalue": "unterminated string literal (detected at line 3) (<ipython-input-37-174dcb73597f>, line 3)",
          "traceback": [
            "\u001b[0;36m  File \u001b[0;32m\"<ipython-input-37-174dcb73597f>\"\u001b[0;36m, line \u001b[0;32m3\u001b[0m\n\u001b[0;31m    print( 'That's Right!' )\u001b[0m\n\u001b[0m                         ^\u001b[0m\n\u001b[0;31mSyntaxError\u001b[0m\u001b[0;31m:\u001b[0m unterminated string literal (detected at line 3)\n"
          ]
        }
      ]
    },
    {
      "cell_type": "code",
      "source": [
        "x = 5\n",
        "if x <= 3:\n",
        "  print( 'Apples.' )\n",
        "elif x <= 5:\n",
        "  print( 'Oranges.' )\n",
        "else:\n",
        "  print( 'Pears.' )"
      ],
      "metadata": {
        "colab": {
          "base_uri": "https://localhost:8080/"
        },
        "id": "iTcaAVe4UVcl",
        "outputId": "57ca3c35-7177-490d-f83c-43eeb52fa182"
      },
      "execution_count": null,
      "outputs": [
        {
          "output_type": "stream",
          "name": "stdout",
          "text": [
            "Oranges.\n"
          ]
        }
      ]
    },
    {
      "cell_type": "markdown",
      "source": [
        "## Module 1.4: Defining Functions"
      ],
      "metadata": {
        "id": "Thw-VPPjWpwr"
      }
    },
    {
      "cell_type": "markdown",
      "source": [
        "Turning 1.3 into a function"
      ],
      "metadata": {
        "id": "ekGCerBucTt_"
      }
    },
    {
      "cell_type": "code",
      "source": [
        "def assess_the_name(my_name):\n",
        "  if len( my_name ) >= 20:\n",
        "    print( 'That\\'s a long name you\\'ve got there!' )\n",
        "    print( 'It is ' + str( len( my_name ) ) + ' characters long.' )\n",
        "    print( 'You should change it...' )\n",
        "  elif len( my_name) >= 10:\n",
        "    print( 'That\\'s a reasonable length' )\n",
        "  else:\n",
        "    print( 'Way too short!' )"
      ],
      "metadata": {
        "id": "fwXrQR22ccnZ"
      },
      "execution_count": null,
      "outputs": []
    },
    {
      "cell_type": "code",
      "source": [
        "assess_the_name('Justin Betts')"
      ],
      "metadata": {
        "colab": {
          "base_uri": "https://localhost:8080/"
        },
        "id": "YWH16UeadVw8",
        "outputId": "99bbe782-c87d-49e3-bcc5-1cab1b36796c"
      },
      "execution_count": null,
      "outputs": [
        {
          "output_type": "stream",
          "name": "stdout",
          "text": [
            "That's a reasonable length\n"
          ]
        }
      ]
    },
    {
      "cell_type": "markdown",
      "source": [
        "Shows that you override a function when you define it twice."
      ],
      "metadata": {
        "id": "gevtjnfhfcDE"
      }
    },
    {
      "cell_type": "code",
      "source": [
        "a_thing = 'bob'\n",
        "a_thing = 'tail'\n",
        "print( a_thing )"
      ],
      "metadata": {
        "colab": {
          "base_uri": "https://localhost:8080/"
        },
        "id": "ClFOTokRfVNh",
        "outputId": "ac3b7d10-d59b-4ef9-8ccb-ab7325565a7d"
      },
      "execution_count": null,
      "outputs": [
        {
          "output_type": "stream",
          "name": "stdout",
          "text": [
            "tail\n"
          ]
        }
      ]
    },
    {
      "cell_type": "markdown",
      "source": [
        "Take the original given and modify it. Order matters.\n",
        "\n"
      ],
      "metadata": {
        "id": "XRu6Y3QWf9Xi"
      }
    },
    {
      "cell_type": "code",
      "source": [
        "a_thing = 'bob'\n",
        "print( a_thing )\n",
        "a_thing = a_thing + 'tail'\n",
        "print( a_thing )"
      ],
      "metadata": {
        "colab": {
          "base_uri": "https://localhost:8080/"
        },
        "outputId": "933aebf3-1f2e-44d3-927e-cc54bb89d2e5",
        "id": "_bFmqPBif3jg"
      },
      "execution_count": null,
      "outputs": [
        {
          "output_type": "stream",
          "name": "stdout",
          "text": [
            "bob\n",
            "bobtail\n"
          ]
        }
      ]
    },
    {
      "cell_type": "markdown",
      "source": [
        "Shortcut for the the above."
      ],
      "metadata": {
        "id": "HC_NC0ScgcCB"
      }
    },
    {
      "cell_type": "code",
      "source": [
        "a_thing = 'bob'\n",
        "a_thing += 'tail'\n",
        "print( a_thing )"
      ],
      "metadata": {
        "colab": {
          "base_uri": "https://localhost:8080/"
        },
        "id": "axUpqWMzgXq-",
        "outputId": "ce69943f-157c-4928-ebe9-5a85ef98e996"
      },
      "execution_count": null,
      "outputs": [
        {
          "output_type": "stream",
          "name": "stdout",
          "text": [
            "bobtail\n"
          ]
        }
      ]
    },
    {
      "cell_type": "code",
      "source": [
        "def assess_the_name(my_name):\n",
        "  response = ''\n",
        "  if len( my_name ) >= 20:\n",
        "    response += 'That\\'s a long name you\\'ve got there!\\n'\n",
        "    response += 'It is ' + str( len( my_name ) ) + ' characters long.\\n'\n",
        "    response += 'You should change it...'\n",
        "  elif len( my_name) >= 10:\n",
        "    response += 'That\\'s a reasonable length'\n",
        "  else:\n",
        "    response += 'Way too short!'\n",
        "\n",
        "  return response"
      ],
      "metadata": {
        "id": "q-sHi2b3d58N"
      },
      "execution_count": null,
      "outputs": []
    },
    {
      "cell_type": "code",
      "source": [
        "assess_the_name( 'Justin Charles Betts' )"
      ],
      "metadata": {
        "colab": {
          "base_uri": "https://localhost:8080/",
          "height": 35
        },
        "id": "oriKHSJMh7SC",
        "outputId": "d679ba16-f7e7-4f72-9f1e-4aedb630465f"
      },
      "execution_count": null,
      "outputs": [
        {
          "output_type": "execute_result",
          "data": {
            "text/plain": [
              "\"That's a long name you've got there!\\nIt is 20 characters long.\\nYou should change it...\\n\""
            ],
            "application/vnd.google.colaboratory.intrinsic+json": {
              "type": "string"
            }
          },
          "metadata": {},
          "execution_count": 23
        }
      ]
    },
    {
      "cell_type": "code",
      "source": [
        "print( assess_the_name( 'Justin Charles Betts' ) )"
      ],
      "metadata": {
        "colab": {
          "base_uri": "https://localhost:8080/"
        },
        "id": "-bQN2FOhiWlN",
        "outputId": "33844beb-1c1f-47f9-c56e-1e9d38c8a302"
      },
      "execution_count": null,
      "outputs": [
        {
          "output_type": "stream",
          "name": "stdout",
          "text": [
            "That's a long name you've got there!\n",
            "It is 20 characters long.\n",
            "You should change it...\n",
            "\n"
          ]
        }
      ]
    },
    {
      "cell_type": "markdown",
      "source": [
        "Global Variable is set, but local variable is not. Needs an input to \"define\" the function. Things inside the function are not easily accessable outside the function."
      ],
      "metadata": {
        "id": "RsO2-RqokE-S"
      }
    },
    {
      "cell_type": "code",
      "source": [
        "print( my_name )"
      ],
      "metadata": {
        "colab": {
          "base_uri": "https://localhost:8080/",
          "height": 181
        },
        "id": "BGvb-MuYj5cj",
        "outputId": "29da9ea2-78b6-462c-be7e-afb9a59d685a"
      },
      "execution_count": null,
      "outputs": [
        {
          "output_type": "error",
          "ename": "NameError",
          "evalue": "name 'my_name' is not defined",
          "traceback": [
            "\u001b[0;31m---------------------------------------------------------------------------\u001b[0m",
            "\u001b[0;31mNameError\u001b[0m                                 Traceback (most recent call last)",
            "\u001b[0;32m<ipython-input-25-da12d59073b8>\u001b[0m in \u001b[0;36m<cell line: 1>\u001b[0;34m()\u001b[0m\n\u001b[0;32m----> 1\u001b[0;31m \u001b[0mprint\u001b[0m\u001b[0;34m(\u001b[0m \u001b[0mmy_name\u001b[0m \u001b[0;34m)\u001b[0m\u001b[0;34m\u001b[0m\u001b[0;34m\u001b[0m\u001b[0m\n\u001b[0m",
            "\u001b[0;31mNameError\u001b[0m: name 'my_name' is not defined"
          ]
        }
      ]
    },
    {
      "cell_type": "markdown",
      "source": [
        "1.4 Quiz"
      ],
      "metadata": {
        "id": "tmr73UBOlGx7"
      }
    },
    {
      "cell_type": "code",
      "source": [
        "x=3\n",
        "def f(x):\n",
        "  if x>1:\n",
        "    y=x*f(x-1)\n",
        "  else:\n",
        "    y=1\n",
        "  return y"
      ],
      "metadata": {
        "id": "1ixQ9mXrlIv_"
      },
      "execution_count": null,
      "outputs": []
    },
    {
      "cell_type": "code",
      "source": [
        "def circle_area(r):\n",
        "    return r**2*3.1415\n",
        "thisone = 5\n",
        "print(str(circle_area(thisone)) + ', ' + str(r))"
      ],
      "metadata": {
        "colab": {
          "base_uri": "https://localhost:8080/",
          "height": 218
        },
        "id": "erhq7UY8mZCO",
        "outputId": "b7c4fdaa-c680-4e75-d90d-17fe233a23cd"
      },
      "execution_count": null,
      "outputs": [
        {
          "output_type": "error",
          "ename": "NameError",
          "evalue": "name 'r' is not defined",
          "traceback": [
            "\u001b[0;31m---------------------------------------------------------------------------\u001b[0m",
            "\u001b[0;31mNameError\u001b[0m                                 Traceback (most recent call last)",
            "\u001b[0;32m<ipython-input-37-33af822b2de3>\u001b[0m in \u001b[0;36m<cell line: 4>\u001b[0;34m()\u001b[0m\n\u001b[1;32m      2\u001b[0m     \u001b[0;32mreturn\u001b[0m \u001b[0mr\u001b[0m\u001b[0;34m**\u001b[0m\u001b[0;36m2\u001b[0m\u001b[0;34m*\u001b[0m\u001b[0;36m3.1415\u001b[0m\u001b[0;34m\u001b[0m\u001b[0;34m\u001b[0m\u001b[0m\n\u001b[1;32m      3\u001b[0m \u001b[0mthisone\u001b[0m \u001b[0;34m=\u001b[0m \u001b[0;36m5\u001b[0m\u001b[0;34m\u001b[0m\u001b[0;34m\u001b[0m\u001b[0m\n\u001b[0;32m----> 4\u001b[0;31m \u001b[0mprint\u001b[0m\u001b[0;34m(\u001b[0m\u001b[0mstr\u001b[0m\u001b[0;34m(\u001b[0m\u001b[0mcircle_area\u001b[0m\u001b[0;34m(\u001b[0m\u001b[0mthisone\u001b[0m\u001b[0;34m)\u001b[0m\u001b[0;34m)\u001b[0m \u001b[0;34m+\u001b[0m \u001b[0;34m', '\u001b[0m \u001b[0;34m+\u001b[0m \u001b[0mstr\u001b[0m\u001b[0;34m(\u001b[0m\u001b[0mr\u001b[0m\u001b[0;34m)\u001b[0m\u001b[0;34m)\u001b[0m\u001b[0;34m\u001b[0m\u001b[0;34m\u001b[0m\u001b[0m\n\u001b[0m",
            "\u001b[0;31mNameError\u001b[0m: name 'r' is not defined"
          ]
        }
      ]
    },
    {
      "cell_type": "markdown",
      "source": [
        "## Module 1.5: Lists and Dictionaries"
      ],
      "metadata": {
        "id": "ObRTwxKhm1OY"
      }
    },
    {
      "cell_type": "code",
      "source": [
        "users = [ 'Alice', 'Bob', 'Charlie', 'Dutch', 'Eve', 'Frank', 'Bob', 'Zeno' ]"
      ],
      "metadata": {
        "id": "lAXXuIkAG2IB"
      },
      "execution_count": null,
      "outputs": []
    },
    {
      "cell_type": "code",
      "source": [
        "users"
      ],
      "metadata": {
        "colab": {
          "base_uri": "https://localhost:8080/"
        },
        "id": "uQSpTJU5HHcT",
        "outputId": "868bd69f-9076-40bd-cf17-2a28235dcb28"
      },
      "execution_count": null,
      "outputs": [
        {
          "output_type": "execute_result",
          "data": {
            "text/plain": [
              "['Alice', 'Bob', 'Charlie', 'Dutch', 'Eve', 'Frank', 'Bob', 'Zeno']"
            ]
          },
          "metadata": {},
          "execution_count": 2
        }
      ]
    },
    {
      "cell_type": "code",
      "source": [
        "len(users)"
      ],
      "metadata": {
        "colab": {
          "base_uri": "https://localhost:8080/"
        },
        "id": "wrN7lqQgHORj",
        "outputId": "28c4af61-9208-483e-ccd0-c7a707b2968b"
      },
      "execution_count": null,
      "outputs": [
        {
          "output_type": "execute_result",
          "data": {
            "text/plain": [
              "8"
            ]
          },
          "metadata": {},
          "execution_count": 3
        }
      ]
    },
    {
      "cell_type": "code",
      "source": [
        "users[4]"
      ],
      "metadata": {
        "colab": {
          "base_uri": "https://localhost:8080/",
          "height": 35
        },
        "id": "NZ5EAeymHTSN",
        "outputId": "9a22bfad-19c2-47b5-8c71-eef524a4bda9"
      },
      "execution_count": null,
      "outputs": [
        {
          "output_type": "execute_result",
          "data": {
            "text/plain": [
              "'Eve'"
            ],
            "application/vnd.google.colaboratory.intrinsic+json": {
              "type": "string"
            }
          },
          "metadata": {},
          "execution_count": 4
        }
      ]
    },
    {
      "cell_type": "code",
      "source": [
        "users[0]"
      ],
      "metadata": {
        "colab": {
          "base_uri": "https://localhost:8080/",
          "height": 35
        },
        "id": "olG0yDKNHYLi",
        "outputId": "23e7cb6b-3ece-4113-fec1-ea308aae6ec9"
      },
      "execution_count": null,
      "outputs": [
        {
          "output_type": "execute_result",
          "data": {
            "text/plain": [
              "'Alice'"
            ],
            "application/vnd.google.colaboratory.intrinsic+json": {
              "type": "string"
            }
          },
          "metadata": {},
          "execution_count": 5
        }
      ]
    },
    {
      "cell_type": "code",
      "source": [
        "users[-3]"
      ],
      "metadata": {
        "colab": {
          "base_uri": "https://localhost:8080/",
          "height": 35
        },
        "id": "GATpe-v_Hddp",
        "outputId": "f49c77b3-b4ca-4b58-d190-4cffdd93ccb8"
      },
      "execution_count": null,
      "outputs": [
        {
          "output_type": "execute_result",
          "data": {
            "text/plain": [
              "'Frank'"
            ],
            "application/vnd.google.colaboratory.intrinsic+json": {
              "type": "string"
            }
          },
          "metadata": {},
          "execution_count": 7
        }
      ]
    },
    {
      "cell_type": "code",
      "source": [
        "users.count('Bob')"
      ],
      "metadata": {
        "colab": {
          "base_uri": "https://localhost:8080/"
        },
        "id": "OXpVH7J7HnsH",
        "outputId": "92a32488-91cf-4821-d473-c291632d429b"
      },
      "execution_count": null,
      "outputs": [
        {
          "output_type": "execute_result",
          "data": {
            "text/plain": [
              "2"
            ]
          },
          "metadata": {},
          "execution_count": 10
        }
      ]
    },
    {
      "cell_type": "code",
      "source": [
        "users.count('Justin')"
      ],
      "metadata": {
        "colab": {
          "base_uri": "https://localhost:8080/"
        },
        "id": "tRNNT5HOHwaK",
        "outputId": "e0bef88e-da9b-4ff3-ec08-4843c4670d88"
      },
      "execution_count": null,
      "outputs": [
        {
          "output_type": "execute_result",
          "data": {
            "text/plain": [
              "0"
            ]
          },
          "metadata": {},
          "execution_count": 11
        }
      ]
    },
    {
      "cell_type": "code",
      "source": [
        "users.sort()"
      ],
      "metadata": {
        "id": "IeJvmmErICJg"
      },
      "execution_count": null,
      "outputs": []
    },
    {
      "cell_type": "code",
      "source": [
        "users"
      ],
      "metadata": {
        "colab": {
          "base_uri": "https://localhost:8080/"
        },
        "id": "G9JMxy8WIG23",
        "outputId": "2e4344ba-cf49-435f-a3e7-a2ed9d77ab01"
      },
      "execution_count": null,
      "outputs": [
        {
          "output_type": "execute_result",
          "data": {
            "text/plain": [
              "['Alice', 'Bob', 'Bob', 'Charlie', 'Dutch', 'Eve', 'Frank', 'Zeno']"
            ]
          },
          "metadata": {},
          "execution_count": 13
        }
      ]
    },
    {
      "cell_type": "code",
      "source": [
        "users.reverse()"
      ],
      "metadata": {
        "id": "bvQT0_VEIHb6"
      },
      "execution_count": null,
      "outputs": []
    },
    {
      "cell_type": "code",
      "source": [
        "users"
      ],
      "metadata": {
        "colab": {
          "base_uri": "https://localhost:8080/"
        },
        "id": "qoeFezExIM8T",
        "outputId": "a40afbf2-3033-49bf-b6c7-53f0a95ef67b"
      },
      "execution_count": null,
      "outputs": [
        {
          "output_type": "execute_result",
          "data": {
            "text/plain": [
              "['Zeno', 'Frank', 'Eve', 'Dutch', 'Charlie', 'Bob', 'Bob', 'Alice']"
            ]
          },
          "metadata": {},
          "execution_count": 15
        }
      ]
    },
    {
      "cell_type": "code",
      "source": [
        "users.index('Dutch')"
      ],
      "metadata": {
        "colab": {
          "base_uri": "https://localhost:8080/"
        },
        "id": "93m_kMpFINbS",
        "outputId": "042c397b-57cd-48ee-cd12-09adab2a4804"
      },
      "execution_count": null,
      "outputs": [
        {
          "output_type": "execute_result",
          "data": {
            "text/plain": [
              "3"
            ]
          },
          "metadata": {},
          "execution_count": 17
        }
      ]
    },
    {
      "cell_type": "code",
      "source": [
        "users.append('George')"
      ],
      "metadata": {
        "id": "BeLwO_GoISoC"
      },
      "execution_count": null,
      "outputs": []
    },
    {
      "cell_type": "code",
      "source": [
        "users"
      ],
      "metadata": {
        "colab": {
          "base_uri": "https://localhost:8080/"
        },
        "id": "JUJHOV_oIt2q",
        "outputId": "71cda3f8-6f2e-487c-95a1-17c08c09820d"
      },
      "execution_count": null,
      "outputs": [
        {
          "output_type": "execute_result",
          "data": {
            "text/plain": [
              "['Zeno', 'Frank', 'Eve', 'Dutch', 'Charlie', 'Bob', 'Bob', 'Alice', 'George']"
            ]
          },
          "metadata": {},
          "execution_count": 19
        }
      ]
    },
    {
      "cell_type": "code",
      "source": [
        "users += 'Harry'"
      ],
      "metadata": {
        "id": "vHQwxf6oIunQ"
      },
      "execution_count": null,
      "outputs": []
    },
    {
      "cell_type": "code",
      "source": [
        "users"
      ],
      "metadata": {
        "colab": {
          "base_uri": "https://localhost:8080/"
        },
        "id": "ZP-Nt0QTI81Q",
        "outputId": "2ebaf663-edb2-463e-882d-6139dc7b951a"
      },
      "execution_count": null,
      "outputs": [
        {
          "output_type": "execute_result",
          "data": {
            "text/plain": [
              "['Zeno',\n",
              " 'Frank',\n",
              " 'Eve',\n",
              " 'Dutch',\n",
              " 'Charlie',\n",
              " 'Bob',\n",
              " 'Bob',\n",
              " 'Alice',\n",
              " 'George',\n",
              " 'H',\n",
              " 'a',\n",
              " 'r',\n",
              " 'r',\n",
              " 'y']"
            ]
          },
          "metadata": {},
          "execution_count": 21
        }
      ]
    },
    {
      "cell_type": "code",
      "source": [
        "myname = 'Harry'"
      ],
      "metadata": {
        "id": "UefDLab2I99D"
      },
      "execution_count": null,
      "outputs": []
    },
    {
      "cell_type": "code",
      "source": [
        "users"
      ],
      "metadata": {
        "colab": {
          "base_uri": "https://localhost:8080/"
        },
        "id": "fBK-V4X4JUYY",
        "outputId": "75f2852c-17af-487a-c1ff-3efb7a9cccac"
      },
      "execution_count": null,
      "outputs": [
        {
          "output_type": "execute_result",
          "data": {
            "text/plain": [
              "['Alice', 'Bob', 'Charlie', 'Dutch', 'Eve', 'Frank', 'Bob', 'Zeno']"
            ]
          },
          "metadata": {},
          "execution_count": 24
        }
      ]
    },
    {
      "cell_type": "code",
      "source": [
        "users[ 1:5 ]"
      ],
      "metadata": {
        "colab": {
          "base_uri": "https://localhost:8080/"
        },
        "id": "xPf0iJ6eJbN7",
        "outputId": "0ce424a0-259c-4787-a33f-d4d92e5be556"
      },
      "execution_count": null,
      "outputs": [
        {
          "output_type": "execute_result",
          "data": {
            "text/plain": [
              "['Bob', 'Charlie', 'Dutch', 'Eve']"
            ]
          },
          "metadata": {},
          "execution_count": 25
        }
      ]
    },
    {
      "cell_type": "code",
      "source": [
        "users[ 1: ]"
      ],
      "metadata": {
        "colab": {
          "base_uri": "https://localhost:8080/"
        },
        "id": "_4WLL0PnJfMA",
        "outputId": "43c2d831-6b54-459c-cb63-e7e9347a5c66"
      },
      "execution_count": null,
      "outputs": [
        {
          "output_type": "execute_result",
          "data": {
            "text/plain": [
              "['Bob', 'Charlie', 'Dutch', 'Eve', 'Frank', 'Bob', 'Zeno']"
            ]
          },
          "metadata": {},
          "execution_count": 26
        }
      ]
    },
    {
      "cell_type": "code",
      "source": [
        "users[ :4]"
      ],
      "metadata": {
        "colab": {
          "base_uri": "https://localhost:8080/"
        },
        "id": "jiolMRGjJo29",
        "outputId": "79ba1840-adc5-4c21-ef42-0e2a3a3fc6a7"
      },
      "execution_count": null,
      "outputs": [
        {
          "output_type": "execute_result",
          "data": {
            "text/plain": [
              "['Alice', 'Bob', 'Charlie', 'Dutch']"
            ]
          },
          "metadata": {},
          "execution_count": 27
        }
      ]
    },
    {
      "cell_type": "code",
      "source": [
        "users[ :-1 ]"
      ],
      "metadata": {
        "colab": {
          "base_uri": "https://localhost:8080/"
        },
        "id": "O8s7mPudJqdA",
        "outputId": "f6bf33d0-c19c-4af6-c06f-4d534d949d78"
      },
      "execution_count": null,
      "outputs": [
        {
          "output_type": "execute_result",
          "data": {
            "text/plain": [
              "['Alice', 'Bob', 'Charlie', 'Dutch', 'Eve', 'Frank', 'Bob']"
            ]
          },
          "metadata": {},
          "execution_count": 28
        }
      ]
    },
    {
      "cell_type": "code",
      "source": [
        "age = {'Alice':22, 'Bob':65, 'Charlie':4, 'Dutch':14 }"
      ],
      "metadata": {
        "id": "yFdaDQBuJtaA"
      },
      "execution_count": null,
      "outputs": []
    },
    {
      "cell_type": "code",
      "source": [
        "age"
      ],
      "metadata": {
        "colab": {
          "base_uri": "https://localhost:8080/"
        },
        "id": "ksOcFCHJKOrh",
        "outputId": "544315e0-fe02-4e07-d33f-59a93f185bdd"
      },
      "execution_count": null,
      "outputs": [
        {
          "output_type": "execute_result",
          "data": {
            "text/plain": [
              "{'Alice': 22, 'Bob': 65, 'Charlie': 4, 'Dutch': 14}"
            ]
          },
          "metadata": {},
          "execution_count": 32
        }
      ]
    },
    {
      "cell_type": "code",
      "source": [
        "age[ 'Bob' ]"
      ],
      "metadata": {
        "colab": {
          "base_uri": "https://localhost:8080/"
        },
        "id": "V7Vp-n-xKcxr",
        "outputId": "fcc9da96-1be1-4556-a13a-77293e2c3308"
      },
      "execution_count": null,
      "outputs": [
        {
          "output_type": "execute_result",
          "data": {
            "text/plain": [
              "65"
            ]
          },
          "metadata": {},
          "execution_count": 34
        }
      ]
    },
    {
      "cell_type": "code",
      "source": [
        "grades = {}"
      ],
      "metadata": {
        "id": "msGScnb0KoTA"
      },
      "execution_count": null,
      "outputs": []
    },
    {
      "cell_type": "code",
      "source": [
        "grades[ 'Alex' ]=[ \"A\", \"D\", \"C\" ]"
      ],
      "metadata": {
        "id": "0nzpAW0zLA7E"
      },
      "execution_count": null,
      "outputs": []
    },
    {
      "cell_type": "code",
      "source": [
        "grades"
      ],
      "metadata": {
        "colab": {
          "base_uri": "https://localhost:8080/"
        },
        "id": "qcN-hp-4LPMh",
        "outputId": "97b067e3-0edb-4493-ab71-224bc40255b1"
      },
      "execution_count": null,
      "outputs": [
        {
          "output_type": "execute_result",
          "data": {
            "text/plain": [
              "{'Alex': ['A', 'D', 'C']}"
            ]
          },
          "metadata": {},
          "execution_count": 38
        }
      ]
    },
    {
      "cell_type": "code",
      "source": [
        "grades['Alex'][0]"
      ],
      "metadata": {
        "colab": {
          "base_uri": "https://localhost:8080/",
          "height": 35
        },
        "id": "eJBTTuWULPwG",
        "outputId": "944f76ec-d6e0-4858-c386-473c0dddc57e"
      },
      "execution_count": null,
      "outputs": [
        {
          "output_type": "execute_result",
          "data": {
            "text/plain": [
              "'A'"
            ],
            "application/vnd.google.colaboratory.intrinsic+json": {
              "type": "string"
            }
          },
          "metadata": {},
          "execution_count": 39
        }
      ]
    },
    {
      "cell_type": "code",
      "source": [
        "grades['Alex'].count('C')"
      ],
      "metadata": {
        "colab": {
          "base_uri": "https://localhost:8080/"
        },
        "id": "tfTYjY2nLbST",
        "outputId": "a2c01e04-a505-4696-d69e-b819e1fced68"
      },
      "execution_count": null,
      "outputs": [
        {
          "output_type": "execute_result",
          "data": {
            "text/plain": [
              "1"
            ]
          },
          "metadata": {},
          "execution_count": 40
        }
      ]
    },
    {
      "cell_type": "markdown",
      "source": [
        "1.5 Quiz"
      ],
      "metadata": {
        "id": "_Jxs3LmlL3yj"
      }
    },
    {
      "cell_type": "code",
      "source": [
        "my_list = ['Alice','Bill','Caterpillar','Dormouse']"
      ],
      "metadata": {
        "id": "jtibbJthL5UX"
      },
      "execution_count": null,
      "outputs": []
    },
    {
      "cell_type": "code",
      "source": [
        "my_list[1:-1]"
      ],
      "metadata": {
        "colab": {
          "base_uri": "https://localhost:8080/"
        },
        "id": "TIEyrGh0MOxo",
        "outputId": "0b42f0d6-1a0b-4184-b291-3d2f94b701ac"
      },
      "execution_count": null,
      "outputs": [
        {
          "output_type": "execute_result",
          "data": {
            "text/plain": [
              "['Bill', 'Caterpillar']"
            ]
          },
          "metadata": {},
          "execution_count": 79
        }
      ]
    },
    {
      "cell_type": "code",
      "source": [
        "pairs = {}"
      ],
      "metadata": {
        "id": "82YI8RiGMUmk"
      },
      "execution_count": null,
      "outputs": []
    },
    {
      "cell_type": "code",
      "source": [
        "pairs.append('alex')"
      ],
      "metadata": {
        "colab": {
          "base_uri": "https://localhost:8080/",
          "height": 181
        },
        "id": "dBcvPz06Mbbg",
        "outputId": "23a0cbf3-32d5-4b10-9c39-b49c22d2be0c"
      },
      "execution_count": null,
      "outputs": [
        {
          "output_type": "error",
          "ename": "AttributeError",
          "evalue": "'dict' object has no attribute 'append'",
          "traceback": [
            "\u001b[0;31m---------------------------------------------------------------------------\u001b[0m",
            "\u001b[0;31mAttributeError\u001b[0m                            Traceback (most recent call last)",
            "\u001b[0;32m<ipython-input-47-88f8967dab1b>\u001b[0m in \u001b[0;36m<cell line: 1>\u001b[0;34m()\u001b[0m\n\u001b[0;32m----> 1\u001b[0;31m \u001b[0mpairs\u001b[0m\u001b[0;34m.\u001b[0m\u001b[0mappend\u001b[0m\u001b[0;34m(\u001b[0m\u001b[0;34m'alex'\u001b[0m\u001b[0;34m)\u001b[0m\u001b[0;34m\u001b[0m\u001b[0;34m\u001b[0m\u001b[0m\n\u001b[0m",
            "\u001b[0;31mAttributeError\u001b[0m: 'dict' object has no attribute 'append'"
          ]
        }
      ]
    },
    {
      "cell_type": "code",
      "source": [
        "pairs"
      ],
      "metadata": {
        "colab": {
          "base_uri": "https://localhost:8080/"
        },
        "id": "RrCZyXfgMi5m",
        "outputId": "3fbf87d8-1676-4083-ff6a-a82104eb0d82"
      },
      "execution_count": null,
      "outputs": [
        {
          "output_type": "execute_result",
          "data": {
            "text/plain": [
              "{}"
            ]
          },
          "metadata": {},
          "execution_count": 56
        }
      ]
    },
    {
      "cell_type": "code",
      "source": [
        "pairs.append('alex')"
      ],
      "metadata": {
        "colab": {
          "base_uri": "https://localhost:8080/",
          "height": 181
        },
        "id": "NYoGqCLbM15_",
        "outputId": "9cf0f9cb-b9b6-404c-f602-71f97d1e305c"
      },
      "execution_count": null,
      "outputs": [
        {
          "output_type": "error",
          "ename": "AttributeError",
          "evalue": "'dict' object has no attribute 'append'",
          "traceback": [
            "\u001b[0;31m---------------------------------------------------------------------------\u001b[0m",
            "\u001b[0;31mAttributeError\u001b[0m                            Traceback (most recent call last)",
            "\u001b[0;32m<ipython-input-50-88f8967dab1b>\u001b[0m in \u001b[0;36m<cell line: 1>\u001b[0;34m()\u001b[0m\n\u001b[0;32m----> 1\u001b[0;31m \u001b[0mpairs\u001b[0m\u001b[0;34m.\u001b[0m\u001b[0mappend\u001b[0m\u001b[0;34m(\u001b[0m\u001b[0;34m'alex'\u001b[0m\u001b[0;34m)\u001b[0m\u001b[0;34m\u001b[0m\u001b[0;34m\u001b[0m\u001b[0m\n\u001b[0m",
            "\u001b[0;31mAttributeError\u001b[0m: 'dict' object has no attribute 'append'"
          ]
        }
      ]
    },
    {
      "cell_type": "code",
      "source": [
        "temps = {}"
      ],
      "metadata": {
        "id": "XU_2kzvSM7KI"
      },
      "execution_count": null,
      "outputs": []
    },
    {
      "cell_type": "code",
      "source": [
        "temps['Phoenix'] = [101,109,104,103]"
      ],
      "metadata": {
        "id": "cyBd6lC4NB-1"
      },
      "execution_count": null,
      "outputs": []
    },
    {
      "cell_type": "code",
      "source": [
        "temps['Phoenix'].append(99)"
      ],
      "metadata": {
        "id": "4eNqVTJANLyW"
      },
      "execution_count": null,
      "outputs": []
    },
    {
      "cell_type": "code",
      "source": [
        "print(temps['Phoenix'][-1])"
      ],
      "metadata": {
        "colab": {
          "base_uri": "https://localhost:8080/"
        },
        "id": "Ug-8pNLCNScE",
        "outputId": "2d4ca628-71ef-4554-c0dd-02866f4e009c"
      },
      "execution_count": null,
      "outputs": [
        {
          "output_type": "stream",
          "name": "stdout",
          "text": [
            "99\n"
          ]
        }
      ]
    },
    {
      "cell_type": "code",
      "source": [
        "print(my_list[3])"
      ],
      "metadata": {
        "colab": {
          "base_uri": "https://localhost:8080/"
        },
        "id": "E6nCfqiKNkWY",
        "outputId": "cc6335f4-6317-443a-8568-879435cfdfbc"
      },
      "execution_count": null,
      "outputs": [
        {
          "output_type": "stream",
          "name": "stdout",
          "text": [
            "Dormouse\n"
          ]
        }
      ]
    },
    {
      "cell_type": "code",
      "source": [
        "my_list.reverse()"
      ],
      "metadata": {
        "id": "zr3fxo9MN2tw"
      },
      "execution_count": null,
      "outputs": []
    },
    {
      "cell_type": "code",
      "source": [
        "my_list"
      ],
      "metadata": {
        "colab": {
          "base_uri": "https://localhost:8080/"
        },
        "id": "P4Y5YR2JN5KD",
        "outputId": "d1fc0dcf-6c01-428a-d26d-d39d5eb75b0f"
      },
      "execution_count": null,
      "outputs": [
        {
          "output_type": "execute_result",
          "data": {
            "text/plain": [
              "['Dormouse', 'Caterpillar', 'Bill', 'Alice']"
            ]
          },
          "metadata": {},
          "execution_count": 60
        }
      ]
    },
    {
      "cell_type": "code",
      "source": [],
      "metadata": {
        "id": "ZBOTKf_nN5wr"
      },
      "execution_count": null,
      "outputs": []
    },
    {
      "cell_type": "markdown",
      "source": [
        "## Module 1.6: Iteration"
      ],
      "metadata": {
        "id": "xpTMQTLiPJoe"
      }
    },
    {
      "cell_type": "markdown",
      "source": [
        "If Loops:"
      ],
      "metadata": {
        "id": "K1yYS2fxU8j6"
      }
    },
    {
      "cell_type": "code",
      "source": [
        "users = [ 'Alice', 'Bob', 'Charlie', 'Dutch', 'Eve', 'Frank', 'Bob', 'Zeno']"
      ],
      "metadata": {
        "id": "G9JIjpAlPQz4"
      },
      "execution_count": null,
      "outputs": []
    },
    {
      "cell_type": "code",
      "source": [
        "print(users)"
      ],
      "metadata": {
        "colab": {
          "base_uri": "https://localhost:8080/"
        },
        "id": "ndbOaVM0Pqpw",
        "outputId": "f482016e-3aa9-4cf0-d735-9ac3d6a74b0d"
      },
      "execution_count": null,
      "outputs": [
        {
          "output_type": "stream",
          "name": "stdout",
          "text": [
            "['Alice', 'Bob', 'Charlie', 'Dutch', 'Eve', 'Frank', 'Bob', 'Zeno']\n"
          ]
        }
      ]
    },
    {
      "cell_type": "code",
      "source": [
        "users"
      ],
      "metadata": {
        "colab": {
          "base_uri": "https://localhost:8080/"
        },
        "id": "CU-QjusXPuKm",
        "outputId": "34635870-5ed6-48e8-d228-575f589109e6"
      },
      "execution_count": null,
      "outputs": [
        {
          "output_type": "execute_result",
          "data": {
            "text/plain": [
              "['Alice', 'Bob', 'Charlie', 'Dutch', 'Eve', 'Frank', 'Bob', 'Zeno']"
            ]
          },
          "metadata": {},
          "execution_count": 63
        }
      ]
    },
    {
      "cell_type": "code",
      "source": [
        "for eachuser in users:\n",
        "  print( eachuser)\n",
        "  print( '--------' )"
      ],
      "metadata": {
        "colab": {
          "base_uri": "https://localhost:8080/"
        },
        "id": "9FLNXWfRPvpK",
        "outputId": "bc89efb1-2e6a-4dae-c7ed-af6f43c556c9"
      },
      "execution_count": null,
      "outputs": [
        {
          "output_type": "stream",
          "name": "stdout",
          "text": [
            "Alice\n",
            "--------\n",
            "Bob\n",
            "--------\n",
            "Charlie\n",
            "--------\n",
            "Dutch\n",
            "--------\n",
            "Eve\n",
            "--------\n",
            "Frank\n",
            "--------\n",
            "Bob\n",
            "--------\n",
            "Zeno\n",
            "--------\n"
          ]
        }
      ]
    },
    {
      "cell_type": "code",
      "source": [
        "for eachuser in users:\n",
        "  for date in users:\n",
        "    print( eachuser + ' is dating ' + date )"
      ],
      "metadata": {
        "colab": {
          "base_uri": "https://localhost:8080/"
        },
        "id": "Hz-n3wUpRH6C",
        "outputId": "6b4535fd-e12b-4085-bcc6-4afc0d71ff43"
      },
      "execution_count": null,
      "outputs": [
        {
          "output_type": "stream",
          "name": "stdout",
          "text": [
            "Alice is dating Alice\n",
            "Alice is dating Bob\n",
            "Alice is dating Charlie\n",
            "Alice is dating Dutch\n",
            "Alice is dating Eve\n",
            "Alice is dating Frank\n",
            "Alice is dating Bob\n",
            "Alice is dating Zeno\n",
            "Bob is dating Alice\n",
            "Bob is dating Bob\n",
            "Bob is dating Charlie\n",
            "Bob is dating Dutch\n",
            "Bob is dating Eve\n",
            "Bob is dating Frank\n",
            "Bob is dating Bob\n",
            "Bob is dating Zeno\n",
            "Charlie is dating Alice\n",
            "Charlie is dating Bob\n",
            "Charlie is dating Charlie\n",
            "Charlie is dating Dutch\n",
            "Charlie is dating Eve\n",
            "Charlie is dating Frank\n",
            "Charlie is dating Bob\n",
            "Charlie is dating Zeno\n",
            "Dutch is dating Alice\n",
            "Dutch is dating Bob\n",
            "Dutch is dating Charlie\n",
            "Dutch is dating Dutch\n",
            "Dutch is dating Eve\n",
            "Dutch is dating Frank\n",
            "Dutch is dating Bob\n",
            "Dutch is dating Zeno\n",
            "Eve is dating Alice\n",
            "Eve is dating Bob\n",
            "Eve is dating Charlie\n",
            "Eve is dating Dutch\n",
            "Eve is dating Eve\n",
            "Eve is dating Frank\n",
            "Eve is dating Bob\n",
            "Eve is dating Zeno\n",
            "Frank is dating Alice\n",
            "Frank is dating Bob\n",
            "Frank is dating Charlie\n",
            "Frank is dating Dutch\n",
            "Frank is dating Eve\n",
            "Frank is dating Frank\n",
            "Frank is dating Bob\n",
            "Frank is dating Zeno\n",
            "Bob is dating Alice\n",
            "Bob is dating Bob\n",
            "Bob is dating Charlie\n",
            "Bob is dating Dutch\n",
            "Bob is dating Eve\n",
            "Bob is dating Frank\n",
            "Bob is dating Bob\n",
            "Bob is dating Zeno\n",
            "Zeno is dating Alice\n",
            "Zeno is dating Bob\n",
            "Zeno is dating Charlie\n",
            "Zeno is dating Dutch\n",
            "Zeno is dating Eve\n",
            "Zeno is dating Frank\n",
            "Zeno is dating Bob\n",
            "Zeno is dating Zeno\n"
          ]
        }
      ]
    },
    {
      "cell_type": "code",
      "source": [
        "for eachuser in users:\n",
        "  for date in users:\n",
        "    if eachuser != date:\n",
        "      print( eachuser + ' is dating ' + date )"
      ],
      "metadata": {
        "colab": {
          "base_uri": "https://localhost:8080/"
        },
        "id": "d3PqsVROR5QQ",
        "outputId": "b9d8492f-b665-427b-f2b5-3c239caf1509"
      },
      "execution_count": null,
      "outputs": [
        {
          "output_type": "stream",
          "name": "stdout",
          "text": [
            "Alice is dating Bob\n",
            "Alice is dating Charlie\n",
            "Alice is dating Dutch\n",
            "Alice is dating Eve\n",
            "Alice is dating Frank\n",
            "Alice is dating Bob\n",
            "Alice is dating Zeno\n",
            "Bob is dating Alice\n",
            "Bob is dating Charlie\n",
            "Bob is dating Dutch\n",
            "Bob is dating Eve\n",
            "Bob is dating Frank\n",
            "Bob is dating Zeno\n",
            "Charlie is dating Alice\n",
            "Charlie is dating Bob\n",
            "Charlie is dating Dutch\n",
            "Charlie is dating Eve\n",
            "Charlie is dating Frank\n",
            "Charlie is dating Bob\n",
            "Charlie is dating Zeno\n",
            "Dutch is dating Alice\n",
            "Dutch is dating Bob\n",
            "Dutch is dating Charlie\n",
            "Dutch is dating Eve\n",
            "Dutch is dating Frank\n",
            "Dutch is dating Bob\n",
            "Dutch is dating Zeno\n",
            "Eve is dating Alice\n",
            "Eve is dating Bob\n",
            "Eve is dating Charlie\n",
            "Eve is dating Dutch\n",
            "Eve is dating Frank\n",
            "Eve is dating Bob\n",
            "Eve is dating Zeno\n",
            "Frank is dating Alice\n",
            "Frank is dating Bob\n",
            "Frank is dating Charlie\n",
            "Frank is dating Dutch\n",
            "Frank is dating Eve\n",
            "Frank is dating Bob\n",
            "Frank is dating Zeno\n",
            "Bob is dating Alice\n",
            "Bob is dating Charlie\n",
            "Bob is dating Dutch\n",
            "Bob is dating Eve\n",
            "Bob is dating Frank\n",
            "Bob is dating Zeno\n",
            "Zeno is dating Alice\n",
            "Zeno is dating Bob\n",
            "Zeno is dating Charlie\n",
            "Zeno is dating Dutch\n",
            "Zeno is dating Eve\n",
            "Zeno is dating Frank\n",
            "Zeno is dating Bob\n"
          ]
        }
      ]
    },
    {
      "cell_type": "code",
      "source": [
        "age = {'Alice':22, 'Bob':65, 'Charlie':1, 'Dutch':14 }"
      ],
      "metadata": {
        "id": "ROvC96ywSKPz"
      },
      "execution_count": null,
      "outputs": []
    },
    {
      "cell_type": "code",
      "source": [
        "for eachname, theirage in age.items():\n",
        "  if theirage = 1:\n",
        "    print( eachname + ' is ' + str(theirage) + ' years old.')\n",
        "  elif theirage < 2:\n",
        "    print( eachname + ' is ' + str(theirage) + ' year old.')"
      ],
      "metadata": {
        "colab": {
          "base_uri": "https://localhost:8080/"
        },
        "id": "TDxeKzxfTBdC",
        "outputId": "6d95beb8-c8a4-4e2c-e361-a8b6bdba06bb"
      },
      "execution_count": null,
      "outputs": [
        {
          "output_type": "stream",
          "name": "stdout",
          "text": [
            "Alice is 22 years old.\n",
            "Bob is 65 years old.\n",
            "Charlie is 1 year old.\n",
            "Dutch is 14 years old.\n"
          ]
        }
      ]
    },
    {
      "cell_type": "markdown",
      "source": [
        "While Loops"
      ],
      "metadata": {
        "id": "2DvDKga3U1VV"
      }
    },
    {
      "cell_type": "code",
      "source": [
        "x = 0\n",
        "while x <= 10:\n",
        "  print(x)\n",
        "  x += 1\n",
        "  if x == 50:\n",
        "    break\n"
      ],
      "metadata": {
        "colab": {
          "base_uri": "https://localhost:8080/"
        },
        "id": "E2Sm3Su7U2TP",
        "outputId": "56bb7d18-0720-40c9-a2fa-ebd1b5e87279"
      },
      "execution_count": null,
      "outputs": [
        {
          "output_type": "stream",
          "name": "stdout",
          "text": [
            "True\n",
            "2\n",
            "3\n",
            "4\n",
            "5\n",
            "6\n",
            "7\n",
            "8\n",
            "9\n",
            "10\n"
          ]
        }
      ]
    },
    {
      "cell_type": "code",
      "source": [
        "\n",
        "'pi' + 25\n"
      ],
      "metadata": {
        "colab": {
          "base_uri": "https://localhost:8080/",
          "height": 181
        },
        "id": "O09XmmLsWAbZ",
        "outputId": "1dcc39b2-fa7c-4c16-99ca-2b0ff59f168f"
      },
      "execution_count": null,
      "outputs": [
        {
          "output_type": "error",
          "ename": "TypeError",
          "evalue": "can only concatenate str (not \"int\") to str",
          "traceback": [
            "\u001b[0;31m---------------------------------------------------------------------------\u001b[0m",
            "\u001b[0;31mTypeError\u001b[0m                                 Traceback (most recent call last)",
            "\u001b[0;32m<ipython-input-83-caddbc67c1d7>\u001b[0m in \u001b[0;36m<cell line: 1>\u001b[0;34m()\u001b[0m\n\u001b[0;32m----> 1\u001b[0;31m \u001b[0;34m'pi'\u001b[0m \u001b[0;34m+\u001b[0m \u001b[0;36m25\u001b[0m\u001b[0;34m\u001b[0m\u001b[0;34m\u001b[0m\u001b[0m\n\u001b[0m",
            "\u001b[0;31mTypeError\u001b[0m: can only concatenate str (not \"int\") to str"
          ]
        }
      ]
    },
    {
      "cell_type": "markdown",
      "source": [
        "1.6 Quiz"
      ],
      "metadata": {
        "id": "CdUWxpKWYobh"
      }
    },
    {
      "cell_type": "code",
      "source": [
        "total = 0\n",
        "slices = [1,3,2,1]\n",
        "for eachperson in slices:\n",
        "  total += eachperson\n",
        "print(total)\n"
      ],
      "metadata": {
        "colab": {
          "base_uri": "https://localhost:8080/"
        },
        "id": "JYoTf-S6VSET",
        "outputId": "f15a7d45-9ccd-441b-d970-a2fbae6c5db1"
      },
      "execution_count": null,
      "outputs": [
        {
          "output_type": "stream",
          "name": "stdout",
          "text": [
            "7\n"
          ]
        }
      ]
    },
    {
      "cell_type": "code",
      "source": [
        "x = 10\n",
        "while x>0:\n",
        "  print(x)\n",
        "  x = -1"
      ],
      "metadata": {
        "colab": {
          "base_uri": "https://localhost:8080/"
        },
        "id": "kNJXBzsjYzGW",
        "outputId": "0363e112-d739-4881-9e8f-561688c56aef"
      },
      "execution_count": null,
      "outputs": [
        {
          "output_type": "stream",
          "name": "stdout",
          "text": [
            "10\n"
          ]
        }
      ]
    },
    {
      "cell_type": "code",
      "source": [
        "fams = ['bob',['jim','sarah'],['sorat','maria','candy'],'mukbir']\n",
        "n=0\n",
        "for eachfam in fams:\n",
        "    n +=1\n",
        "print(n)"
      ],
      "metadata": {
        "colab": {
          "base_uri": "https://localhost:8080/"
        },
        "id": "TEi0ugO0ZadV",
        "outputId": "736f6e5b-5544-443b-c1bf-eacec6187f98"
      },
      "execution_count": null,
      "outputs": [
        {
          "output_type": "stream",
          "name": "stdout",
          "text": [
            "4\n"
          ]
        }
      ]
    },
    {
      "cell_type": "markdown",
      "source": [
        "## Module 1.7: Including Modules"
      ],
      "metadata": {
        "id": "oOc5eQvoaEeR"
      }
    },
    {
      "cell_type": "code",
      "source": [
        "import math"
      ],
      "metadata": {
        "id": "qFHf7M3GaO-a"
      },
      "execution_count": null,
      "outputs": []
    },
    {
      "cell_type": "code",
      "source": [
        "math.pi"
      ],
      "metadata": {
        "colab": {
          "base_uri": "https://localhost:8080/"
        },
        "id": "2smSXp_NCzW_",
        "outputId": "bd256e1d-ba74-4ab2-b80f-97ee88252888"
      },
      "execution_count": null,
      "outputs": [
        {
          "output_type": "execute_result",
          "data": {
            "text/plain": [
              "3.141592653589793"
            ]
          },
          "metadata": {},
          "execution_count": 2
        }
      ]
    },
    {
      "cell_type": "code",
      "source": [
        "math.sqrt(25)"
      ],
      "metadata": {
        "colab": {
          "base_uri": "https://localhost:8080/"
        },
        "id": "v6rkI1PoC3T5",
        "outputId": "5cef3040-8719-4f01-ad88-dec7edbf8cbe"
      },
      "execution_count": null,
      "outputs": [
        {
          "output_type": "execute_result",
          "data": {
            "text/plain": [
              "5.0"
            ]
          },
          "metadata": {},
          "execution_count": 3
        }
      ]
    },
    {
      "cell_type": "code",
      "source": [
        "math.factorial(25)"
      ],
      "metadata": {
        "colab": {
          "base_uri": "https://localhost:8080/"
        },
        "id": "1R2Wb4t6C-DA",
        "outputId": "f3a0697c-b0f3-48b5-c12a-b61fe90c878f"
      },
      "execution_count": null,
      "outputs": [
        {
          "output_type": "execute_result",
          "data": {
            "text/plain": [
              "15511210043330985984000000"
            ]
          },
          "metadata": {},
          "execution_count": 4
        }
      ]
    },
    {
      "cell_type": "code",
      "source": [
        "from math import pi as cake"
      ],
      "metadata": {
        "id": "U-s8jE7FDAdg"
      },
      "execution_count": null,
      "outputs": []
    },
    {
      "cell_type": "code",
      "source": [
        "cake"
      ],
      "metadata": {
        "colab": {
          "base_uri": "https://localhost:8080/"
        },
        "id": "R9VfTh1oDf2f",
        "outputId": "5f3cf98f-8e15-4546-e53c-f18764afe9a3"
      },
      "execution_count": null,
      "outputs": [
        {
          "output_type": "execute_result",
          "data": {
            "text/plain": [
              "3.141592653589793"
            ]
          },
          "metadata": {},
          "execution_count": 5
        }
      ]
    },
    {
      "cell_type": "code",
      "source": [
        "import ColabTurtle"
      ],
      "metadata": {
        "colab": {
          "base_uri": "https://localhost:8080/",
          "height": 328
        },
        "id": "NnOKgkHoDkCy",
        "outputId": "0c24a59b-001b-4426-ea77-7fe5c7d02f3e"
      },
      "execution_count": null,
      "outputs": [
        {
          "output_type": "error",
          "ename": "ModuleNotFoundError",
          "evalue": "No module named 'ColabTurtle'",
          "traceback": [
            "\u001b[0;31m---------------------------------------------------------------------------\u001b[0m",
            "\u001b[0;31mModuleNotFoundError\u001b[0m                       Traceback (most recent call last)",
            "\u001b[0;32m<ipython-input-6-626743452a5d>\u001b[0m in \u001b[0;36m<cell line: 1>\u001b[0;34m()\u001b[0m\n\u001b[0;32m----> 1\u001b[0;31m \u001b[0;32mimport\u001b[0m \u001b[0mColabTurtle\u001b[0m\u001b[0;34m\u001b[0m\u001b[0;34m\u001b[0m\u001b[0m\n\u001b[0m",
            "\u001b[0;31mModuleNotFoundError\u001b[0m: No module named 'ColabTurtle'",
            "",
            "\u001b[0;31m---------------------------------------------------------------------------\u001b[0;32m\nNOTE: If your import is failing due to a missing package, you can\nmanually install dependencies using either !pip or !apt.\n\nTo view examples of installing some common dependencies, click the\n\"Open Examples\" button below.\n\u001b[0;31m---------------------------------------------------------------------------\u001b[0m\n"
          ],
          "errorDetails": {
            "actions": [
              {
                "action": "open_url",
                "actionText": "Open Examples",
                "url": "/notebooks/snippets/importing_libraries.ipynb"
              }
            ]
          }
        }
      ]
    },
    {
      "cell_type": "code",
      "source": [
        "!pip install ColabTurtle"
      ],
      "metadata": {
        "colab": {
          "base_uri": "https://localhost:8080/"
        },
        "id": "ov0QPJqPEJzJ",
        "outputId": "798139ab-f567-4518-9374-c455d32416b7"
      },
      "execution_count": null,
      "outputs": [
        {
          "output_type": "stream",
          "name": "stdout",
          "text": [
            "Collecting ColabTurtle\n",
            "  Downloading ColabTurtle-2.1.0.tar.gz (6.8 kB)\n",
            "  Preparing metadata (setup.py) ... \u001b[?25l\u001b[?25hdone\n",
            "Building wheels for collected packages: ColabTurtle\n",
            "  Building wheel for ColabTurtle (setup.py) ... \u001b[?25l\u001b[?25hdone\n",
            "  Created wheel for ColabTurtle: filename=ColabTurtle-2.1.0-py3-none-any.whl size=7641 sha256=ff61b115dd8c9d73f0286722a4062564864376b78c82fc19da628779e373ae18\n",
            "  Stored in directory: /root/.cache/pip/wheels/5b/86/e8/54f5c8c853606e3a3060bb2e60363cbed632374a12e0f33ffc\n",
            "Successfully built ColabTurtle\n",
            "Installing collected packages: ColabTurtle\n",
            "Successfully installed ColabTurtle-2.1.0\n"
          ]
        }
      ]
    },
    {
      "cell_type": "code",
      "source": [
        "from ColabTurtle.Turtle import *"
      ],
      "metadata": {
        "id": "QXCbsQfOEOtU"
      },
      "execution_count": null,
      "outputs": []
    },
    {
      "cell_type": "code",
      "source": [
        "initializeTurtle()"
      ],
      "metadata": {
        "colab": {
          "base_uri": "https://localhost:8080/",
          "height": 521
        },
        "id": "h63jZ4jCEzFt",
        "outputId": "eff9da22-fcf7-4e52-dc44-c54e1a542972"
      },
      "execution_count": null,
      "outputs": [
        {
          "output_type": "display_data",
          "data": {
            "text/plain": [
              "<IPython.core.display.HTML object>"
            ],
            "text/html": [
              "\n",
              "      <svg width=\"800\" height=\"500\">\n",
              "        <rect width=\"100%\" height=\"100%\" fill=\"black\"/>\n",
              "        \n",
              "        <g visibility=visible transform=\"rotate(360,400,250) translate(382, 232)\">\n",
              "<path style=\" stroke:none;fill-rule:evenodd;fill:white;fill-opacity:1;\" d=\"M 18.214844 0.632812 C 16.109375 1.800781 15.011719 4.074219 15.074219 7.132812 L 15.085938 7.652344 L 14.785156 7.496094 C 13.476562 6.824219 11.957031 6.671875 10.40625 7.066406 C 8.46875 7.550781 6.515625 9.15625 4.394531 11.992188 C 3.0625 13.777344 2.679688 14.636719 3.042969 15.027344 L 3.15625 15.152344 L 3.519531 15.152344 C 4.238281 15.152344 4.828125 14.886719 8.1875 13.039062 C 9.386719 12.378906 10.371094 11.839844 10.378906 11.839844 C 10.386719 11.839844 10.355469 11.929688 10.304688 12.035156 C 9.832031 13.09375 9.257812 14.820312 8.96875 16.078125 C 7.914062 20.652344 8.617188 24.53125 11.070312 27.660156 C 11.351562 28.015625 11.363281 27.914062 10.972656 28.382812 C 8.925781 30.84375 7.945312 33.28125 8.238281 35.1875 C 8.289062 35.527344 8.28125 35.523438 8.917969 35.523438 C 10.941406 35.523438 13.074219 34.207031 15.136719 31.6875 C 15.359375 31.417969 15.328125 31.425781 15.5625 31.574219 C 16.292969 32.042969 18.023438 32.964844 18.175781 32.964844 C 18.335938 32.964844 19.941406 32.210938 20.828125 31.71875 C 20.996094 31.625 21.136719 31.554688 21.136719 31.558594 C 21.203125 31.664062 21.898438 32.414062 22.222656 32.730469 C 23.835938 34.300781 25.5625 35.132812 27.582031 35.300781 C 27.90625 35.328125 27.9375 35.308594 28.007812 34.984375 C 28.382812 33.242188 27.625 30.925781 25.863281 28.425781 L 25.542969 27.96875 L 25.699219 27.785156 C 28.945312 23.960938 29.132812 18.699219 26.257812 11.96875 L 26.207031 11.84375 L 27.945312 12.703125 C 31.53125 14.476562 32.316406 14.800781 33.03125 14.800781 C 33.976562 14.800781 33.78125 13.9375 32.472656 12.292969 C 28.519531 7.355469 25.394531 5.925781 21.921875 7.472656 L 21.558594 7.636719 L 21.578125 7.542969 C 21.699219 6.992188 21.761719 5.742188 21.699219 5.164062 C 21.496094 3.296875 20.664062 1.964844 19.003906 0.855469 C 18.480469 0.503906 18.457031 0.5 18.214844 0.632812\"/>\n",
              "</g>\n",
              "      </svg>\n",
              "    "
            ]
          },
          "metadata": {}
        }
      ]
    },
    {
      "cell_type": "code",
      "source": [
        "forward(20)"
      ],
      "metadata": {
        "colab": {
          "base_uri": "https://localhost:8080/",
          "height": 521
        },
        "id": "04f3V5VnE5OH",
        "outputId": "f3475c3a-e974-416b-8491-eb4ed998e83e"
      },
      "execution_count": null,
      "outputs": [
        {
          "output_type": "display_data",
          "data": {
            "text/plain": [
              "<IPython.core.display.HTML object>"
            ],
            "text/html": [
              "\n",
              "      <svg width=\"800\" height=\"500\">\n",
              "        <rect width=\"100%\" height=\"100%\" fill=\"black\"/>\n",
              "        <line x1=\"400\" y1=\"250\" x2=\"400.0\" y2=\"230.0\" stroke-linecap=\"round\" style=\"stroke:white;stroke-width:4\"/>\n",
              "        <g visibility=visible transform=\"rotate(360,400.0,230.0) translate(382.0, 212.0)\">\n",
              "<path style=\" stroke:none;fill-rule:evenodd;fill:white;fill-opacity:1;\" d=\"M 18.214844 0.632812 C 16.109375 1.800781 15.011719 4.074219 15.074219 7.132812 L 15.085938 7.652344 L 14.785156 7.496094 C 13.476562 6.824219 11.957031 6.671875 10.40625 7.066406 C 8.46875 7.550781 6.515625 9.15625 4.394531 11.992188 C 3.0625 13.777344 2.679688 14.636719 3.042969 15.027344 L 3.15625 15.152344 L 3.519531 15.152344 C 4.238281 15.152344 4.828125 14.886719 8.1875 13.039062 C 9.386719 12.378906 10.371094 11.839844 10.378906 11.839844 C 10.386719 11.839844 10.355469 11.929688 10.304688 12.035156 C 9.832031 13.09375 9.257812 14.820312 8.96875 16.078125 C 7.914062 20.652344 8.617188 24.53125 11.070312 27.660156 C 11.351562 28.015625 11.363281 27.914062 10.972656 28.382812 C 8.925781 30.84375 7.945312 33.28125 8.238281 35.1875 C 8.289062 35.527344 8.28125 35.523438 8.917969 35.523438 C 10.941406 35.523438 13.074219 34.207031 15.136719 31.6875 C 15.359375 31.417969 15.328125 31.425781 15.5625 31.574219 C 16.292969 32.042969 18.023438 32.964844 18.175781 32.964844 C 18.335938 32.964844 19.941406 32.210938 20.828125 31.71875 C 20.996094 31.625 21.136719 31.554688 21.136719 31.558594 C 21.203125 31.664062 21.898438 32.414062 22.222656 32.730469 C 23.835938 34.300781 25.5625 35.132812 27.582031 35.300781 C 27.90625 35.328125 27.9375 35.308594 28.007812 34.984375 C 28.382812 33.242188 27.625 30.925781 25.863281 28.425781 L 25.542969 27.96875 L 25.699219 27.785156 C 28.945312 23.960938 29.132812 18.699219 26.257812 11.96875 L 26.207031 11.84375 L 27.945312 12.703125 C 31.53125 14.476562 32.316406 14.800781 33.03125 14.800781 C 33.976562 14.800781 33.78125 13.9375 32.472656 12.292969 C 28.519531 7.355469 25.394531 5.925781 21.921875 7.472656 L 21.558594 7.636719 L 21.578125 7.542969 C 21.699219 6.992188 21.761719 5.742188 21.699219 5.164062 C 21.496094 3.296875 20.664062 1.964844 19.003906 0.855469 C 18.480469 0.503906 18.457031 0.5 18.214844 0.632812\"/>\n",
              "</g>\n",
              "      </svg>\n",
              "    "
            ]
          },
          "metadata": {}
        }
      ]
    },
    {
      "cell_type": "code",
      "source": [
        "right(90)\n",
        "forward(40)\n",
        "right(90)\n",
        "forward(40)\n",
        "right(90)\n",
        "forward(40)\n",
        "right(90)\n",
        "forward(40)"
      ],
      "metadata": {
        "colab": {
          "base_uri": "https://localhost:8080/",
          "height": 521
        },
        "id": "1-q6uzosFBmx",
        "outputId": "d8c7c291-c860-4547-cfb1-1d6faeeed4aa"
      },
      "execution_count": null,
      "outputs": [
        {
          "output_type": "display_data",
          "data": {
            "text/plain": [
              "<IPython.core.display.HTML object>"
            ],
            "text/html": [
              "\n",
              "      <svg width=\"800\" height=\"500\">\n",
              "        <rect width=\"100%\" height=\"100%\" fill=\"black\"/>\n",
              "        <line x1=\"400\" y1=\"250\" x2=\"400.0\" y2=\"230.0\" stroke-linecap=\"round\" style=\"stroke:white;stroke-width:4\"/><line x1=\"400.0\" y1=\"230.0\" x2=\"400.0\" y2=\"210.0\" stroke-linecap=\"round\" style=\"stroke:white;stroke-width:4\"/><line x1=\"400.0\" y1=\"210.0\" x2=\"440.0\" y2=\"210.0\" stroke-linecap=\"round\" style=\"stroke:white;stroke-width:4\"/><line x1=\"440.0\" y1=\"210.0\" x2=\"440.0\" y2=\"250.0\" stroke-linecap=\"round\" style=\"stroke:white;stroke-width:4\"/><line x1=\"440.0\" y1=\"250.0\" x2=\"400.0\" y2=\"250.0\" stroke-linecap=\"round\" style=\"stroke:white;stroke-width:4\"/><line x1=\"400.0\" y1=\"250.0\" x2=\"400.0\" y2=\"210.0\" stroke-linecap=\"round\" style=\"stroke:white;stroke-width:4\"/>\n",
              "        <g visibility=visible transform=\"rotate(360,400.0,210.0) translate(382.0, 192.0)\">\n",
              "<path style=\" stroke:none;fill-rule:evenodd;fill:white;fill-opacity:1;\" d=\"M 18.214844 0.632812 C 16.109375 1.800781 15.011719 4.074219 15.074219 7.132812 L 15.085938 7.652344 L 14.785156 7.496094 C 13.476562 6.824219 11.957031 6.671875 10.40625 7.066406 C 8.46875 7.550781 6.515625 9.15625 4.394531 11.992188 C 3.0625 13.777344 2.679688 14.636719 3.042969 15.027344 L 3.15625 15.152344 L 3.519531 15.152344 C 4.238281 15.152344 4.828125 14.886719 8.1875 13.039062 C 9.386719 12.378906 10.371094 11.839844 10.378906 11.839844 C 10.386719 11.839844 10.355469 11.929688 10.304688 12.035156 C 9.832031 13.09375 9.257812 14.820312 8.96875 16.078125 C 7.914062 20.652344 8.617188 24.53125 11.070312 27.660156 C 11.351562 28.015625 11.363281 27.914062 10.972656 28.382812 C 8.925781 30.84375 7.945312 33.28125 8.238281 35.1875 C 8.289062 35.527344 8.28125 35.523438 8.917969 35.523438 C 10.941406 35.523438 13.074219 34.207031 15.136719 31.6875 C 15.359375 31.417969 15.328125 31.425781 15.5625 31.574219 C 16.292969 32.042969 18.023438 32.964844 18.175781 32.964844 C 18.335938 32.964844 19.941406 32.210938 20.828125 31.71875 C 20.996094 31.625 21.136719 31.554688 21.136719 31.558594 C 21.203125 31.664062 21.898438 32.414062 22.222656 32.730469 C 23.835938 34.300781 25.5625 35.132812 27.582031 35.300781 C 27.90625 35.328125 27.9375 35.308594 28.007812 34.984375 C 28.382812 33.242188 27.625 30.925781 25.863281 28.425781 L 25.542969 27.96875 L 25.699219 27.785156 C 28.945312 23.960938 29.132812 18.699219 26.257812 11.96875 L 26.207031 11.84375 L 27.945312 12.703125 C 31.53125 14.476562 32.316406 14.800781 33.03125 14.800781 C 33.976562 14.800781 33.78125 13.9375 32.472656 12.292969 C 28.519531 7.355469 25.394531 5.925781 21.921875 7.472656 L 21.558594 7.636719 L 21.578125 7.542969 C 21.699219 6.992188 21.761719 5.742188 21.699219 5.164062 C 21.496094 3.296875 20.664062 1.964844 19.003906 0.855469 C 18.480469 0.503906 18.457031 0.5 18.214844 0.632812\"/>\n",
              "</g>\n",
              "      </svg>\n",
              "    "
            ]
          },
          "metadata": {}
        }
      ]
    },
    {
      "cell_type": "code",
      "source": [
        "for i in range(90):\n",
        "  forward(1)\n",
        "  left(4)"
      ],
      "metadata": {
        "colab": {
          "base_uri": "https://localhost:8080/",
          "height": 521
        },
        "id": "uclfyp_3FElh",
        "outputId": "f8ccfdf7-5075-4237-ec67-b4721d4d81ea"
      },
      "execution_count": null,
      "outputs": [
        {
          "output_type": "display_data",
          "data": {
            "text/plain": [
              "<IPython.core.display.HTML object>"
            ],
            "text/html": [
              "\n",
              "      <svg width=\"800\" height=\"500\">\n",
              "        <rect width=\"100%\" height=\"100%\" fill=\"black\"/>\n",
              "        <line x1=\"400\" y1=\"250\" x2=\"400.0\" y2=\"230.0\" stroke-linecap=\"round\" style=\"stroke:white;stroke-width:4\"/><line x1=\"400.0\" y1=\"230.0\" x2=\"400.0\" y2=\"210.0\" stroke-linecap=\"round\" style=\"stroke:white;stroke-width:4\"/><line x1=\"400.0\" y1=\"210.0\" x2=\"440.0\" y2=\"210.0\" stroke-linecap=\"round\" style=\"stroke:white;stroke-width:4\"/><line x1=\"440.0\" y1=\"210.0\" x2=\"440.0\" y2=\"250.0\" stroke-linecap=\"round\" style=\"stroke:white;stroke-width:4\"/><line x1=\"440.0\" y1=\"250.0\" x2=\"400.0\" y2=\"250.0\" stroke-linecap=\"round\" style=\"stroke:white;stroke-width:4\"/><line x1=\"400.0\" y1=\"250.0\" x2=\"400.0\" y2=\"210.0\" stroke-linecap=\"round\" style=\"stroke:white;stroke-width:4\"/><line x1=\"400.0\" y1=\"210.0\" x2=\"400.0\" y2=\"209.0\" stroke-linecap=\"round\" style=\"stroke:white;stroke-width:4\"/><line x1=\"400.0\" y1=\"209.0\" x2=\"399.93\" y2=\"208.002\" stroke-linecap=\"round\" style=\"stroke:white;stroke-width:4\"/><line x1=\"399.93\" y1=\"208.002\" x2=\"399.791\" y2=\"207.012\" stroke-linecap=\"round\" style=\"stroke:white;stroke-width:4\"/><line x1=\"399.791\" y1=\"207.012\" x2=\"399.583\" y2=\"206.034\" stroke-linecap=\"round\" style=\"stroke:white;stroke-width:4\"/><line x1=\"399.583\" y1=\"206.034\" x2=\"399.307\" y2=\"205.073\" stroke-linecap=\"round\" style=\"stroke:white;stroke-width:4\"/><line x1=\"399.307\" y1=\"205.073\" x2=\"398.965\" y2=\"204.133\" stroke-linecap=\"round\" style=\"stroke:white;stroke-width:4\"/><line x1=\"398.965\" y1=\"204.133\" x2=\"398.558\" y2=\"203.219\" stroke-linecap=\"round\" style=\"stroke:white;stroke-width:4\"/><line x1=\"398.558\" y1=\"203.219\" x2=\"398.089\" y2=\"202.336\" stroke-linecap=\"round\" style=\"stroke:white;stroke-width:4\"/><line x1=\"398.089\" y1=\"202.336\" x2=\"397.559\" y2=\"201.488\" stroke-linecap=\"round\" style=\"stroke:white;stroke-width:4\"/><line x1=\"397.559\" y1=\"201.488\" x2=\"396.971\" y2=\"200.679\" stroke-linecap=\"round\" style=\"stroke:white;stroke-width:4\"/><line x1=\"396.971\" y1=\"200.679\" x2=\"396.328\" y2=\"199.913\" stroke-linecap=\"round\" style=\"stroke:white;stroke-width:4\"/><line x1=\"396.328\" y1=\"199.913\" x2=\"395.633\" y2=\"199.194\" stroke-linecap=\"round\" style=\"stroke:white;stroke-width:4\"/><line x1=\"395.633\" y1=\"199.194\" x2=\"394.89\" y2=\"198.525\" stroke-linecap=\"round\" style=\"stroke:white;stroke-width:4\"/><line x1=\"394.89\" y1=\"198.525\" x2=\"394.102\" y2=\"197.909\" stroke-linecap=\"round\" style=\"stroke:white;stroke-width:4\"/><line x1=\"394.102\" y1=\"197.909\" x2=\"393.273\" y2=\"197.35\" stroke-linecap=\"round\" style=\"stroke:white;stroke-width:4\"/><line x1=\"393.273\" y1=\"197.35\" x2=\"392.407\" y2=\"196.85\" stroke-linecap=\"round\" style=\"stroke:white;stroke-width:4\"/><line x1=\"392.407\" y1=\"196.85\" x2=\"391.508\" y2=\"196.412\" stroke-linecap=\"round\" style=\"stroke:white;stroke-width:4\"/><line x1=\"391.508\" y1=\"196.412\" x2=\"390.581\" y2=\"196.037\" stroke-linecap=\"round\" style=\"stroke:white;stroke-width:4\"/><line x1=\"390.581\" y1=\"196.037\" x2=\"389.63\" y2=\"195.728\" stroke-linecap=\"round\" style=\"stroke:white;stroke-width:4\"/><line x1=\"389.63\" y1=\"195.728\" x2=\"388.66\" y2=\"195.486\" stroke-linecap=\"round\" style=\"stroke:white;stroke-width:4\"/><line x1=\"388.66\" y1=\"195.486\" x2=\"387.675\" y2=\"195.312\" stroke-linecap=\"round\" style=\"stroke:white;stroke-width:4\"/><line x1=\"387.675\" y1=\"195.312\" x2=\"386.68\" y2=\"195.207\" stroke-linecap=\"round\" style=\"stroke:white;stroke-width:4\"/><line x1=\"386.68\" y1=\"195.207\" x2=\"385.681\" y2=\"195.172\" stroke-linecap=\"round\" style=\"stroke:white;stroke-width:4\"/><line x1=\"385.681\" y1=\"195.172\" x2=\"384.682\" y2=\"195.207\" stroke-linecap=\"round\" style=\"stroke:white;stroke-width:4\"/><line x1=\"384.682\" y1=\"195.207\" x2=\"383.687\" y2=\"195.312\" stroke-linecap=\"round\" style=\"stroke:white;stroke-width:4\"/><line x1=\"383.687\" y1=\"195.312\" x2=\"382.702\" y2=\"195.486\" stroke-linecap=\"round\" style=\"stroke:white;stroke-width:4\"/><line x1=\"382.702\" y1=\"195.486\" x2=\"381.732\" y2=\"195.728\" stroke-linecap=\"round\" style=\"stroke:white;stroke-width:4\"/><line x1=\"381.732\" y1=\"195.728\" x2=\"380.781\" y2=\"196.037\" stroke-linecap=\"round\" style=\"stroke:white;stroke-width:4\"/><line x1=\"380.781\" y1=\"196.037\" x2=\"379.854\" y2=\"196.412\" stroke-linecap=\"round\" style=\"stroke:white;stroke-width:4\"/><line x1=\"379.854\" y1=\"196.412\" x2=\"378.955\" y2=\"196.85\" stroke-linecap=\"round\" style=\"stroke:white;stroke-width:4\"/><line x1=\"378.955\" y1=\"196.85\" x2=\"378.089\" y2=\"197.35\" stroke-linecap=\"round\" style=\"stroke:white;stroke-width:4\"/><line x1=\"378.089\" y1=\"197.35\" x2=\"377.26\" y2=\"197.909\" stroke-linecap=\"round\" style=\"stroke:white;stroke-width:4\"/><line x1=\"377.26\" y1=\"197.909\" x2=\"376.472\" y2=\"198.525\" stroke-linecap=\"round\" style=\"stroke:white;stroke-width:4\"/><line x1=\"376.472\" y1=\"198.525\" x2=\"375.729\" y2=\"199.194\" stroke-linecap=\"round\" style=\"stroke:white;stroke-width:4\"/><line x1=\"375.729\" y1=\"199.194\" x2=\"375.034\" y2=\"199.913\" stroke-linecap=\"round\" style=\"stroke:white;stroke-width:4\"/><line x1=\"375.034\" y1=\"199.913\" x2=\"374.391\" y2=\"200.679\" stroke-linecap=\"round\" style=\"stroke:white;stroke-width:4\"/><line x1=\"374.391\" y1=\"200.679\" x2=\"373.803\" y2=\"201.488\" stroke-linecap=\"round\" style=\"stroke:white;stroke-width:4\"/><line x1=\"373.803\" y1=\"201.488\" x2=\"373.273\" y2=\"202.336\" stroke-linecap=\"round\" style=\"stroke:white;stroke-width:4\"/><line x1=\"373.273\" y1=\"202.336\" x2=\"372.804\" y2=\"203.219\" stroke-linecap=\"round\" style=\"stroke:white;stroke-width:4\"/><line x1=\"372.804\" y1=\"203.219\" x2=\"372.397\" y2=\"204.133\" stroke-linecap=\"round\" style=\"stroke:white;stroke-width:4\"/><line x1=\"372.397\" y1=\"204.133\" x2=\"372.055\" y2=\"205.073\" stroke-linecap=\"round\" style=\"stroke:white;stroke-width:4\"/><line x1=\"372.055\" y1=\"205.073\" x2=\"371.779\" y2=\"206.034\" stroke-linecap=\"round\" style=\"stroke:white;stroke-width:4\"/><line x1=\"371.779\" y1=\"206.034\" x2=\"371.571\" y2=\"207.012\" stroke-linecap=\"round\" style=\"stroke:white;stroke-width:4\"/><line x1=\"371.571\" y1=\"207.012\" x2=\"371.432\" y2=\"208.002\" stroke-linecap=\"round\" style=\"stroke:white;stroke-width:4\"/><line x1=\"371.432\" y1=\"208.002\" x2=\"371.362\" y2=\"209.0\" stroke-linecap=\"round\" style=\"stroke:white;stroke-width:4\"/><line x1=\"371.362\" y1=\"209.0\" x2=\"371.362\" y2=\"210.0\" stroke-linecap=\"round\" style=\"stroke:white;stroke-width:4\"/><line x1=\"371.362\" y1=\"210.0\" x2=\"371.432\" y2=\"210.998\" stroke-linecap=\"round\" style=\"stroke:white;stroke-width:4\"/><line x1=\"371.432\" y1=\"210.998\" x2=\"371.571\" y2=\"211.988\" stroke-linecap=\"round\" style=\"stroke:white;stroke-width:4\"/><line x1=\"371.571\" y1=\"211.988\" x2=\"371.779\" y2=\"212.966\" stroke-linecap=\"round\" style=\"stroke:white;stroke-width:4\"/><line x1=\"371.779\" y1=\"212.966\" x2=\"372.055\" y2=\"213.927\" stroke-linecap=\"round\" style=\"stroke:white;stroke-width:4\"/><line x1=\"372.055\" y1=\"213.927\" x2=\"372.397\" y2=\"214.867\" stroke-linecap=\"round\" style=\"stroke:white;stroke-width:4\"/><line x1=\"372.397\" y1=\"214.867\" x2=\"372.804\" y2=\"215.781\" stroke-linecap=\"round\" style=\"stroke:white;stroke-width:4\"/><line x1=\"372.804\" y1=\"215.781\" x2=\"373.273\" y2=\"216.664\" stroke-linecap=\"round\" style=\"stroke:white;stroke-width:4\"/><line x1=\"373.273\" y1=\"216.664\" x2=\"373.803\" y2=\"217.512\" stroke-linecap=\"round\" style=\"stroke:white;stroke-width:4\"/><line x1=\"373.803\" y1=\"217.512\" x2=\"374.391\" y2=\"218.321\" stroke-linecap=\"round\" style=\"stroke:white;stroke-width:4\"/><line x1=\"374.391\" y1=\"218.321\" x2=\"375.034\" y2=\"219.087\" stroke-linecap=\"round\" style=\"stroke:white;stroke-width:4\"/><line x1=\"375.034\" y1=\"219.087\" x2=\"375.729\" y2=\"219.806\" stroke-linecap=\"round\" style=\"stroke:white;stroke-width:4\"/><line x1=\"375.729\" y1=\"219.806\" x2=\"376.472\" y2=\"220.475\" stroke-linecap=\"round\" style=\"stroke:white;stroke-width:4\"/><line x1=\"376.472\" y1=\"220.475\" x2=\"377.26\" y2=\"221.091\" stroke-linecap=\"round\" style=\"stroke:white;stroke-width:4\"/><line x1=\"377.26\" y1=\"221.091\" x2=\"378.089\" y2=\"221.65\" stroke-linecap=\"round\" style=\"stroke:white;stroke-width:4\"/><line x1=\"378.089\" y1=\"221.65\" x2=\"378.955\" y2=\"222.15\" stroke-linecap=\"round\" style=\"stroke:white;stroke-width:4\"/><line x1=\"378.955\" y1=\"222.15\" x2=\"379.854\" y2=\"222.588\" stroke-linecap=\"round\" style=\"stroke:white;stroke-width:4\"/><line x1=\"379.854\" y1=\"222.588\" x2=\"380.781\" y2=\"222.963\" stroke-linecap=\"round\" style=\"stroke:white;stroke-width:4\"/><line x1=\"380.781\" y1=\"222.963\" x2=\"381.732\" y2=\"223.272\" stroke-linecap=\"round\" style=\"stroke:white;stroke-width:4\"/><line x1=\"381.732\" y1=\"223.272\" x2=\"382.702\" y2=\"223.514\" stroke-linecap=\"round\" style=\"stroke:white;stroke-width:4\"/><line x1=\"382.702\" y1=\"223.514\" x2=\"383.687\" y2=\"223.688\" stroke-linecap=\"round\" style=\"stroke:white;stroke-width:4\"/><line x1=\"383.687\" y1=\"223.688\" x2=\"384.682\" y2=\"223.793\" stroke-linecap=\"round\" style=\"stroke:white;stroke-width:4\"/><line x1=\"384.682\" y1=\"223.793\" x2=\"385.681\" y2=\"223.828\" stroke-linecap=\"round\" style=\"stroke:white;stroke-width:4\"/><line x1=\"385.681\" y1=\"223.828\" x2=\"386.68\" y2=\"223.793\" stroke-linecap=\"round\" style=\"stroke:white;stroke-width:4\"/><line x1=\"386.68\" y1=\"223.793\" x2=\"387.675\" y2=\"223.688\" stroke-linecap=\"round\" style=\"stroke:white;stroke-width:4\"/><line x1=\"387.675\" y1=\"223.688\" x2=\"388.66\" y2=\"223.514\" stroke-linecap=\"round\" style=\"stroke:white;stroke-width:4\"/><line x1=\"388.66\" y1=\"223.514\" x2=\"389.63\" y2=\"223.272\" stroke-linecap=\"round\" style=\"stroke:white;stroke-width:4\"/><line x1=\"389.63\" y1=\"223.272\" x2=\"390.581\" y2=\"222.963\" stroke-linecap=\"round\" style=\"stroke:white;stroke-width:4\"/><line x1=\"390.581\" y1=\"222.963\" x2=\"391.508\" y2=\"222.588\" stroke-linecap=\"round\" style=\"stroke:white;stroke-width:4\"/><line x1=\"391.508\" y1=\"222.588\" x2=\"392.407\" y2=\"222.15\" stroke-linecap=\"round\" style=\"stroke:white;stroke-width:4\"/><line x1=\"392.407\" y1=\"222.15\" x2=\"393.273\" y2=\"221.65\" stroke-linecap=\"round\" style=\"stroke:white;stroke-width:4\"/><line x1=\"393.273\" y1=\"221.65\" x2=\"394.102\" y2=\"221.091\" stroke-linecap=\"round\" style=\"stroke:white;stroke-width:4\"/><line x1=\"394.102\" y1=\"221.091\" x2=\"394.89\" y2=\"220.475\" stroke-linecap=\"round\" style=\"stroke:white;stroke-width:4\"/><line x1=\"394.89\" y1=\"220.475\" x2=\"395.633\" y2=\"219.806\" stroke-linecap=\"round\" style=\"stroke:white;stroke-width:4\"/><line x1=\"395.633\" y1=\"219.806\" x2=\"396.328\" y2=\"219.087\" stroke-linecap=\"round\" style=\"stroke:white;stroke-width:4\"/><line x1=\"396.328\" y1=\"219.087\" x2=\"396.971\" y2=\"218.321\" stroke-linecap=\"round\" style=\"stroke:white;stroke-width:4\"/><line x1=\"396.971\" y1=\"218.321\" x2=\"397.559\" y2=\"217.512\" stroke-linecap=\"round\" style=\"stroke:white;stroke-width:4\"/><line x1=\"397.559\" y1=\"217.512\" x2=\"398.089\" y2=\"216.664\" stroke-linecap=\"round\" style=\"stroke:white;stroke-width:4\"/><line x1=\"398.089\" y1=\"216.664\" x2=\"398.558\" y2=\"215.781\" stroke-linecap=\"round\" style=\"stroke:white;stroke-width:4\"/><line x1=\"398.558\" y1=\"215.781\" x2=\"398.965\" y2=\"214.867\" stroke-linecap=\"round\" style=\"stroke:white;stroke-width:4\"/><line x1=\"398.965\" y1=\"214.867\" x2=\"399.307\" y2=\"213.927\" stroke-linecap=\"round\" style=\"stroke:white;stroke-width:4\"/><line x1=\"399.307\" y1=\"213.927\" x2=\"399.583\" y2=\"212.966\" stroke-linecap=\"round\" style=\"stroke:white;stroke-width:4\"/><line x1=\"399.583\" y1=\"212.966\" x2=\"399.791\" y2=\"211.988\" stroke-linecap=\"round\" style=\"stroke:white;stroke-width:4\"/><line x1=\"399.791\" y1=\"211.988\" x2=\"399.93\" y2=\"210.998\" stroke-linecap=\"round\" style=\"stroke:white;stroke-width:4\"/><line x1=\"399.93\" y1=\"210.998\" x2=\"400.0\" y2=\"210.0\" stroke-linecap=\"round\" style=\"stroke:white;stroke-width:4\"/>\n",
              "        <g visibility=visible transform=\"rotate(360,400.0,210.0) translate(382.0, 192.0)\">\n",
              "<path style=\" stroke:none;fill-rule:evenodd;fill:white;fill-opacity:1;\" d=\"M 18.214844 0.632812 C 16.109375 1.800781 15.011719 4.074219 15.074219 7.132812 L 15.085938 7.652344 L 14.785156 7.496094 C 13.476562 6.824219 11.957031 6.671875 10.40625 7.066406 C 8.46875 7.550781 6.515625 9.15625 4.394531 11.992188 C 3.0625 13.777344 2.679688 14.636719 3.042969 15.027344 L 3.15625 15.152344 L 3.519531 15.152344 C 4.238281 15.152344 4.828125 14.886719 8.1875 13.039062 C 9.386719 12.378906 10.371094 11.839844 10.378906 11.839844 C 10.386719 11.839844 10.355469 11.929688 10.304688 12.035156 C 9.832031 13.09375 9.257812 14.820312 8.96875 16.078125 C 7.914062 20.652344 8.617188 24.53125 11.070312 27.660156 C 11.351562 28.015625 11.363281 27.914062 10.972656 28.382812 C 8.925781 30.84375 7.945312 33.28125 8.238281 35.1875 C 8.289062 35.527344 8.28125 35.523438 8.917969 35.523438 C 10.941406 35.523438 13.074219 34.207031 15.136719 31.6875 C 15.359375 31.417969 15.328125 31.425781 15.5625 31.574219 C 16.292969 32.042969 18.023438 32.964844 18.175781 32.964844 C 18.335938 32.964844 19.941406 32.210938 20.828125 31.71875 C 20.996094 31.625 21.136719 31.554688 21.136719 31.558594 C 21.203125 31.664062 21.898438 32.414062 22.222656 32.730469 C 23.835938 34.300781 25.5625 35.132812 27.582031 35.300781 C 27.90625 35.328125 27.9375 35.308594 28.007812 34.984375 C 28.382812 33.242188 27.625 30.925781 25.863281 28.425781 L 25.542969 27.96875 L 25.699219 27.785156 C 28.945312 23.960938 29.132812 18.699219 26.257812 11.96875 L 26.207031 11.84375 L 27.945312 12.703125 C 31.53125 14.476562 32.316406 14.800781 33.03125 14.800781 C 33.976562 14.800781 33.78125 13.9375 32.472656 12.292969 C 28.519531 7.355469 25.394531 5.925781 21.921875 7.472656 L 21.558594 7.636719 L 21.578125 7.542969 C 21.699219 6.992188 21.761719 5.742188 21.699219 5.164062 C 21.496094 3.296875 20.664062 1.964844 19.003906 0.855469 C 18.480469 0.503906 18.457031 0.5 18.214844 0.632812\"/>\n",
              "</g>\n",
              "      </svg>\n",
              "    "
            ]
          },
          "metadata": {}
        }
      ]
    },
    {
      "cell_type": "code",
      "source": [
        "for i in range(45):\n",
        "  forward(100)\n",
        "  left(172)"
      ],
      "metadata": {
        "colab": {
          "base_uri": "https://localhost:8080/",
          "height": 521
        },
        "id": "YOgD8nqVFpIZ",
        "outputId": "68eb6967-564a-429a-f7e9-eb9ca8e3cefc"
      },
      "execution_count": null,
      "outputs": [
        {
          "output_type": "display_data",
          "data": {
            "text/plain": [
              "<IPython.core.display.HTML object>"
            ],
            "text/html": [
              "\n",
              "      <svg width=\"800\" height=\"500\">\n",
              "        <rect width=\"100%\" height=\"100%\" fill=\"black\"/>\n",
              "        <line x1=\"400\" y1=\"250\" x2=\"400.0\" y2=\"230.0\" stroke-linecap=\"round\" style=\"stroke:white;stroke-width:4\"/><line x1=\"400.0\" y1=\"230.0\" x2=\"400.0\" y2=\"210.0\" stroke-linecap=\"round\" style=\"stroke:white;stroke-width:4\"/><line x1=\"400.0\" y1=\"210.0\" x2=\"440.0\" y2=\"210.0\" stroke-linecap=\"round\" style=\"stroke:white;stroke-width:4\"/><line x1=\"440.0\" y1=\"210.0\" x2=\"440.0\" y2=\"250.0\" stroke-linecap=\"round\" style=\"stroke:white;stroke-width:4\"/><line x1=\"440.0\" y1=\"250.0\" x2=\"400.0\" y2=\"250.0\" stroke-linecap=\"round\" style=\"stroke:white;stroke-width:4\"/><line x1=\"400.0\" y1=\"250.0\" x2=\"400.0\" y2=\"210.0\" stroke-linecap=\"round\" style=\"stroke:white;stroke-width:4\"/><line x1=\"400.0\" y1=\"210.0\" x2=\"400.0\" y2=\"209.0\" stroke-linecap=\"round\" style=\"stroke:white;stroke-width:4\"/><line x1=\"400.0\" y1=\"209.0\" x2=\"399.93\" y2=\"208.002\" stroke-linecap=\"round\" style=\"stroke:white;stroke-width:4\"/><line x1=\"399.93\" y1=\"208.002\" x2=\"399.791\" y2=\"207.012\" stroke-linecap=\"round\" style=\"stroke:white;stroke-width:4\"/><line x1=\"399.791\" y1=\"207.012\" x2=\"399.583\" y2=\"206.034\" stroke-linecap=\"round\" style=\"stroke:white;stroke-width:4\"/><line x1=\"399.583\" y1=\"206.034\" x2=\"399.307\" y2=\"205.073\" stroke-linecap=\"round\" style=\"stroke:white;stroke-width:4\"/><line x1=\"399.307\" y1=\"205.073\" x2=\"398.965\" y2=\"204.133\" stroke-linecap=\"round\" style=\"stroke:white;stroke-width:4\"/><line x1=\"398.965\" y1=\"204.133\" x2=\"398.558\" y2=\"203.219\" stroke-linecap=\"round\" style=\"stroke:white;stroke-width:4\"/><line x1=\"398.558\" y1=\"203.219\" x2=\"398.089\" y2=\"202.336\" stroke-linecap=\"round\" style=\"stroke:white;stroke-width:4\"/><line x1=\"398.089\" y1=\"202.336\" x2=\"397.559\" y2=\"201.488\" stroke-linecap=\"round\" style=\"stroke:white;stroke-width:4\"/><line x1=\"397.559\" y1=\"201.488\" x2=\"396.971\" y2=\"200.679\" stroke-linecap=\"round\" style=\"stroke:white;stroke-width:4\"/><line x1=\"396.971\" y1=\"200.679\" x2=\"396.328\" y2=\"199.913\" stroke-linecap=\"round\" style=\"stroke:white;stroke-width:4\"/><line x1=\"396.328\" y1=\"199.913\" x2=\"395.633\" y2=\"199.194\" stroke-linecap=\"round\" style=\"stroke:white;stroke-width:4\"/><line x1=\"395.633\" y1=\"199.194\" x2=\"394.89\" y2=\"198.525\" stroke-linecap=\"round\" style=\"stroke:white;stroke-width:4\"/><line x1=\"394.89\" y1=\"198.525\" x2=\"394.102\" y2=\"197.909\" stroke-linecap=\"round\" style=\"stroke:white;stroke-width:4\"/><line x1=\"394.102\" y1=\"197.909\" x2=\"393.273\" y2=\"197.35\" stroke-linecap=\"round\" style=\"stroke:white;stroke-width:4\"/><line x1=\"393.273\" y1=\"197.35\" x2=\"392.407\" y2=\"196.85\" stroke-linecap=\"round\" style=\"stroke:white;stroke-width:4\"/><line x1=\"392.407\" y1=\"196.85\" x2=\"391.508\" y2=\"196.412\" stroke-linecap=\"round\" style=\"stroke:white;stroke-width:4\"/><line x1=\"391.508\" y1=\"196.412\" x2=\"390.581\" y2=\"196.037\" stroke-linecap=\"round\" style=\"stroke:white;stroke-width:4\"/><line x1=\"390.581\" y1=\"196.037\" x2=\"389.63\" y2=\"195.728\" stroke-linecap=\"round\" style=\"stroke:white;stroke-width:4\"/><line x1=\"389.63\" y1=\"195.728\" x2=\"388.66\" y2=\"195.486\" stroke-linecap=\"round\" style=\"stroke:white;stroke-width:4\"/><line x1=\"388.66\" y1=\"195.486\" x2=\"387.675\" y2=\"195.312\" stroke-linecap=\"round\" style=\"stroke:white;stroke-width:4\"/><line x1=\"387.675\" y1=\"195.312\" x2=\"386.68\" y2=\"195.207\" stroke-linecap=\"round\" style=\"stroke:white;stroke-width:4\"/><line x1=\"386.68\" y1=\"195.207\" x2=\"385.681\" y2=\"195.172\" stroke-linecap=\"round\" style=\"stroke:white;stroke-width:4\"/><line x1=\"385.681\" y1=\"195.172\" x2=\"384.682\" y2=\"195.207\" stroke-linecap=\"round\" style=\"stroke:white;stroke-width:4\"/><line x1=\"384.682\" y1=\"195.207\" x2=\"383.687\" y2=\"195.312\" stroke-linecap=\"round\" style=\"stroke:white;stroke-width:4\"/><line x1=\"383.687\" y1=\"195.312\" x2=\"382.702\" y2=\"195.486\" stroke-linecap=\"round\" style=\"stroke:white;stroke-width:4\"/><line x1=\"382.702\" y1=\"195.486\" x2=\"381.732\" y2=\"195.728\" stroke-linecap=\"round\" style=\"stroke:white;stroke-width:4\"/><line x1=\"381.732\" y1=\"195.728\" x2=\"380.781\" y2=\"196.037\" stroke-linecap=\"round\" style=\"stroke:white;stroke-width:4\"/><line x1=\"380.781\" y1=\"196.037\" x2=\"379.854\" y2=\"196.412\" stroke-linecap=\"round\" style=\"stroke:white;stroke-width:4\"/><line x1=\"379.854\" y1=\"196.412\" x2=\"378.955\" y2=\"196.85\" stroke-linecap=\"round\" style=\"stroke:white;stroke-width:4\"/><line x1=\"378.955\" y1=\"196.85\" x2=\"378.089\" y2=\"197.35\" stroke-linecap=\"round\" style=\"stroke:white;stroke-width:4\"/><line x1=\"378.089\" y1=\"197.35\" x2=\"377.26\" y2=\"197.909\" stroke-linecap=\"round\" style=\"stroke:white;stroke-width:4\"/><line x1=\"377.26\" y1=\"197.909\" x2=\"376.472\" y2=\"198.525\" stroke-linecap=\"round\" style=\"stroke:white;stroke-width:4\"/><line x1=\"376.472\" y1=\"198.525\" x2=\"375.729\" y2=\"199.194\" stroke-linecap=\"round\" style=\"stroke:white;stroke-width:4\"/><line x1=\"375.729\" y1=\"199.194\" x2=\"375.034\" y2=\"199.913\" stroke-linecap=\"round\" style=\"stroke:white;stroke-width:4\"/><line x1=\"375.034\" y1=\"199.913\" x2=\"374.391\" y2=\"200.679\" stroke-linecap=\"round\" style=\"stroke:white;stroke-width:4\"/><line x1=\"374.391\" y1=\"200.679\" x2=\"373.803\" y2=\"201.488\" stroke-linecap=\"round\" style=\"stroke:white;stroke-width:4\"/><line x1=\"373.803\" y1=\"201.488\" x2=\"373.273\" y2=\"202.336\" stroke-linecap=\"round\" style=\"stroke:white;stroke-width:4\"/><line x1=\"373.273\" y1=\"202.336\" x2=\"372.804\" y2=\"203.219\" stroke-linecap=\"round\" style=\"stroke:white;stroke-width:4\"/><line x1=\"372.804\" y1=\"203.219\" x2=\"372.397\" y2=\"204.133\" stroke-linecap=\"round\" style=\"stroke:white;stroke-width:4\"/><line x1=\"372.397\" y1=\"204.133\" x2=\"372.055\" y2=\"205.073\" stroke-linecap=\"round\" style=\"stroke:white;stroke-width:4\"/><line x1=\"372.055\" y1=\"205.073\" x2=\"371.779\" y2=\"206.034\" stroke-linecap=\"round\" style=\"stroke:white;stroke-width:4\"/><line x1=\"371.779\" y1=\"206.034\" x2=\"371.571\" y2=\"207.012\" stroke-linecap=\"round\" style=\"stroke:white;stroke-width:4\"/><line x1=\"371.571\" y1=\"207.012\" x2=\"371.432\" y2=\"208.002\" stroke-linecap=\"round\" style=\"stroke:white;stroke-width:4\"/><line x1=\"371.432\" y1=\"208.002\" x2=\"371.362\" y2=\"209.0\" stroke-linecap=\"round\" style=\"stroke:white;stroke-width:4\"/><line x1=\"371.362\" y1=\"209.0\" x2=\"371.362\" y2=\"210.0\" stroke-linecap=\"round\" style=\"stroke:white;stroke-width:4\"/><line x1=\"371.362\" y1=\"210.0\" x2=\"371.432\" y2=\"210.998\" stroke-linecap=\"round\" style=\"stroke:white;stroke-width:4\"/><line x1=\"371.432\" y1=\"210.998\" x2=\"371.571\" y2=\"211.988\" stroke-linecap=\"round\" style=\"stroke:white;stroke-width:4\"/><line x1=\"371.571\" y1=\"211.988\" x2=\"371.779\" y2=\"212.966\" stroke-linecap=\"round\" style=\"stroke:white;stroke-width:4\"/><line x1=\"371.779\" y1=\"212.966\" x2=\"372.055\" y2=\"213.927\" stroke-linecap=\"round\" style=\"stroke:white;stroke-width:4\"/><line x1=\"372.055\" y1=\"213.927\" x2=\"372.397\" y2=\"214.867\" stroke-linecap=\"round\" style=\"stroke:white;stroke-width:4\"/><line x1=\"372.397\" y1=\"214.867\" x2=\"372.804\" y2=\"215.781\" stroke-linecap=\"round\" style=\"stroke:white;stroke-width:4\"/><line x1=\"372.804\" y1=\"215.781\" x2=\"373.273\" y2=\"216.664\" stroke-linecap=\"round\" style=\"stroke:white;stroke-width:4\"/><line x1=\"373.273\" y1=\"216.664\" x2=\"373.803\" y2=\"217.512\" stroke-linecap=\"round\" style=\"stroke:white;stroke-width:4\"/><line x1=\"373.803\" y1=\"217.512\" x2=\"374.391\" y2=\"218.321\" stroke-linecap=\"round\" style=\"stroke:white;stroke-width:4\"/><line x1=\"374.391\" y1=\"218.321\" x2=\"375.034\" y2=\"219.087\" stroke-linecap=\"round\" style=\"stroke:white;stroke-width:4\"/><line x1=\"375.034\" y1=\"219.087\" x2=\"375.729\" y2=\"219.806\" stroke-linecap=\"round\" style=\"stroke:white;stroke-width:4\"/><line x1=\"375.729\" y1=\"219.806\" x2=\"376.472\" y2=\"220.475\" stroke-linecap=\"round\" style=\"stroke:white;stroke-width:4\"/><line x1=\"376.472\" y1=\"220.475\" x2=\"377.26\" y2=\"221.091\" stroke-linecap=\"round\" style=\"stroke:white;stroke-width:4\"/><line x1=\"377.26\" y1=\"221.091\" x2=\"378.089\" y2=\"221.65\" stroke-linecap=\"round\" style=\"stroke:white;stroke-width:4\"/><line x1=\"378.089\" y1=\"221.65\" x2=\"378.955\" y2=\"222.15\" stroke-linecap=\"round\" style=\"stroke:white;stroke-width:4\"/><line x1=\"378.955\" y1=\"222.15\" x2=\"379.854\" y2=\"222.588\" stroke-linecap=\"round\" style=\"stroke:white;stroke-width:4\"/><line x1=\"379.854\" y1=\"222.588\" x2=\"380.781\" y2=\"222.963\" stroke-linecap=\"round\" style=\"stroke:white;stroke-width:4\"/><line x1=\"380.781\" y1=\"222.963\" x2=\"381.732\" y2=\"223.272\" stroke-linecap=\"round\" style=\"stroke:white;stroke-width:4\"/><line x1=\"381.732\" y1=\"223.272\" x2=\"382.702\" y2=\"223.514\" stroke-linecap=\"round\" style=\"stroke:white;stroke-width:4\"/><line x1=\"382.702\" y1=\"223.514\" x2=\"383.687\" y2=\"223.688\" stroke-linecap=\"round\" style=\"stroke:white;stroke-width:4\"/><line x1=\"383.687\" y1=\"223.688\" x2=\"384.682\" y2=\"223.793\" stroke-linecap=\"round\" style=\"stroke:white;stroke-width:4\"/><line x1=\"384.682\" y1=\"223.793\" x2=\"385.681\" y2=\"223.828\" stroke-linecap=\"round\" style=\"stroke:white;stroke-width:4\"/><line x1=\"385.681\" y1=\"223.828\" x2=\"386.68\" y2=\"223.793\" stroke-linecap=\"round\" style=\"stroke:white;stroke-width:4\"/><line x1=\"386.68\" y1=\"223.793\" x2=\"387.675\" y2=\"223.688\" stroke-linecap=\"round\" style=\"stroke:white;stroke-width:4\"/><line x1=\"387.675\" y1=\"223.688\" x2=\"388.66\" y2=\"223.514\" stroke-linecap=\"round\" style=\"stroke:white;stroke-width:4\"/><line x1=\"388.66\" y1=\"223.514\" x2=\"389.63\" y2=\"223.272\" stroke-linecap=\"round\" style=\"stroke:white;stroke-width:4\"/><line x1=\"389.63\" y1=\"223.272\" x2=\"390.581\" y2=\"222.963\" stroke-linecap=\"round\" style=\"stroke:white;stroke-width:4\"/><line x1=\"390.581\" y1=\"222.963\" x2=\"391.508\" y2=\"222.588\" stroke-linecap=\"round\" style=\"stroke:white;stroke-width:4\"/><line x1=\"391.508\" y1=\"222.588\" x2=\"392.407\" y2=\"222.15\" stroke-linecap=\"round\" style=\"stroke:white;stroke-width:4\"/><line x1=\"392.407\" y1=\"222.15\" x2=\"393.273\" y2=\"221.65\" stroke-linecap=\"round\" style=\"stroke:white;stroke-width:4\"/><line x1=\"393.273\" y1=\"221.65\" x2=\"394.102\" y2=\"221.091\" stroke-linecap=\"round\" style=\"stroke:white;stroke-width:4\"/><line x1=\"394.102\" y1=\"221.091\" x2=\"394.89\" y2=\"220.475\" stroke-linecap=\"round\" style=\"stroke:white;stroke-width:4\"/><line x1=\"394.89\" y1=\"220.475\" x2=\"395.633\" y2=\"219.806\" stroke-linecap=\"round\" style=\"stroke:white;stroke-width:4\"/><line x1=\"395.633\" y1=\"219.806\" x2=\"396.328\" y2=\"219.087\" stroke-linecap=\"round\" style=\"stroke:white;stroke-width:4\"/><line x1=\"396.328\" y1=\"219.087\" x2=\"396.971\" y2=\"218.321\" stroke-linecap=\"round\" style=\"stroke:white;stroke-width:4\"/><line x1=\"396.971\" y1=\"218.321\" x2=\"397.559\" y2=\"217.512\" stroke-linecap=\"round\" style=\"stroke:white;stroke-width:4\"/><line x1=\"397.559\" y1=\"217.512\" x2=\"398.089\" y2=\"216.664\" stroke-linecap=\"round\" style=\"stroke:white;stroke-width:4\"/><line x1=\"398.089\" y1=\"216.664\" x2=\"398.558\" y2=\"215.781\" stroke-linecap=\"round\" style=\"stroke:white;stroke-width:4\"/><line x1=\"398.558\" y1=\"215.781\" x2=\"398.965\" y2=\"214.867\" stroke-linecap=\"round\" style=\"stroke:white;stroke-width:4\"/><line x1=\"398.965\" y1=\"214.867\" x2=\"399.307\" y2=\"213.927\" stroke-linecap=\"round\" style=\"stroke:white;stroke-width:4\"/><line x1=\"399.307\" y1=\"213.927\" x2=\"399.583\" y2=\"212.966\" stroke-linecap=\"round\" style=\"stroke:white;stroke-width:4\"/><line x1=\"399.583\" y1=\"212.966\" x2=\"399.791\" y2=\"211.988\" stroke-linecap=\"round\" style=\"stroke:white;stroke-width:4\"/><line x1=\"399.791\" y1=\"211.988\" x2=\"399.93\" y2=\"210.998\" stroke-linecap=\"round\" style=\"stroke:white;stroke-width:4\"/><line x1=\"399.93\" y1=\"210.998\" x2=\"400.0\" y2=\"210.0\" stroke-linecap=\"round\" style=\"stroke:white;stroke-width:4\"/><line x1=\"400.0\" y1=\"210.0\" x2=\"400.0\" y2=\"110.0\" stroke-linecap=\"round\" style=\"stroke:white;stroke-width:4\"/><line x1=\"400.0\" y1=\"110.0\" x2=\"386.083\" y2=\"209.027\" stroke-linecap=\"round\" style=\"stroke:white;stroke-width:4\"/><line x1=\"386.083\" y1=\"209.027\" x2=\"413.647\" y2=\"112.901\" stroke-linecap=\"round\" style=\"stroke:white;stroke-width:4\"/><line x1=\"413.647\" y1=\"112.901\" x2=\"372.973\" y2=\"204.256\" stroke-linecap=\"round\" style=\"stroke:white;stroke-width:4\"/><line x1=\"372.973\" y1=\"204.256\" x2=\"425.965\" y2=\"119.451\" stroke-linecap=\"round\" style=\"stroke:white;stroke-width:4\"/><line x1=\"425.965\" y1=\"119.451\" x2=\"361.686\" y2=\"196.055\" stroke-linecap=\"round\" style=\"stroke:white;stroke-width:4\"/><line x1=\"361.686\" y1=\"196.055\" x2=\"436.0\" y2=\"129.142\" stroke-linecap=\"round\" style=\"stroke:white;stroke-width:4\"/><line x1=\"436.0\" y1=\"129.142\" x2=\"353.096\" y2=\"185.061\" stroke-linecap=\"round\" style=\"stroke:white;stroke-width:4\"/><line x1=\"353.096\" y1=\"185.061\" x2=\"442.975\" y2=\"141.224\" stroke-linecap=\"round\" style=\"stroke:white;stroke-width:4\"/><line x1=\"442.975\" y1=\"141.224\" x2=\"347.869\" y2=\"172.126\" stroke-linecap=\"round\" style=\"stroke:white;stroke-width:4\"/><line x1=\"347.869\" y1=\"172.126\" x2=\"446.35\" y2=\"154.761\" stroke-linecap=\"round\" style=\"stroke:white;stroke-width:4\"/><line x1=\"446.35\" y1=\"154.761\" x2=\"346.411\" y2=\"158.251\" stroke-linecap=\"round\" style=\"stroke:white;stroke-width:4\"/><line x1=\"346.411\" y1=\"158.251\" x2=\"445.863\" y2=\"168.704\" stroke-linecap=\"round\" style=\"stroke:white;stroke-width:4\"/><line x1=\"445.863\" y1=\"168.704\" x2=\"348.833\" y2=\"144.512\" stroke-linecap=\"round\" style=\"stroke:white;stroke-width:4\"/><line x1=\"348.833\" y1=\"144.512\" x2=\"441.551\" y2=\"181.973\" stroke-linecap=\"round\" style=\"stroke:white;stroke-width:4\"/><line x1=\"441.551\" y1=\"181.973\" x2=\"354.948\" y2=\"131.973\" stroke-linecap=\"round\" style=\"stroke:white;stroke-width:4\"/><line x1=\"354.948\" y1=\"131.973\" x2=\"433.749\" y2=\"193.539\" stroke-linecap=\"round\" style=\"stroke:white;stroke-width:4\"/><line x1=\"433.749\" y1=\"193.539\" x2=\"364.283\" y2=\"121.605\" stroke-linecap=\"round\" style=\"stroke:white;stroke-width:4\"/><line x1=\"364.283\" y1=\"121.605\" x2=\"423.062\" y2=\"202.507\" stroke-linecap=\"round\" style=\"stroke:white;stroke-width:4\"/><line x1=\"423.062\" y1=\"202.507\" x2=\"376.115\" y2=\"114.212\" stroke-linecap=\"round\" style=\"stroke:white;stroke-width:4\"/><line x1=\"376.115\" y1=\"114.212\" x2=\"410.317\" y2=\"208.181\" stroke-linecap=\"round\" style=\"stroke:white;stroke-width:4\"/><line x1=\"410.317\" y1=\"208.181\" x2=\"389.526\" y2=\"110.366\" stroke-linecap=\"round\" style=\"stroke:white;stroke-width:4\"/><line x1=\"389.526\" y1=\"110.366\" x2=\"396.502\" y2=\"210.122\" stroke-linecap=\"round\" style=\"stroke:white;stroke-width:4\"/><line x1=\"396.502\" y1=\"210.122\" x2=\"403.478\" y2=\"110.366\" stroke-linecap=\"round\" style=\"stroke:white;stroke-width:4\"/><line x1=\"403.478\" y1=\"110.366\" x2=\"382.687\" y2=\"208.181\" stroke-linecap=\"round\" style=\"stroke:white;stroke-width:4\"/><line x1=\"382.687\" y1=\"208.181\" x2=\"416.889\" y2=\"114.212\" stroke-linecap=\"round\" style=\"stroke:white;stroke-width:4\"/><line x1=\"416.889\" y1=\"114.212\" x2=\"369.942\" y2=\"202.507\" stroke-linecap=\"round\" style=\"stroke:white;stroke-width:4\"/><line x1=\"369.942\" y1=\"202.507\" x2=\"428.721\" y2=\"121.605\" stroke-linecap=\"round\" style=\"stroke:white;stroke-width:4\"/><line x1=\"428.721\" y1=\"121.605\" x2=\"359.255\" y2=\"193.539\" stroke-linecap=\"round\" style=\"stroke:white;stroke-width:4\"/><line x1=\"359.255\" y1=\"193.539\" x2=\"438.056\" y2=\"131.973\" stroke-linecap=\"round\" style=\"stroke:white;stroke-width:4\"/><line x1=\"438.056\" y1=\"131.973\" x2=\"351.453\" y2=\"181.973\" stroke-linecap=\"round\" style=\"stroke:white;stroke-width:4\"/><line x1=\"351.453\" y1=\"181.973\" x2=\"444.171\" y2=\"144.512\" stroke-linecap=\"round\" style=\"stroke:white;stroke-width:4\"/><line x1=\"444.171\" y1=\"144.512\" x2=\"347.141\" y2=\"168.704\" stroke-linecap=\"round\" style=\"stroke:white;stroke-width:4\"/><line x1=\"347.141\" y1=\"168.704\" x2=\"446.593\" y2=\"158.251\" stroke-linecap=\"round\" style=\"stroke:white;stroke-width:4\"/><line x1=\"446.593\" y1=\"158.251\" x2=\"346.654\" y2=\"154.761\" stroke-linecap=\"round\" style=\"stroke:white;stroke-width:4\"/><line x1=\"346.654\" y1=\"154.761\" x2=\"445.135\" y2=\"172.126\" stroke-linecap=\"round\" style=\"stroke:white;stroke-width:4\"/><line x1=\"445.135\" y1=\"172.126\" x2=\"350.029\" y2=\"141.224\" stroke-linecap=\"round\" style=\"stroke:white;stroke-width:4\"/><line x1=\"350.029\" y1=\"141.224\" x2=\"439.908\" y2=\"185.061\" stroke-linecap=\"round\" style=\"stroke:white;stroke-width:4\"/><line x1=\"439.908\" y1=\"185.061\" x2=\"357.004\" y2=\"129.142\" stroke-linecap=\"round\" style=\"stroke:white;stroke-width:4\"/><line x1=\"357.004\" y1=\"129.142\" x2=\"431.318\" y2=\"196.055\" stroke-linecap=\"round\" style=\"stroke:white;stroke-width:4\"/><line x1=\"431.318\" y1=\"196.055\" x2=\"367.039\" y2=\"119.451\" stroke-linecap=\"round\" style=\"stroke:white;stroke-width:4\"/><line x1=\"367.039\" y1=\"119.451\" x2=\"420.031\" y2=\"204.256\" stroke-linecap=\"round\" style=\"stroke:white;stroke-width:4\"/><line x1=\"420.031\" y1=\"204.256\" x2=\"379.357\" y2=\"112.901\" stroke-linecap=\"round\" style=\"stroke:white;stroke-width:4\"/><line x1=\"379.357\" y1=\"112.901\" x2=\"406.921\" y2=\"209.027\" stroke-linecap=\"round\" style=\"stroke:white;stroke-width:4\"/><line x1=\"406.921\" y1=\"209.027\" x2=\"393.004\" y2=\"110.0\" stroke-linecap=\"round\" style=\"stroke:white;stroke-width:4\"/>\n",
              "        <g visibility=visible transform=\"rotate(180,393.004,110.0) translate(375.004, 92.0)\">\n",
              "<path style=\" stroke:none;fill-rule:evenodd;fill:white;fill-opacity:1;\" d=\"M 18.214844 0.632812 C 16.109375 1.800781 15.011719 4.074219 15.074219 7.132812 L 15.085938 7.652344 L 14.785156 7.496094 C 13.476562 6.824219 11.957031 6.671875 10.40625 7.066406 C 8.46875 7.550781 6.515625 9.15625 4.394531 11.992188 C 3.0625 13.777344 2.679688 14.636719 3.042969 15.027344 L 3.15625 15.152344 L 3.519531 15.152344 C 4.238281 15.152344 4.828125 14.886719 8.1875 13.039062 C 9.386719 12.378906 10.371094 11.839844 10.378906 11.839844 C 10.386719 11.839844 10.355469 11.929688 10.304688 12.035156 C 9.832031 13.09375 9.257812 14.820312 8.96875 16.078125 C 7.914062 20.652344 8.617188 24.53125 11.070312 27.660156 C 11.351562 28.015625 11.363281 27.914062 10.972656 28.382812 C 8.925781 30.84375 7.945312 33.28125 8.238281 35.1875 C 8.289062 35.527344 8.28125 35.523438 8.917969 35.523438 C 10.941406 35.523438 13.074219 34.207031 15.136719 31.6875 C 15.359375 31.417969 15.328125 31.425781 15.5625 31.574219 C 16.292969 32.042969 18.023438 32.964844 18.175781 32.964844 C 18.335938 32.964844 19.941406 32.210938 20.828125 31.71875 C 20.996094 31.625 21.136719 31.554688 21.136719 31.558594 C 21.203125 31.664062 21.898438 32.414062 22.222656 32.730469 C 23.835938 34.300781 25.5625 35.132812 27.582031 35.300781 C 27.90625 35.328125 27.9375 35.308594 28.007812 34.984375 C 28.382812 33.242188 27.625 30.925781 25.863281 28.425781 L 25.542969 27.96875 L 25.699219 27.785156 C 28.945312 23.960938 29.132812 18.699219 26.257812 11.96875 L 26.207031 11.84375 L 27.945312 12.703125 C 31.53125 14.476562 32.316406 14.800781 33.03125 14.800781 C 33.976562 14.800781 33.78125 13.9375 32.472656 12.292969 C 28.519531 7.355469 25.394531 5.925781 21.921875 7.472656 L 21.558594 7.636719 L 21.578125 7.542969 C 21.699219 6.992188 21.761719 5.742188 21.699219 5.164062 C 21.496094 3.296875 20.664062 1.964844 19.003906 0.855469 C 18.480469 0.503906 18.457031 0.5 18.214844 0.632812\"/>\n",
              "</g>\n",
              "      </svg>\n",
              "    "
            ]
          },
          "metadata": {}
        }
      ]
    },
    {
      "cell_type": "markdown",
      "source": [
        "1.7 Quiz"
      ],
      "metadata": {
        "id": "LrPoE_rLG8fp"
      }
    },
    {
      "cell_type": "code",
      "source": [
        "total = 0\n",
        "for i in range(3):\n",
        "    total += i\n",
        "print(total)"
      ],
      "metadata": {
        "colab": {
          "base_uri": "https://localhost:8080/"
        },
        "id": "OVqLaa2lG9yW",
        "outputId": "59099bd5-5acf-4311-fe8c-987d16d8554f"
      },
      "execution_count": null,
      "outputs": [
        {
          "output_type": "stream",
          "name": "stdout",
          "text": [
            "3\n"
          ]
        }
      ]
    },
    {
      "cell_type": "code",
      "source": [
        "total = 0\n",
        "for i in range(3):\n",
        "    for j in range(3):\n",
        "        total += i * j\n",
        "print(total)"
      ],
      "metadata": {
        "colab": {
          "base_uri": "https://localhost:8080/"
        },
        "id": "9Zi86NpMHVz-",
        "outputId": "8df4396c-b6eb-4848-aaeb-9fa836c4efeb"
      },
      "execution_count": null,
      "outputs": [
        {
          "output_type": "stream",
          "name": "stdout",
          "text": [
            "9\n"
          ]
        }
      ]
    },
    {
      "cell_type": "markdown",
      "source": [
        "## Module 1.8: File I/O"
      ],
      "metadata": {
        "id": "ruOrZzWpIBFr"
      }
    },
    {
      "cell_type": "code",
      "source": [
        "with open('foo.text','w') as f:\n",
        "  f.write( \"Hello File.\\nHow are things with you?\" )\n",
        "print('all done')"
      ],
      "metadata": {
        "colab": {
          "base_uri": "https://localhost:8080/"
        },
        "id": "RzONmS1KISk5",
        "outputId": "3c19275d-594e-4da8-dc56-c9abec981453"
      },
      "execution_count": null,
      "outputs": [
        {
          "output_type": "stream",
          "name": "stdout",
          "text": [
            "all done\n"
          ]
        }
      ]
    },
    {
      "cell_type": "code",
      "source": [
        "allthetext = open('foo.text', 'r').read()"
      ],
      "metadata": {
        "id": "xr-GSdyRLpgX"
      },
      "execution_count": null,
      "outputs": []
    },
    {
      "cell_type": "code",
      "source": [
        "allthetext"
      ],
      "metadata": {
        "colab": {
          "base_uri": "https://localhost:8080/",
          "height": 35
        },
        "id": "7KCL0rXiL8FT",
        "outputId": "1adc454a-d162-4291-915a-d5f6a7ae0947"
      },
      "execution_count": null,
      "outputs": [
        {
          "output_type": "execute_result",
          "data": {
            "text/plain": [
              "'Hello File.\\nHow are things with you?'"
            ],
            "application/vnd.google.colaboratory.intrinsic+json": {
              "type": "string"
            }
          },
          "metadata": {},
          "execution_count": 22
        }
      ]
    },
    {
      "cell_type": "code",
      "source": [
        "allthelines = open('foo.text', 'r').readlines()"
      ],
      "metadata": {
        "id": "dB72Jv3TL9b0"
      },
      "execution_count": null,
      "outputs": []
    },
    {
      "cell_type": "code",
      "source": [
        "allthelines"
      ],
      "metadata": {
        "colab": {
          "base_uri": "https://localhost:8080/"
        },
        "id": "xGZnss0lMSnO",
        "outputId": "4cb3ca37-b879-42b0-dfab-ea5ca0b69168"
      },
      "execution_count": null,
      "outputs": [
        {
          "output_type": "execute_result",
          "data": {
            "text/plain": [
              "['Hello File.\\n', 'How are things with you?']"
            ]
          },
          "metadata": {},
          "execution_count": 24
        }
      ]
    },
    {
      "cell_type": "code",
      "source": [
        "import os\n",
        "import urllib.request"
      ],
      "metadata": {
        "id": "FbQvBEq2MUFM"
      },
      "execution_count": null,
      "outputs": []
    },
    {
      "cell_type": "code",
      "source": [
        "with urllib.request.urlopen('https://www.gutenberg.org/ebooks/11.txt.utf-8') as f:\n",
        "  allthetext = f.read()"
      ],
      "metadata": {
        "id": "iKUybT3ZMn43"
      },
      "execution_count": null,
      "outputs": []
    },
    {
      "cell_type": "code",
      "source": [
        "allthetext.count(b'Alice')"
      ],
      "metadata": {
        "colab": {
          "base_uri": "https://localhost:8080/"
        },
        "id": "Go9tS8m-NB_O",
        "outputId": "0c4169ae-70bd-4b75-9577-f9da10f08e53"
      },
      "execution_count": null,
      "outputs": [
        {
          "output_type": "execute_result",
          "data": {
            "text/plain": [
              "401"
            ]
          },
          "metadata": {},
          "execution_count": 31
        }
      ]
    },
    {
      "cell_type": "code",
      "source": [
        "len(allthetext.split())"
      ],
      "metadata": {
        "colab": {
          "base_uri": "https://localhost:8080/"
        },
        "id": "pUfhHntENwGQ",
        "outputId": "ff514e0a-dc9b-42fd-ae06-3c335501f1d6"
      },
      "execution_count": null,
      "outputs": [
        {
          "output_type": "execute_result",
          "data": {
            "text/plain": [
              "29564"
            ]
          },
          "metadata": {},
          "execution_count": 33
        }
      ]
    },
    {
      "cell_type": "markdown",
      "source": [
        "1.8 Quiz"
      ],
      "metadata": {
        "id": "iDoQ8_83Pz3G"
      }
    },
    {
      "cell_type": "code",
      "source": [
        "f = open('filename,'a')"
      ],
      "metadata": {
        "colab": {
          "base_uri": "https://localhost:8080/",
          "height": 144
        },
        "id": "uAIVT9DIRjr1",
        "outputId": "f8242ca2-dc8f-4a0f-8893-dbb3a303eb8e"
      },
      "execution_count": null,
      "outputs": [
        {
          "output_type": "error",
          "ename": "SyntaxError",
          "evalue": "unterminated string literal (detected at line 1) (<ipython-input-41-750475d5e99b>, line 1)",
          "traceback": [
            "\u001b[0;36m  File \u001b[0;32m\"<ipython-input-41-750475d5e99b>\"\u001b[0;36m, line \u001b[0;32m1\u001b[0m\n\u001b[0;31m    f = open('filename,'a')\u001b[0m\n\u001b[0m                         ^\u001b[0m\n\u001b[0;31mSyntaxError\u001b[0m\u001b[0;31m:\u001b[0m unterminated string literal (detected at line 1)\n"
          ]
        }
      ]
    },
    {
      "cell_type": "code",
      "source": [],
      "metadata": {
        "id": "oxR8BkoVRiFn"
      },
      "execution_count": null,
      "outputs": []
    },
    {
      "cell_type": "markdown",
      "source": [
        "## Module 1.9: Date and Time"
      ],
      "metadata": {
        "id": "oGJ5YtyPxHTr"
      }
    },
    {
      "cell_type": "code",
      "source": [
        "from datetime import datetime"
      ],
      "metadata": {
        "id": "xpMhgUFWxM9e"
      },
      "execution_count": null,
      "outputs": []
    },
    {
      "cell_type": "code",
      "source": [
        "somedate = '1971-07-21'"
      ],
      "metadata": {
        "id": "fIyn0mCvxnFM"
      },
      "execution_count": null,
      "outputs": []
    },
    {
      "cell_type": "code",
      "source": [
        "type(somedate)"
      ],
      "metadata": {
        "colab": {
          "base_uri": "https://localhost:8080/"
        },
        "id": "t1LZpzSMx4h-",
        "outputId": "581a648e-13d2-440c-d1e1-8bab3917a194"
      },
      "execution_count": null,
      "outputs": [
        {
          "output_type": "execute_result",
          "data": {
            "text/plain": [
              "str"
            ]
          },
          "metadata": {},
          "execution_count": 3
        }
      ]
    },
    {
      "cell_type": "code",
      "source": [
        "int(somedate[:4])"
      ],
      "metadata": {
        "colab": {
          "base_uri": "https://localhost:8080/"
        },
        "id": "20HkZAX3x6ue",
        "outputId": "19b94b0c-84e3-4da5-96da-942a6dd52234"
      },
      "execution_count": null,
      "outputs": [
        {
          "output_type": "execute_result",
          "data": {
            "text/plain": [
              "1971"
            ]
          },
          "metadata": {},
          "execution_count": 5
        }
      ]
    },
    {
      "cell_type": "code",
      "source": [
        "mybirthday = datetime.strptime(somedate, '%Y-%m-%d')"
      ],
      "metadata": {
        "id": "7utU75jnyLOv"
      },
      "execution_count": null,
      "outputs": []
    },
    {
      "cell_type": "code",
      "source": [
        "mybirthday"
      ],
      "metadata": {
        "colab": {
          "base_uri": "https://localhost:8080/"
        },
        "id": "yjaUkVPczLkF",
        "outputId": "96c3d817-4029-49f5-e64a-3b8dca863e8a"
      },
      "execution_count": null,
      "outputs": [
        {
          "output_type": "execute_result",
          "data": {
            "text/plain": [
              "datetime.datetime(1971, 7, 21, 0, 0)"
            ]
          },
          "metadata": {},
          "execution_count": 7
        }
      ]
    },
    {
      "cell_type": "code",
      "source": [
        "type(mybirthday)"
      ],
      "metadata": {
        "colab": {
          "base_uri": "https://localhost:8080/"
        },
        "id": "Lchq3CWazMrB",
        "outputId": "1561adab-d3c6-4cd6-e20f-da3863a1621a"
      },
      "execution_count": null,
      "outputs": [
        {
          "output_type": "execute_result",
          "data": {
            "text/plain": [
              "datetime.datetime"
            ]
          },
          "metadata": {},
          "execution_count": 8
        }
      ]
    },
    {
      "cell_type": "code",
      "source": [
        "datetime.strftime(mybirthday, '%A %B %d, %Y')"
      ],
      "metadata": {
        "colab": {
          "base_uri": "https://localhost:8080/",
          "height": 35
        },
        "id": "khi1tK5SzPCr",
        "outputId": "10a31304-1214-4241-d625-cc48aa721e44"
      },
      "execution_count": null,
      "outputs": [
        {
          "output_type": "execute_result",
          "data": {
            "text/plain": [
              "'Wednesday July 21, 1971'"
            ],
            "application/vnd.google.colaboratory.intrinsic+json": {
              "type": "string"
            }
          },
          "metadata": {},
          "execution_count": 11
        }
      ]
    },
    {
      "cell_type": "code",
      "source": [
        "datetime.now()"
      ],
      "metadata": {
        "colab": {
          "base_uri": "https://localhost:8080/"
        },
        "id": "2SOobZIf5HOJ",
        "outputId": "350bd909-0621-4022-e01f-d6840f7f9ce3"
      },
      "execution_count": null,
      "outputs": [
        {
          "output_type": "execute_result",
          "data": {
            "text/plain": [
              "datetime.datetime(2024, 1, 16, 15, 30, 14, 513438)"
            ]
          },
          "metadata": {},
          "execution_count": 13
        }
      ]
    },
    {
      "cell_type": "markdown",
      "source": [
        "Module 1.9 Quiz"
      ],
      "metadata": {
        "id": "ItoUiNPZ6QFh"
      }
    },
    {
      "cell_type": "code",
      "source": [
        "datetime.current()"
      ],
      "metadata": {
        "colab": {
          "base_uri": "https://localhost:8080/",
          "height": 181
        },
        "id": "i0JP7DuH5OjV",
        "outputId": "4789aed6-f333-43c8-f6cd-f20ebea444bb"
      },
      "execution_count": null,
      "outputs": [
        {
          "output_type": "error",
          "ename": "AttributeError",
          "evalue": "type object 'datetime.datetime' has no attribute 'current'",
          "traceback": [
            "\u001b[0;31m---------------------------------------------------------------------------\u001b[0m",
            "\u001b[0;31mAttributeError\u001b[0m                            Traceback (most recent call last)",
            "\u001b[0;32m<ipython-input-14-9f2753093060>\u001b[0m in \u001b[0;36m<cell line: 1>\u001b[0;34m()\u001b[0m\n\u001b[0;32m----> 1\u001b[0;31m \u001b[0mdatetime\u001b[0m\u001b[0;34m.\u001b[0m\u001b[0mcurrent\u001b[0m\u001b[0;34m(\u001b[0m\u001b[0;34m)\u001b[0m\u001b[0;34m\u001b[0m\u001b[0;34m\u001b[0m\u001b[0m\n\u001b[0m",
            "\u001b[0;31mAttributeError\u001b[0m: type object 'datetime.datetime' has no attribute 'current'"
          ]
        }
      ]
    },
    {
      "cell_type": "code",
      "source": [
        "datetime.now()"
      ],
      "metadata": {
        "colab": {
          "base_uri": "https://localhost:8080/"
        },
        "id": "p0AEt8yU69nx",
        "outputId": "c628d08d-be05-4988-d01a-61ca59610fbd"
      },
      "execution_count": null,
      "outputs": [
        {
          "output_type": "execute_result",
          "data": {
            "text/plain": [
              "datetime.datetime(2024, 1, 16, 15, 37, 56, 681657)"
            ]
          },
          "metadata": {},
          "execution_count": 15
        }
      ]
    },
    {
      "cell_type": "code",
      "source": [],
      "metadata": {
        "id": "xj-pvX9F7A5D"
      },
      "execution_count": null,
      "outputs": []
    },
    {
      "cell_type": "markdown",
      "source": [
        "## Module 1.10: Finding Data"
      ],
      "metadata": {
        "id": "11kDs3iZ9kz3"
      }
    },
    {
      "cell_type": "markdown",
      "source": [
        "1.10 Quiz"
      ],
      "metadata": {
        "id": "juF8G5OOLRgW"
      }
    },
    {
      "cell_type": "markdown",
      "source": [
        "## Module 1.11: PRAW 1 & 2\n"
      ],
      "metadata": {
        "id": "9dy9M9w4Mxrg"
      }
    },
    {
      "cell_type": "code",
      "source": [
        "!pip install asyncpraw"
      ],
      "metadata": {
        "id": "BmzMWG7qM4pX",
        "colab": {
          "base_uri": "https://localhost:8080/"
        },
        "outputId": "15b8d976-80b5-4a77-a5cd-945fea909447"
      },
      "execution_count": null,
      "outputs": [
        {
          "output_type": "stream",
          "name": "stdout",
          "text": [
            "Collecting asyncpraw\n",
            "  Downloading asyncpraw-7.7.1-py3-none-any.whl (196 kB)\n",
            "\u001b[?25l     \u001b[90m━━━━━━━━━━━━━━━━━━━━━━━━━━━━━━━━━━━━━━━━\u001b[0m \u001b[32m0.0/196.7 kB\u001b[0m \u001b[31m?\u001b[0m eta \u001b[36m-:--:--\u001b[0m\r\u001b[2K     \u001b[91m━━━━━━━━━━━━━━━━━━\u001b[0m\u001b[91m╸\u001b[0m\u001b[90m━━━━━━━━━━━━━━━━━━━━━\u001b[0m \u001b[32m92.2/196.7 kB\u001b[0m \u001b[31m2.8 MB/s\u001b[0m eta \u001b[36m0:00:01\u001b[0m\r\u001b[2K     \u001b[90m━━━━━━━━━━━━━━━━━━━━━━━━━━━━━━━━━━━━━━━━\u001b[0m \u001b[32m196.7/196.7 kB\u001b[0m \u001b[31m3.6 MB/s\u001b[0m eta \u001b[36m0:00:00\u001b[0m\n",
            "\u001b[?25hCollecting aiofiles<1 (from asyncpraw)\n",
            "  Downloading aiofiles-0.8.0-py3-none-any.whl (13 kB)\n",
            "Requirement already satisfied: aiohttp<4 in /usr/local/lib/python3.10/dist-packages (from asyncpraw) (3.9.1)\n",
            "Collecting aiosqlite<=0.17.0 (from asyncpraw)\n",
            "  Downloading aiosqlite-0.17.0-py3-none-any.whl (15 kB)\n",
            "Collecting asyncprawcore<3,>=2.1 (from asyncpraw)\n",
            "  Downloading asyncprawcore-2.4.0-py3-none-any.whl (19 kB)\n",
            "Collecting update-checker>=0.18 (from asyncpraw)\n",
            "  Downloading update_checker-0.18.0-py3-none-any.whl (7.0 kB)\n",
            "Requirement already satisfied: attrs>=17.3.0 in /usr/local/lib/python3.10/dist-packages (from aiohttp<4->asyncpraw) (23.2.0)\n",
            "Requirement already satisfied: multidict<7.0,>=4.5 in /usr/local/lib/python3.10/dist-packages (from aiohttp<4->asyncpraw) (6.0.4)\n",
            "Requirement already satisfied: yarl<2.0,>=1.0 in /usr/local/lib/python3.10/dist-packages (from aiohttp<4->asyncpraw) (1.9.4)\n",
            "Requirement already satisfied: frozenlist>=1.1.1 in /usr/local/lib/python3.10/dist-packages (from aiohttp<4->asyncpraw) (1.4.1)\n",
            "Requirement already satisfied: aiosignal>=1.1.2 in /usr/local/lib/python3.10/dist-packages (from aiohttp<4->asyncpraw) (1.3.1)\n",
            "Requirement already satisfied: async-timeout<5.0,>=4.0 in /usr/local/lib/python3.10/dist-packages (from aiohttp<4->asyncpraw) (4.0.3)\n",
            "Requirement already satisfied: typing_extensions>=3.7.2 in /usr/local/lib/python3.10/dist-packages (from aiosqlite<=0.17.0->asyncpraw) (4.5.0)\n",
            "Requirement already satisfied: requests>=2.3.0 in /usr/local/lib/python3.10/dist-packages (from update-checker>=0.18->asyncpraw) (2.31.0)\n",
            "Requirement already satisfied: charset-normalizer<4,>=2 in /usr/local/lib/python3.10/dist-packages (from requests>=2.3.0->update-checker>=0.18->asyncpraw) (3.3.2)\n",
            "Requirement already satisfied: idna<4,>=2.5 in /usr/local/lib/python3.10/dist-packages (from requests>=2.3.0->update-checker>=0.18->asyncpraw) (3.6)\n",
            "Requirement already satisfied: urllib3<3,>=1.21.1 in /usr/local/lib/python3.10/dist-packages (from requests>=2.3.0->update-checker>=0.18->asyncpraw) (2.0.7)\n",
            "Requirement already satisfied: certifi>=2017.4.17 in /usr/local/lib/python3.10/dist-packages (from requests>=2.3.0->update-checker>=0.18->asyncpraw) (2023.11.17)\n",
            "Installing collected packages: aiosqlite, aiofiles, update-checker, asyncprawcore, asyncpraw\n",
            "Successfully installed aiofiles-0.8.0 aiosqlite-0.17.0 asyncpraw-7.7.1 asyncprawcore-2.4.0 update-checker-0.18.0\n"
          ]
        }
      ]
    },
    {
      "cell_type": "code",
      "source": [
        "import asyncpraw"
      ],
      "metadata": {
        "id": "OEvuCGUrxmA7"
      },
      "execution_count": null,
      "outputs": []
    },
    {
      "cell_type": "code",
      "source": [
        "uName = 'garlixauce'\n",
        "uPass = 'Af6[7E8&r!W;VUv['\n",
        "appSecret = 'TyPHyub8uB3Rlif6cqzcBSCahZDmWA'\n",
        "appID = 'MGVilTsMR4WExVu26Y5PmQ'"
      ],
      "metadata": {
        "id": "U6a3yT72xmp8"
      },
      "execution_count": null,
      "outputs": []
    },
    {
      "cell_type": "code",
      "source": [
        "reddit = asyncpraw.Reddit(user_agent=\"Hot in PHX (by /u/garlixauce)\",\n",
        "                     client_id=appID, client_secret=appSecret,\n",
        "                     username=uName, password=uPass)\n"
      ],
      "metadata": {
        "id": "XlbfADhcx2ki"
      },
      "execution_count": null,
      "outputs": []
    },
    {
      "cell_type": "code",
      "source": [
        "subreddit = await reddit.subreddit('Phoenix', fetch=True)"
      ],
      "metadata": {
        "id": "BpYg2gg-1N2D"
      },
      "execution_count": null,
      "outputs": []
    },
    {
      "cell_type": "code",
      "source": [
        "# This one requires hard stop. Demonstration only; not necessary for code below to work.\n",
        "async for submission in subreddit.stream.submissions():\n",
        "  print(submission.title)"
      ],
      "metadata": {
        "id": "0jv9vKOq1irv"
      },
      "execution_count": null,
      "outputs": []
    },
    {
      "cell_type": "code",
      "source": [
        "topiclist = []\n",
        "async for submission in subreddit.new(limit=7):\n",
        "  topiclist.append(submission.id)"
      ],
      "metadata": {
        "id": "zNYa1_aBLKXu"
      },
      "execution_count": null,
      "outputs": []
    },
    {
      "cell_type": "code",
      "source": [
        "topiclist"
      ],
      "metadata": {
        "colab": {
          "base_uri": "https://localhost:8080/"
        },
        "id": "fFpYOzCkLuHy",
        "outputId": "505ef74d-dc87-4d90-d6a4-404127740cb8"
      },
      "execution_count": null,
      "outputs": [
        {
          "output_type": "execute_result",
          "data": {
            "text/plain": [
              "['19a0vg3', '199zcb4', '199skgj', '199sb2t', '199rqcm', '199r00v', '199qa19']"
            ]
          },
          "metadata": {},
          "execution_count": 9
        }
      ]
    },
    {
      "cell_type": "code",
      "source": [
        "from time import sleep"
      ],
      "metadata": {
        "id": "7pmgg0Q1s1Cs"
      },
      "execution_count": null,
      "outputs": []
    },
    {
      "cell_type": "code",
      "source": [
        "with open('subfile.csv','w') as subfile, open('comfile.csv','w') as comfile:\n",
        "  for eachtopic in topiclist:\n",
        "\n",
        "    sleep(2)\n",
        "\n",
        "    submission = await reddit.submission(eachtopic)\n",
        "\n",
        "    lineout = eachtopic + ',\"'\n",
        "    lineout += submission.title + '\",'\n",
        "    lineout += submission.author.name + ','\n",
        "    lineout += str(submission.created_utc) + ','\n",
        "    lineout += str(submission.score) + \"\\n\"\n",
        "\n",
        "    print(lineout)\n",
        "    subfile.write(lineout)\n",
        "\n",
        "    await submission.comments.replace_more(limit=None)\n",
        "    commentlist = await submission.comments.list()\n",
        "\n",
        "    for eachcomment in commentlist:\n",
        "\n",
        "      sleep(1)\n",
        "\n",
        "      lineout = eachcomment.id + ',\"'\n",
        "      lineout += eachcomment.body.replace('\\n','/') + '\",'\n",
        "      if not eachcomment.author:\n",
        "        name = 'NoName'\n",
        "      else:\n",
        "        name = eachcomment.author.name\n",
        "      lineout += name + ','\n",
        "      lineout += str(eachcomment.created_utc) + ','\n",
        "      lineout += eachcomment.parent_id + '.'\n",
        "      lineout += eachtopic + '\\n'\n",
        "\n",
        "      print(lineout)\n",
        "      comfile.write(lineout)\n"
      ],
      "metadata": {
        "id": "fEmAYQ6DzxHu"
      },
      "execution_count": null,
      "outputs": []
    },
    {
      "cell_type": "markdown",
      "source": [
        "1.11 Quiz"
      ],
      "metadata": {
        "id": "w29QHfGe6B82"
      }
    },
    {
      "cell_type": "markdown",
      "source": [
        "## Module 1 Project: Python Basics"
      ],
      "metadata": {
        "id": "qqkFjsih8c4g"
      }
    },
    {
      "cell_type": "code",
      "source": [
        "# Install asyncpraw\n",
        "!pip install asyncpraw"
      ],
      "metadata": {
        "id": "SNVOVGqk8s9Z",
        "colab": {
          "base_uri": "https://localhost:8080/"
        },
        "outputId": "c695db98-935f-4c25-a031-cf88189db87b"
      },
      "execution_count": null,
      "outputs": [
        {
          "output_type": "stream",
          "name": "stdout",
          "text": [
            "Requirement already satisfied: asyncpraw in /usr/local/lib/python3.10/dist-packages (7.7.1)\n",
            "Requirement already satisfied: aiofiles<1 in /usr/local/lib/python3.10/dist-packages (from asyncpraw) (0.8.0)\n",
            "Requirement already satisfied: aiohttp<4 in /usr/local/lib/python3.10/dist-packages (from asyncpraw) (3.9.1)\n",
            "Requirement already satisfied: aiosqlite<=0.17.0 in /usr/local/lib/python3.10/dist-packages (from asyncpraw) (0.17.0)\n",
            "Requirement already satisfied: asyncprawcore<3,>=2.1 in /usr/local/lib/python3.10/dist-packages (from asyncpraw) (2.4.0)\n",
            "Requirement already satisfied: update-checker>=0.18 in /usr/local/lib/python3.10/dist-packages (from asyncpraw) (0.18.0)\n",
            "Requirement already satisfied: attrs>=17.3.0 in /usr/local/lib/python3.10/dist-packages (from aiohttp<4->asyncpraw) (23.2.0)\n",
            "Requirement already satisfied: multidict<7.0,>=4.5 in /usr/local/lib/python3.10/dist-packages (from aiohttp<4->asyncpraw) (6.0.4)\n",
            "Requirement already satisfied: yarl<2.0,>=1.0 in /usr/local/lib/python3.10/dist-packages (from aiohttp<4->asyncpraw) (1.9.4)\n",
            "Requirement already satisfied: frozenlist>=1.1.1 in /usr/local/lib/python3.10/dist-packages (from aiohttp<4->asyncpraw) (1.4.1)\n",
            "Requirement already satisfied: aiosignal>=1.1.2 in /usr/local/lib/python3.10/dist-packages (from aiohttp<4->asyncpraw) (1.3.1)\n",
            "Requirement already satisfied: async-timeout<5.0,>=4.0 in /usr/local/lib/python3.10/dist-packages (from aiohttp<4->asyncpraw) (4.0.3)\n",
            "Requirement already satisfied: typing_extensions>=3.7.2 in /usr/local/lib/python3.10/dist-packages (from aiosqlite<=0.17.0->asyncpraw) (4.5.0)\n",
            "Requirement already satisfied: requests>=2.3.0 in /usr/local/lib/python3.10/dist-packages (from update-checker>=0.18->asyncpraw) (2.31.0)\n",
            "Requirement already satisfied: charset-normalizer<4,>=2 in /usr/local/lib/python3.10/dist-packages (from requests>=2.3.0->update-checker>=0.18->asyncpraw) (3.3.2)\n",
            "Requirement already satisfied: idna<4,>=2.5 in /usr/local/lib/python3.10/dist-packages (from requests>=2.3.0->update-checker>=0.18->asyncpraw) (3.6)\n",
            "Requirement already satisfied: urllib3<3,>=1.21.1 in /usr/local/lib/python3.10/dist-packages (from requests>=2.3.0->update-checker>=0.18->asyncpraw) (2.0.7)\n",
            "Requirement already satisfied: certifi>=2017.4.17 in /usr/local/lib/python3.10/dist-packages (from requests>=2.3.0->update-checker>=0.18->asyncpraw) (2023.11.17)\n"
          ]
        }
      ]
    },
    {
      "cell_type": "code",
      "source": [
        "# Import necessary tools\n",
        "import asyncpraw\n",
        "from time import sleep\n",
        "from datetime import datetime, timedelta, timezone"
      ],
      "metadata": {
        "id": "7r9_a-yB807s"
      },
      "execution_count": null,
      "outputs": []
    },
    {
      "cell_type": "code",
      "source": [
        "# Load keys for app\n",
        "uName = 'garlixauce'\n",
        "uPass = 'Af6[7E8&r!W;VUv['\n",
        "appSecret = 'uVfY-hmj4WQFFtOsHy9uSr_W3XFIXQ'\n",
        "appID = 'wH-YHPd8fNoCvvRRarrsBQ'"
      ],
      "metadata": {
        "id": "Lbm4gkNGNTYb"
      },
      "execution_count": null,
      "outputs": []
    },
    {
      "cell_type": "code",
      "source": [
        "# Create Reddit instance\n",
        "reddit = asyncpraw.Reddit(user_agent=\"Harmburgler (by /u/garlixauce)\",\n",
        "                     client_id=appID, client_secret=appSecret,\n",
        "                     username=uName, password=uPass)"
      ],
      "metadata": {
        "id": "Vo00NHymOxGj"
      },
      "execution_count": null,
      "outputs": []
    },
    {
      "cell_type": "code",
      "source": [
        "# Define subreddit\n",
        "subreddit_name = 'McDonalds'\n",
        "subreddit = await reddit.subreddit(subreddit_name)"
      ],
      "metadata": {
        "id": "1NHgbitLPBaU"
      },
      "execution_count": null,
      "outputs": []
    },
    {
      "cell_type": "code",
      "source": [
        "# Define keywords\n",
        "keywords = ['cheese', 'pickles', 'buns', 'meat', 'sesame']"
      ],
      "metadata": {
        "id": "SWs4MR1EEj1U"
      },
      "execution_count": null,
      "outputs": []
    },
    {
      "cell_type": "code",
      "source": [
        "# Define time to limit scrape to 72 hours\n",
        "current_time = datetime.utcnow()\n",
        "time_72_hours_ago = current_time - timedelta(hours=72)\n",
        "timestamp_72_hours_ago = int(time_72_hours_ago.timestamp())\n"
      ],
      "metadata": {
        "id": "OwXI42vnPSMg"
      },
      "execution_count": null,
      "outputs": []
    },
    {
      "cell_type": "code",
      "source": [
        "topiclist = []\n",
        "async for submission in subreddit.new():\n",
        "  topiclist.append(submission.id)"
      ],
      "metadata": {
        "id": "S4AXCchHSKhk"
      },
      "execution_count": null,
      "outputs": []
    },
    {
      "cell_type": "code",
      "source": [
        "# Define search using variables\n",
        "async def fetch_comments(reddit, subreddit_name, keywords, eachtopic):\n",
        "    subreddit = await reddit.subreddit(subreddit_name)\n",
        "    async for submission in subreddit.search(' '.join(keywords), time_filter='hour'):\n",
        "        created_utc = submission.created_utc\n",
        "        if created_utc > timestamp_72_hours_ago:\n",
        "            with open('burgerfile.csv', 'a') as burgerfile, open('harmfile.csv', 'a') as harmfile:\n",
        "                lineout = eachtopic + ',\"'\n",
        "                lineout += submission.title + '\",'\n",
        "                lineout += submission.author.name + ','\n",
        "                lineout += str(created_utc) + ','\n",
        "                lineout += str(submission.score) + \"\\n\"\n",
        "\n",
        "                print(lineout)\n",
        "                burgerfile.write(lineout)\n",
        "\n",
        "                await submission.comments.replace_more(limit=None)\n",
        "                commentlist = await submission.comments.list()\n",
        "\n",
        "                for eachcomment in commentlist:\n",
        "                    sleep(1)\n",
        "\n",
        "                    lineout = eachcomment.id + ',\"'\n",
        "                    lineout += eachcomment.body.replace('\\n', '/') + '\",'\n",
        "                    if not eachcomment.author:\n",
        "                        name = 'NoName'\n",
        "                    else:\n",
        "                        name = eachcomment.author.name\n",
        "                    lineout += name + ','\n",
        "                    lineout += str(eachcomment.created_utc) + ','\n",
        "                    lineout += eachcomment.parent_id + '.'\n",
        "                    lineout += eachtopic + '\\n'\n",
        "\n",
        "                    print(lineout)\n",
        "                    harmfile.write(lineout)\n",
        "\n",
        "# Loop through topiclist and call fetch_comments\n",
        "for eachtopic in topiclist:\n",
        "    await fetch_comments(reddit, subreddit_name, keywords, eachtopic)\n",
        "\n"
      ],
      "metadata": {
        "id": "9qZK2hi8QgRo"
      },
      "execution_count": null,
      "outputs": []
    },
    {
      "cell_type": "code",
      "source": [
        "x = 5\n",
        "y = 'five'\n",
        "print x\n",
        "print y"
      ],
      "metadata": {
        "colab": {
          "base_uri": "https://localhost:8080/",
          "height": 144
        },
        "id": "_W6z1K7lURt_",
        "outputId": "bf587243-5914-4fa6-f12a-29f6c0e6f982"
      },
      "execution_count": null,
      "outputs": [
        {
          "output_type": "error",
          "ename": "SyntaxError",
          "evalue": "Missing parentheses in call to 'print'. Did you mean print(...)? (<ipython-input-75-6011bf7ef364>, line 3)",
          "traceback": [
            "\u001b[0;36m  File \u001b[0;32m\"<ipython-input-75-6011bf7ef364>\"\u001b[0;36m, line \u001b[0;32m3\u001b[0m\n\u001b[0;31m    print x\u001b[0m\n\u001b[0m    ^\u001b[0m\n\u001b[0;31mSyntaxError\u001b[0m\u001b[0;31m:\u001b[0m Missing parentheses in call to 'print'. Did you mean print(...)?\n"
          ]
        }
      ]
    },
    {
      "cell_type": "code",
      "source": [
        "!pip import docx2txt"
      ],
      "metadata": {
        "id": "1sNxcQH_USPt",
        "colab": {
          "base_uri": "https://localhost:8080/"
        },
        "outputId": "f698c664-372e-414d-ae0a-f9abccab6cc1"
      },
      "execution_count": null,
      "outputs": [
        {
          "output_type": "stream",
          "name": "stdout",
          "text": [
            "ERROR: unknown command \"import\"\n"
          ]
        }
      ]
    },
    {
      "cell_type": "code",
      "source": [
        "!pip install docx2txt"
      ],
      "metadata": {
        "colab": {
          "base_uri": "https://localhost:8080/"
        },
        "id": "tNQcVZhK1jsV",
        "outputId": "7aa91e92-4523-4199-b2d2-2f2ebacdb6f2"
      },
      "execution_count": null,
      "outputs": [
        {
          "output_type": "stream",
          "name": "stdout",
          "text": [
            "Collecting docx2txt\n",
            "  Downloading docx2txt-0.8.tar.gz (2.8 kB)\n",
            "  Preparing metadata (setup.py) ... \u001b[?25l\u001b[?25hdone\n",
            "Building wheels for collected packages: docx2txt\n",
            "  Building wheel for docx2txt (setup.py) ... \u001b[?25l\u001b[?25hdone\n",
            "  Created wheel for docx2txt: filename=docx2txt-0.8-py3-none-any.whl size=3960 sha256=80466c767f37a1a9c227c448168dbd5c7d7d3ee9a04044c288de7bb23721d934\n",
            "  Stored in directory: /root/.cache/pip/wheels/22/58/cf/093d0a6c3ecfdfc5f6ddd5524043b88e59a9a199cb02352966\n",
            "Successfully built docx2txt\n",
            "Installing collected packages: docx2txt\n",
            "Successfully installed docx2txt-0.8\n"
          ]
        }
      ]
    },
    {
      "cell_type": "code",
      "source": [
        "import docx2txt"
      ],
      "metadata": {
        "id": "3IbBMLGQ2CJl"
      },
      "execution_count": null,
      "outputs": []
    },
    {
      "cell_type": "code",
      "source": [
        "test = docx2txt.process('Betts - Final Paper.docx')"
      ],
      "metadata": {
        "id": "1LFR-Hrp1nj2"
      },
      "execution_count": null,
      "outputs": []
    },
    {
      "cell_type": "code",
      "source": [
        "test"
      ],
      "metadata": {
        "colab": {
          "base_uri": "https://localhost:8080/",
          "height": 201
        },
        "id": "hcobcVve127S",
        "outputId": "01bf3590-5dc3-4da9-c829-75429b504fc1"
      },
      "execution_count": null,
      "outputs": [
        {
          "output_type": "execute_result",
          "data": {
            "text/plain": [
              "\"14\\n\\n\\n\\n\\n\\n\\n\\n\\n\\nKinesthetic Reinforcement of Fundamental Food and \\n\\nFarming Education in Elementary School Children\\n\\n\\n\\n\\n\\nJustin Betts\\n\\n\\n\\nWatts College of Public Service, Arizona State University\\n\\n\\n\\nCPP 524: Foundations of Program Evaluation II: Research Design\\n\\n\\n\\nProf. Jason Sills\\n\\n\\n\\nMay 6, 2023\\n\\n\\n\\n\\n\\n\\n\\n\\n\\n\\n\\n\\n\\n\\n\\n\\n\\n\\n\\n\\n\\n\\n\\n\\n\\n\\n\\n\\n\\n\\n\\n\\n\\n\\n\\n\\n\\n\\n\\n\\n\\n\\n\\n\\n\\n\\n\\n\\n\\n\\n\\n\\n\\n\\n\\n\\n\\n\\n\\n\\n\\nEvaluation of the Tucson Village Fam Youth Cooking Class Program\\n\\n\\n\\nThe problem: Most urbanized areas separate the food production cycle from consumption. By removing the process of food production from the everyday lives of people, positive and negative externalities from these processes become invisible. As Fusillo and Beloian discuss (1977), this relatively new homogenization of food selection reduces basic nutrition knowledge.\\n\\n\\n\\nProgram: The Tucson Village Farm offers the First Farmers Camp, a three-week program developed to instruct children aged from seven to ten years old on the basics of food nutrition and farming. The program offers all students a course component and either a visual field trip component or an experiential farming component.  \\n\\n\\n\\nProgram theory: Research on the effects of kinesthetic learning is not new (Suydam, 1977), and, as Joshi and Mishra (2022) more recently explore, for disciplines that align practice with recollection, like math, activity-based teaching shows clear benefits over sole lecture-based learning. The Tucson Village Farm recommends that for every two hours a student spend receiving nutritional information, they spend an hour in the field practicing farming techniques. By following a lesson with an activity, children recall better the information taught and are better equipped to move forward with more challenging concepts.\\n\\n\\n\\nThe dependent variable in the study: The study will give all students in the program a pre-test and a post-test with one group only receiving classroom exposure and a field trip to a farm for visual reinforcement and another group receiving classroom exposure with an additional experiential farming activity. We will also survey families on grocery store purchases one month prior to the class, the weeks when the classes are being held, and one mon\\tth after the class.\\n\\n\\n\\nMotivation of the study: Tucson Village Farm is funded primarily on donations and below-cost lessons. The experiential portion of the program is far more costly to maintain and provide than the in-class lessons. This study's purpose is to quantify the benefits, if any, of the activity-based coursework and inform donors and potential grant programs of the need and benefit of these activities. \\n\\n\\n\\nProgram inclusion criteria: For one Summer, students who register for the course will be randomly placed into either the classroom only class or the classroom plus activity class. The only restriction is that the participant must be no younger than seven years old and no older than ten years old. Participants will likely live exclusively in the Tucson metro area.\\n\\n\\n\\n\\n\\n\\n\\n\\n\\n\\n\\n\\n\\n\\n\\n\\n\\n\\n\\n\\n\\n\\n\\n\\n\\n\\n\\n\\tFor this study, we are interested in measuring two outcomes: the improvement of a student’s knowledge in elementary nutrition and whether that information has positively influenced eating habits for children, and their families. Ideally, the course utilizes not only the abstract benefits of proper nutrition education but also connects healthy food to the satisfying experience of growing food in a safe and engaging environment. \\n\\n\\tStudents will be randomly selected into two groups. All students will be placed in the same two-hour class. The class will go over age-appropriate nutrition information. After each class, students selected for additional audio-visual education will visit farms for an additional two hours to see various aspects of food growth. The other half of the course will engage in actual farming practices where they will participate in farming techniques.\\n\\n\\tTo evaluate nutritional habits, all families participating in the program must fill out a weekly survey one month prior to the course beginning. The survey will have an encompassing list of forty pre-selected foods to choose from. There will also be opportunities to write about foods that the family feel are not represented on the list. Families will fill out how often those foods were eaten each week. The total for each food will be tallied for monthly consumption. Families will fill out the same survey during the month their child or children are in the class and a month after they have completed it. \\n\\n\\tThere are quite a few issues with self-reporting diet habits, which Martin Hagger (2015) summarizes as a disconnect between how a respondent subjectively experiences habits and how habits are represented in surveys. Additionally, there are also potential issues with memory recollection, estimation, and potential blatant misrepresentation. Given that this is a fairly primitive study, the purpose of these surveys is meant for general fact finding for our donors. We are interested primarily in exploring how the families or our participants view themselves, not necessarily on exactness.\\n\\n\\tThe population that self-selects into the program is also an issue. A family attracted to the program may be quite different from a family that does not have the interest, or time, to send their children to the program. We must acknowledge again that this design is more about gathering information about our current participants than a generalized evaluation.\\n\\n\\tIn addition to the food consumption surveys, students will take a test before the program begins and after the program ends.  The first test will check nutrition knowledge taught to children during second grade, which, in Arizona, is a grade started at the age of eight. We confirmed with the Tucson Unified School District that our test covers material most students would have seen. The purpose of the pre-test is to set a baseline appropriate for families that self-select to enter the program. \\n\\n\\tThe post-test is meant to measure any differences between the baseline and the program, as well as any differences between the passive-learning only class and the class with an experiential component. If a meaningful difference exists, the program will be better advised on how to plan future classes, and the best way to invest in a curriculum that produces the most effective results. Certainly, age differences will matter, but the randomization of students between the two groups, as well as the pre-test and post-test should account for those differences.\\n\\nTheory of Change\\n\\n\\tFor the Tucson Village Farm, the program aims to add a positive, reinforcing voice for children to hear when talking about nutrition. At the ages the program serves, there are several voices children hear, and all of them our out of their control. According to Leslie Lytle’s (1994) study, children receive nutritional information primarily from parents, and at least 53% of interventions not already covered in the elementary curriculum are facilitated by schoolteachers (pg. 25). In the same study, Lytle discusses the trend of cutting nutrition education from curriculum as a cost-saving measure (pg. 48). As schools decrease the time devoted to nutrition, low-cost programs become crucial to assist in filling the education gap. \\n\\n\\tChildren take lessons from families, teachers, and media and are given few alternatives. Their sense of food and nutrition are contained primarily within that closed sphere. Tucson Farm Village takes some of the elements that children inherit from this structure and developed an experiential education program to reorient some of those concepts. One inference is that the workshop imparts skills and knowledge to children. With the information and skills developed in the class, children should be equipped with a new skillset. Part is recognizing the importance of the environment required to yield crops. Another part highlights the complex conditions required to feed many people. \\n\\n\\tWith the specific skillset and more grounded understanding of food, another assumption is made that infers the knowledge and skills gained from the intervention materializes into real-world effects. Children will take home some of the food grown, and a certain percentage is given to local food banks, emphasizing a complex response to food insecurity. A change in family eating habits and a thoughtful consideration to how land is used in urban spaces are also desired outcomes.\\n\\n\\n\\n\\n\\n\\n\\n\\n\\n\\n\\n\\n\\nMeasurement, Estimator, and the Counterfactual\\n\\n\\tThe dependent variable will be the students’ nutritional knowledge prior to starting the program. A pre-test will be distributed the first day of the program. Based on the students performance on the test, we will have a baseline for both the control and the treatment group.  \\n\\n\\tFor timeframe, we utilize two types of tests. The first is a survey of family eating habits one month before, the one month during the intervention, and one month after the intervention. The tests are meant to address the immediate effects of the program. Surveys on eating habits sent months or years after the survey are beyond the scope of the shareholders’ interests, and subject to extreme attrition and unreliability. For the pre-post test, we follow Anthony Worsley’s 2002 study on nutrition knowledge and food behavior, in which he states:\\n\\n\\tWe need to pay greater attention to the development of children’s and adults’ knowledge \\tframeworks (schema building) via group and experiential learning. There should be more \\tstudies of children’s nutrition knowledge and food beliefs and how they develop their dietary \\tpatterns (S584).\\n\\nMaking inferential claims about nutritional habits based on early education is incredibly complicated and prohibitively expensive to perform. What our stakeholders want to know is whether it is worth investing in an experiential farming component for our relatively short summer program. Which again, diminishes the universal applicability of our study, but is still valuable.\\n\\n\\tOur research design is set up so that we are directly measuring the treatment-on-the-treated. While we are also measuring and comparing performance of those not treated, our research design clearly distinguishes between those treated and those not treated. There may be students who do not receive the full treatment, e.g., miss a class period due to illness or stop attending the program, but class sizes are manageable enough that we can decide whether to exclude them from the study, or note any significant partial treatments. \\n\\nLiterature Review\\n\\n\\tFor the supporting assumption that experiential learning cultivates local geographic knowledge, which in-turn contributes to a stronger understanding of food security, I read a study lead by Ghaida Alrawashdeh, Samantha Lindgren, Manuel Reyes, and Sar Pisey. In their study, they sought to measure what impact experiential learning through a school curriculum had on their perceptions of a career in agriculture. The authors use the Social Cognitive Career Theory (SCCT) as their theoretical framework for their study, and by creating a context to link careers with experiential school programs, they believe there will be a causal link between the school program and a child’s willingness to enter the agriculture career field (Alrawashdeh, 5). They used a pre-post reflexive design to surveyed students from a specific region in rural Cambodia that offered a one-year program to teach ecologically friendly agriculture techniques (Alrawashdeh, 6). Teachers selected students to take a survey and those same students were given the same survey one year after the program was completed. Outcomes were measured by survey responses. They found that willingness for a career in agriculture was a secondary response to how the experiential learning program taught students about the impacts agricultural practices have on the local community (Alrawashdeh, 12).\\n\\n\\tTo explore the impact of community gardens on dietary habits, I used a study by Katherine Alaimo, Elizabeth Packnett, Richard Miles, and Daniel Kruger. In their study, they surveyed eating habits of residents in Genesee County, Michigan. They partnered with Speak to Your Health! Community Survey to identify areas where new community gardens have developed and query people who self-identified as participants in a community garden and compared their survey results with people in Genesee County who do not identify as members of a community garden (Alaimo, 98). This survey is a sort of post-only estimator. The way it is set up sounds more like a general one-time fact-finding survey to measure fruit and vegetable intake as well as using it as an opportunity to ask other health-related questions, like smoking habits. Outcomes were measured using the survey data.\\n\\n\\tDavid and Catherine Katz led a more measured study for elementary school children. Three schools received a new nutrition curriculum, and two schools did not receive the intervention. All five schools were part of Independence, Missouri. The three schools receiving the intervention had students participate in five mini lessons, which demonstrated the struggles of eating well, explaining how to find nutritious food, and showing the differences between more and less processed food (Katz, 22). The study wanted to measure whether giving students a better understanding of how to read food labels would meaningfully change dietary habits. The researchers used a pre-post test on food label knowledge as well as a survey on dietary habits. The post-test showed significant improvement of reading food labels, so the intervention was successful in teaching that information, but no significant change in dietary habits. Outcomes were measured with a post-test and follow-up survey to both the treatment and control groups.\\n\\n\\tFor the primary outcome, we will use a diff-in-diff design to measure knowledge retained from the the students who visited the farm (control), and the students who spent time working to grow vegetables in the field (treatment). Diff-in-diff is the best estimator for a few reasons, the first being the varying range in ages for children. By comparing the difference between the treatment group tests with the control group tests, we will determine what, if any, impact the experiential farming experience has over a second lecture-style field trip. While the children are randomly assigned into the control or treatment group, the diff-in-diff estimator further removes non-identical behavior between children in each group. \\n\\n\\tRandomization and diff-in-diff help to ensure the sample populations are either identical or have controlled for differences. All students attend the same first two-hour class component. So, the main difference will be how students who visited a farm will perform on the post-test compared to students who spent time farming. The diff-in-diff model helps to factor in secular trends for both the control and treatment group. Given the steps taken at the outset, the comparison group reflects the average group of children who would self-select into the program. We will want to pay careful attention to our sample size to ensure we have “happy” randomization, and we may elect to perform a matching to ensure the randomization is actually random.\\n\\n\\tOne issue to address: all students attend the class, but the control has a farm visit, which the treatment group does not participate in. We opted to include this farm visit for the control group because it is a low-cost alternative to farming that reinforces the content learned in the class. We did not want the treatment group to have the added benefit of more time with the material and the experiential learning activity. While we believe the added field trip helps mitigate the extra time the treatment group receives with the material, we also acknowledge it weakens the inferential power of the post-test comparison.\\n\\nCompeting Hypotheses\\n\\n(1) Selection / Omitted Variable Bias +0\\n\\n\\tOne of the major concerns for this study is going to be selection bias. The family that seeks out an extracurricular activity specifically to learn about nutrition and farming is not going to represent the general population, even if students are randomly selected into the treatment and control. If the sample is too small, and we expect it to be, randomizing is not going to remove the bias. Family motivation and influence will be important, and it is likely true that students electing to participate in the program will have a different level engagement with the program than the general population. Because we are testing on a few questions, we will be able to apply a Bonferroni correction to further measure omitted variables.\\n\\n(2) Non-Random Attrition +1\\n\\n\\t Because the study takes place in such a small area, during a specific time, it could be that events in the area prevent people from participating in the program. Something like excessive heat warnings, vacations, or other environmental challenges can alter the participation rate, and because the study is so short, they can have a large impact on the study. We have tried randomized those in the control and treatment, and are administering a pre-test and a post-test, so we believe we will be able to monitor and measure non-random attrition.\\n\\n(3) Maturation +1\\n\\n\\tMaturation likely is not an issue because the duration of the study is fairly quick – three months from pre-test to post-test, and the intervention itself is only a month long. Because we also have a control group to compare with and a pre-test, we should be able to control for any maturation that does happen during the study.\\n\\n(4) Secular Trends +1\\n\\n \\tSecular trends are not likely to be an issue because of the duration of the study, and the pre-test, post-test controls for changes that may occur, however unlikely.\\n\\n(5) Seasonality +0\\n\\n\\tSeasonality is an issue for this study. The program is only offered during the Summer, which not only affects the sample population, but also the experience of the treatment and the vegetables grown during the treatment. Our comparison group also tests during the same season, influencing the results. We could run the intervention in month-long intervals year-round to control for seasonality, but that is beyond the scope of this particular intervention.\\n\\n(6) Testing Effects +0\\n\\n\\tThe time between tests within thirty days, and we want to measure specific nutrition and dietary habits. We are not controlling against a group that does not receive testing and while the descriptive surveys are informative, they should not be used in place of the post-test.\\n\\n(7) Regression to the Mean +0\\n\\n\\tBecause we are randomizing children into both a control and treatment, neither group should be represented by the top or bottom of the distribution. However, participation in the program is self-selected. While the pre-post tests will have a control to measure against, we believe the very specific population will affect the mean.\\n\\n(8) Time-Frame of Study +1\\n\\n\\tThe time-frame for the study is appropriate for the participants and has been confirmed by the literature review. The immediate knowledge and skills obtained by the intervention should be immediately demonstrated, and there is no long-term test.\\n\\n(9) Measurement Error +1\\n\\n\\tThough the population is not as robust as desired, the diff-in-diff test mitigates for those issues. \\n\\n(10) Intervening Events +1\\n\\n\\tThe program was able to run without any external interference. With the exception of a couple unavoidable absences for illness, all students participated in and completed the program. No natural disasters interrupted the program, and neither the control nor the treatment group had any altering impacts.\\n\\nCampbell Score: 6/10\\n\\n\\tWhile the self-section into the program and geographic limitation of the student mean the study cannot be externally valid, the pre-test post-test with a valid comparison group ensures that the stakeholders for the program are given reliable information when determining whether or not the costly farming component makes a meaningful impact on program participants understanding of nutrition.\\n\\n\\n\\n\\n\\n\\n\\n\\n\\nReferences\\n\\n\\t\\t\\n\\n\\t\\tAlaimo, Katherine, PhD, Packnett, Elizabeth, MPH, Miles, Richard A., BS, & Kruger, Daniel J., PhD. (2008). Fruit and Vegetable Intake among Urban Community Gardeners. Journal of Nutrition Education and Behavior, 40(2), 94–101. https://doi.org/10.1016/j.jneb.2006.12.003\\n\\n\\t\\t\\n\\n\\t\\tAlrawashdeh, Lindgren, S., Reyes, M., & Pisey, S. (2022). Engaging youth at school to advance sustainable agriculture and inspire future farming: evidence from Cambodia. The Journal of Agricultural Education and Extension, ahead-of-print(ahead-of-print), 1–18. https://doi.org/10.1080/1389224X.2022.2117213\\n\\n\\t\\t\\n\\n\\t\\tFusillo, A. E., & Beloian, A. M. (1977). Consumer nutrition knowledge and self reported food shopping behavior. American journal of public health, 67(9), 846–850. https://doi.org/10.2105/ajph.67.9.846\\n\\n\\t\\t\\n\\n\\t\\tHagger, Rebar, A. L., Mullan, B., Lipp, O. V., & Chatzisarantis, N. L. D. (2015). The subjective experience of habit captured by self-report indexes may lead to inaccuracies in the measurement of habitual action. Health Psychology Review, 9(3), 296–302. https://doi.org/10.1080/17437199.2014.959728\\n\\n\\t\\t\\n\\n\\t\\t\\tJoshi, Rekha, & Mishra, Pratima. (2022). A Study of The Effectiveness of Activity-Based Teaching-Learning of Mathematics At 8th Standard Students. Educational Resurgence Journal, 5(1), 81–100. https://doi.org/10.5281/zenodo.6908498\\n\\n\\t\\t\\t\\n\\n\\t\\t\\tKatz, Katz, C. S., Treu, J. A., Reynolds, J., Njike, V., Walker, J., Smith, E., & Michael, J. (2011). Teaching Healthful Food Choices to Elementary School Students and Their Parents: The Nutrition Detectives™ Program. The Journal of School Health, 81(1), 21–28. https://doi.org/10.1111/j.1746-1561.2010.00553.x\\n\\n\\t\\t\\t\\n\\n\\t\\tLent, Brown, S. D., & Hackett, G. (1994). Toward a Unifying Social Cognitive Theory of Career and Academic Interest, Choice, and Performance. Journal of Vocational Behavior, 45(1), 79–122. https://doi.org/10.1006/jvbe.1994.1027\\n\\n\\t\\t\\n\\n\\t\\tLytle, L. A. (1994). Nutrition education for school-aged children a review of Research. Distributed by ERIC Clearinghouse. \\n\\n\\t\\t\\n\\n\\t\\tMcCormack, Lacey Arneson, MPH, RD, Laska, Melissa Nelson, PhD, RD, Larson, Nicole I., PhD, MPH, RD, & Story, Mary, PhD, RD. (2010). Review of the Nutritional Implications of Farmers' Markets and Community Gardens: A Call for Evaluation and Research Efforts. Journal of the American Dietetic Association, 110(3), 399–408. https://doi.org/10.1016/j.jada.2009.11.023\\n\\n\\t\\t\\n\\n\\t\\tSuydam, M. N., & Higgins, J. L. (1977). Activity-Based Learning in Elementary School Mathematics:, Recommendations from Research. Mathematics Education Report, 1–5. https://doi.org/https://eric.ed.gov/?id=ED144840\\n\\n\\t\\t\\n\\n\\t\\t  Worsley. (2002). Nutrition knowledge and food consumption: can nutrition knowledge change food behaviour? Asia Pacific Journal of Clinical Nutrition, 11, S579–S585. https://doi.org/10.1046/j.1440-6047.11.supp3.7.x\""
            ],
            "application/vnd.google.colaboratory.intrinsic+json": {
              "type": "string"
            }
          },
          "metadata": {},
          "execution_count": 7
        }
      ]
    },
    {
      "cell_type": "code",
      "source": [
        "print(test)"
      ],
      "metadata": {
        "colab": {
          "base_uri": "https://localhost:8080/"
        },
        "id": "RYHiSZd-2Ezt",
        "outputId": "b1b5c60e-a76e-4e51-c424-576fddad197d"
      },
      "execution_count": null,
      "outputs": [
        {
          "output_type": "stream",
          "name": "stdout",
          "text": [
            "14\n",
            "\n",
            "\n",
            "\n",
            "\n",
            "\n",
            "\n",
            "\n",
            "\n",
            "\n",
            "Kinesthetic Reinforcement of Fundamental Food and \n",
            "\n",
            "Farming Education in Elementary School Children\n",
            "\n",
            "\n",
            "\n",
            "\n",
            "\n",
            "Justin Betts\n",
            "\n",
            "\n",
            "\n",
            "Watts College of Public Service, Arizona State University\n",
            "\n",
            "\n",
            "\n",
            "CPP 524: Foundations of Program Evaluation II: Research Design\n",
            "\n",
            "\n",
            "\n",
            "Prof. Jason Sills\n",
            "\n",
            "\n",
            "\n",
            "May 6, 2023\n",
            "\n",
            "\n",
            "\n",
            "\n",
            "\n",
            "\n",
            "\n",
            "\n",
            "\n",
            "\n",
            "\n",
            "\n",
            "\n",
            "\n",
            "\n",
            "\n",
            "\n",
            "\n",
            "\n",
            "\n",
            "\n",
            "\n",
            "\n",
            "\n",
            "\n",
            "\n",
            "\n",
            "\n",
            "\n",
            "\n",
            "\n",
            "\n",
            "\n",
            "\n",
            "\n",
            "\n",
            "\n",
            "\n",
            "\n",
            "\n",
            "\n",
            "\n",
            "\n",
            "\n",
            "\n",
            "\n",
            "\n",
            "\n",
            "\n",
            "\n",
            "\n",
            "\n",
            "\n",
            "\n",
            "\n",
            "\n",
            "\n",
            "\n",
            "\n",
            "\n",
            "\n",
            "Evaluation of the Tucson Village Fam Youth Cooking Class Program\n",
            "\n",
            "\n",
            "\n",
            "The problem: Most urbanized areas separate the food production cycle from consumption. By removing the process of food production from the everyday lives of people, positive and negative externalities from these processes become invisible. As Fusillo and Beloian discuss (1977), this relatively new homogenization of food selection reduces basic nutrition knowledge.\n",
            "\n",
            "\n",
            "\n",
            "Program: The Tucson Village Farm offers the First Farmers Camp, a three-week program developed to instruct children aged from seven to ten years old on the basics of food nutrition and farming. The program offers all students a course component and either a visual field trip component or an experiential farming component.  \n",
            "\n",
            "\n",
            "\n",
            "Program theory: Research on the effects of kinesthetic learning is not new (Suydam, 1977), and, as Joshi and Mishra (2022) more recently explore, for disciplines that align practice with recollection, like math, activity-based teaching shows clear benefits over sole lecture-based learning. The Tucson Village Farm recommends that for every two hours a student spend receiving nutritional information, they spend an hour in the field practicing farming techniques. By following a lesson with an activity, children recall better the information taught and are better equipped to move forward with more challenging concepts.\n",
            "\n",
            "\n",
            "\n",
            "The dependent variable in the study: The study will give all students in the program a pre-test and a post-test with one group only receiving classroom exposure and a field trip to a farm for visual reinforcement and another group receiving classroom exposure with an additional experiential farming activity. We will also survey families on grocery store purchases one month prior to the class, the weeks when the classes are being held, and one mon\tth after the class.\n",
            "\n",
            "\n",
            "\n",
            "Motivation of the study: Tucson Village Farm is funded primarily on donations and below-cost lessons. The experiential portion of the program is far more costly to maintain and provide than the in-class lessons. This study's purpose is to quantify the benefits, if any, of the activity-based coursework and inform donors and potential grant programs of the need and benefit of these activities. \n",
            "\n",
            "\n",
            "\n",
            "Program inclusion criteria: For one Summer, students who register for the course will be randomly placed into either the classroom only class or the classroom plus activity class. The only restriction is that the participant must be no younger than seven years old and no older than ten years old. Participants will likely live exclusively in the Tucson metro area.\n",
            "\n",
            "\n",
            "\n",
            "\n",
            "\n",
            "\n",
            "\n",
            "\n",
            "\n",
            "\n",
            "\n",
            "\n",
            "\n",
            "\n",
            "\n",
            "\n",
            "\n",
            "\n",
            "\n",
            "\n",
            "\n",
            "\n",
            "\n",
            "\n",
            "\n",
            "\n",
            "\n",
            "\tFor this study, we are interested in measuring two outcomes: the improvement of a student’s knowledge in elementary nutrition and whether that information has positively influenced eating habits for children, and their families. Ideally, the course utilizes not only the abstract benefits of proper nutrition education but also connects healthy food to the satisfying experience of growing food in a safe and engaging environment. \n",
            "\n",
            "\tStudents will be randomly selected into two groups. All students will be placed in the same two-hour class. The class will go over age-appropriate nutrition information. After each class, students selected for additional audio-visual education will visit farms for an additional two hours to see various aspects of food growth. The other half of the course will engage in actual farming practices where they will participate in farming techniques.\n",
            "\n",
            "\tTo evaluate nutritional habits, all families participating in the program must fill out a weekly survey one month prior to the course beginning. The survey will have an encompassing list of forty pre-selected foods to choose from. There will also be opportunities to write about foods that the family feel are not represented on the list. Families will fill out how often those foods were eaten each week. The total for each food will be tallied for monthly consumption. Families will fill out the same survey during the month their child or children are in the class and a month after they have completed it. \n",
            "\n",
            "\tThere are quite a few issues with self-reporting diet habits, which Martin Hagger (2015) summarizes as a disconnect between how a respondent subjectively experiences habits and how habits are represented in surveys. Additionally, there are also potential issues with memory recollection, estimation, and potential blatant misrepresentation. Given that this is a fairly primitive study, the purpose of these surveys is meant for general fact finding for our donors. We are interested primarily in exploring how the families or our participants view themselves, not necessarily on exactness.\n",
            "\n",
            "\tThe population that self-selects into the program is also an issue. A family attracted to the program may be quite different from a family that does not have the interest, or time, to send their children to the program. We must acknowledge again that this design is more about gathering information about our current participants than a generalized evaluation.\n",
            "\n",
            "\tIn addition to the food consumption surveys, students will take a test before the program begins and after the program ends.  The first test will check nutrition knowledge taught to children during second grade, which, in Arizona, is a grade started at the age of eight. We confirmed with the Tucson Unified School District that our test covers material most students would have seen. The purpose of the pre-test is to set a baseline appropriate for families that self-select to enter the program. \n",
            "\n",
            "\tThe post-test is meant to measure any differences between the baseline and the program, as well as any differences between the passive-learning only class and the class with an experiential component. If a meaningful difference exists, the program will be better advised on how to plan future classes, and the best way to invest in a curriculum that produces the most effective results. Certainly, age differences will matter, but the randomization of students between the two groups, as well as the pre-test and post-test should account for those differences.\n",
            "\n",
            "Theory of Change\n",
            "\n",
            "\tFor the Tucson Village Farm, the program aims to add a positive, reinforcing voice for children to hear when talking about nutrition. At the ages the program serves, there are several voices children hear, and all of them our out of their control. According to Leslie Lytle’s (1994) study, children receive nutritional information primarily from parents, and at least 53% of interventions not already covered in the elementary curriculum are facilitated by schoolteachers (pg. 25). In the same study, Lytle discusses the trend of cutting nutrition education from curriculum as a cost-saving measure (pg. 48). As schools decrease the time devoted to nutrition, low-cost programs become crucial to assist in filling the education gap. \n",
            "\n",
            "\tChildren take lessons from families, teachers, and media and are given few alternatives. Their sense of food and nutrition are contained primarily within that closed sphere. Tucson Farm Village takes some of the elements that children inherit from this structure and developed an experiential education program to reorient some of those concepts. One inference is that the workshop imparts skills and knowledge to children. With the information and skills developed in the class, children should be equipped with a new skillset. Part is recognizing the importance of the environment required to yield crops. Another part highlights the complex conditions required to feed many people. \n",
            "\n",
            "\tWith the specific skillset and more grounded understanding of food, another assumption is made that infers the knowledge and skills gained from the intervention materializes into real-world effects. Children will take home some of the food grown, and a certain percentage is given to local food banks, emphasizing a complex response to food insecurity. A change in family eating habits and a thoughtful consideration to how land is used in urban spaces are also desired outcomes.\n",
            "\n",
            "\n",
            "\n",
            "\n",
            "\n",
            "\n",
            "\n",
            "\n",
            "\n",
            "\n",
            "\n",
            "\n",
            "\n",
            "Measurement, Estimator, and the Counterfactual\n",
            "\n",
            "\tThe dependent variable will be the students’ nutritional knowledge prior to starting the program. A pre-test will be distributed the first day of the program. Based on the students performance on the test, we will have a baseline for both the control and the treatment group.  \n",
            "\n",
            "\tFor timeframe, we utilize two types of tests. The first is a survey of family eating habits one month before, the one month during the intervention, and one month after the intervention. The tests are meant to address the immediate effects of the program. Surveys on eating habits sent months or years after the survey are beyond the scope of the shareholders’ interests, and subject to extreme attrition and unreliability. For the pre-post test, we follow Anthony Worsley’s 2002 study on nutrition knowledge and food behavior, in which he states:\n",
            "\n",
            "\tWe need to pay greater attention to the development of children’s and adults’ knowledge \tframeworks (schema building) via group and experiential learning. There should be more \tstudies of children’s nutrition knowledge and food beliefs and how they develop their dietary \tpatterns (S584).\n",
            "\n",
            "Making inferential claims about nutritional habits based on early education is incredibly complicated and prohibitively expensive to perform. What our stakeholders want to know is whether it is worth investing in an experiential farming component for our relatively short summer program. Which again, diminishes the universal applicability of our study, but is still valuable.\n",
            "\n",
            "\tOur research design is set up so that we are directly measuring the treatment-on-the-treated. While we are also measuring and comparing performance of those not treated, our research design clearly distinguishes between those treated and those not treated. There may be students who do not receive the full treatment, e.g., miss a class period due to illness or stop attending the program, but class sizes are manageable enough that we can decide whether to exclude them from the study, or note any significant partial treatments. \n",
            "\n",
            "Literature Review\n",
            "\n",
            "\tFor the supporting assumption that experiential learning cultivates local geographic knowledge, which in-turn contributes to a stronger understanding of food security, I read a study lead by Ghaida Alrawashdeh, Samantha Lindgren, Manuel Reyes, and Sar Pisey. In their study, they sought to measure what impact experiential learning through a school curriculum had on their perceptions of a career in agriculture. The authors use the Social Cognitive Career Theory (SCCT) as their theoretical framework for their study, and by creating a context to link careers with experiential school programs, they believe there will be a causal link between the school program and a child’s willingness to enter the agriculture career field (Alrawashdeh, 5). They used a pre-post reflexive design to surveyed students from a specific region in rural Cambodia that offered a one-year program to teach ecologically friendly agriculture techniques (Alrawashdeh, 6). Teachers selected students to take a survey and those same students were given the same survey one year after the program was completed. Outcomes were measured by survey responses. They found that willingness for a career in agriculture was a secondary response to how the experiential learning program taught students about the impacts agricultural practices have on the local community (Alrawashdeh, 12).\n",
            "\n",
            "\tTo explore the impact of community gardens on dietary habits, I used a study by Katherine Alaimo, Elizabeth Packnett, Richard Miles, and Daniel Kruger. In their study, they surveyed eating habits of residents in Genesee County, Michigan. They partnered with Speak to Your Health! Community Survey to identify areas where new community gardens have developed and query people who self-identified as participants in a community garden and compared their survey results with people in Genesee County who do not identify as members of a community garden (Alaimo, 98). This survey is a sort of post-only estimator. The way it is set up sounds more like a general one-time fact-finding survey to measure fruit and vegetable intake as well as using it as an opportunity to ask other health-related questions, like smoking habits. Outcomes were measured using the survey data.\n",
            "\n",
            "\tDavid and Catherine Katz led a more measured study for elementary school children. Three schools received a new nutrition curriculum, and two schools did not receive the intervention. All five schools were part of Independence, Missouri. The three schools receiving the intervention had students participate in five mini lessons, which demonstrated the struggles of eating well, explaining how to find nutritious food, and showing the differences between more and less processed food (Katz, 22). The study wanted to measure whether giving students a better understanding of how to read food labels would meaningfully change dietary habits. The researchers used a pre-post test on food label knowledge as well as a survey on dietary habits. The post-test showed significant improvement of reading food labels, so the intervention was successful in teaching that information, but no significant change in dietary habits. Outcomes were measured with a post-test and follow-up survey to both the treatment and control groups.\n",
            "\n",
            "\tFor the primary outcome, we will use a diff-in-diff design to measure knowledge retained from the the students who visited the farm (control), and the students who spent time working to grow vegetables in the field (treatment). Diff-in-diff is the best estimator for a few reasons, the first being the varying range in ages for children. By comparing the difference between the treatment group tests with the control group tests, we will determine what, if any, impact the experiential farming experience has over a second lecture-style field trip. While the children are randomly assigned into the control or treatment group, the diff-in-diff estimator further removes non-identical behavior between children in each group. \n",
            "\n",
            "\tRandomization and diff-in-diff help to ensure the sample populations are either identical or have controlled for differences. All students attend the same first two-hour class component. So, the main difference will be how students who visited a farm will perform on the post-test compared to students who spent time farming. The diff-in-diff model helps to factor in secular trends for both the control and treatment group. Given the steps taken at the outset, the comparison group reflects the average group of children who would self-select into the program. We will want to pay careful attention to our sample size to ensure we have “happy” randomization, and we may elect to perform a matching to ensure the randomization is actually random.\n",
            "\n",
            "\tOne issue to address: all students attend the class, but the control has a farm visit, which the treatment group does not participate in. We opted to include this farm visit for the control group because it is a low-cost alternative to farming that reinforces the content learned in the class. We did not want the treatment group to have the added benefit of more time with the material and the experiential learning activity. While we believe the added field trip helps mitigate the extra time the treatment group receives with the material, we also acknowledge it weakens the inferential power of the post-test comparison.\n",
            "\n",
            "Competing Hypotheses\n",
            "\n",
            "(1) Selection / Omitted Variable Bias +0\n",
            "\n",
            "\tOne of the major concerns for this study is going to be selection bias. The family that seeks out an extracurricular activity specifically to learn about nutrition and farming is not going to represent the general population, even if students are randomly selected into the treatment and control. If the sample is too small, and we expect it to be, randomizing is not going to remove the bias. Family motivation and influence will be important, and it is likely true that students electing to participate in the program will have a different level engagement with the program than the general population. Because we are testing on a few questions, we will be able to apply a Bonferroni correction to further measure omitted variables.\n",
            "\n",
            "(2) Non-Random Attrition +1\n",
            "\n",
            "\t Because the study takes place in such a small area, during a specific time, it could be that events in the area prevent people from participating in the program. Something like excessive heat warnings, vacations, or other environmental challenges can alter the participation rate, and because the study is so short, they can have a large impact on the study. We have tried randomized those in the control and treatment, and are administering a pre-test and a post-test, so we believe we will be able to monitor and measure non-random attrition.\n",
            "\n",
            "(3) Maturation +1\n",
            "\n",
            "\tMaturation likely is not an issue because the duration of the study is fairly quick – three months from pre-test to post-test, and the intervention itself is only a month long. Because we also have a control group to compare with and a pre-test, we should be able to control for any maturation that does happen during the study.\n",
            "\n",
            "(4) Secular Trends +1\n",
            "\n",
            " \tSecular trends are not likely to be an issue because of the duration of the study, and the pre-test, post-test controls for changes that may occur, however unlikely.\n",
            "\n",
            "(5) Seasonality +0\n",
            "\n",
            "\tSeasonality is an issue for this study. The program is only offered during the Summer, which not only affects the sample population, but also the experience of the treatment and the vegetables grown during the treatment. Our comparison group also tests during the same season, influencing the results. We could run the intervention in month-long intervals year-round to control for seasonality, but that is beyond the scope of this particular intervention.\n",
            "\n",
            "(6) Testing Effects +0\n",
            "\n",
            "\tThe time between tests within thirty days, and we want to measure specific nutrition and dietary habits. We are not controlling against a group that does not receive testing and while the descriptive surveys are informative, they should not be used in place of the post-test.\n",
            "\n",
            "(7) Regression to the Mean +0\n",
            "\n",
            "\tBecause we are randomizing children into both a control and treatment, neither group should be represented by the top or bottom of the distribution. However, participation in the program is self-selected. While the pre-post tests will have a control to measure against, we believe the very specific population will affect the mean.\n",
            "\n",
            "(8) Time-Frame of Study +1\n",
            "\n",
            "\tThe time-frame for the study is appropriate for the participants and has been confirmed by the literature review. The immediate knowledge and skills obtained by the intervention should be immediately demonstrated, and there is no long-term test.\n",
            "\n",
            "(9) Measurement Error +1\n",
            "\n",
            "\tThough the population is not as robust as desired, the diff-in-diff test mitigates for those issues. \n",
            "\n",
            "(10) Intervening Events +1\n",
            "\n",
            "\tThe program was able to run without any external interference. With the exception of a couple unavoidable absences for illness, all students participated in and completed the program. No natural disasters interrupted the program, and neither the control nor the treatment group had any altering impacts.\n",
            "\n",
            "Campbell Score: 6/10\n",
            "\n",
            "\tWhile the self-section into the program and geographic limitation of the student mean the study cannot be externally valid, the pre-test post-test with a valid comparison group ensures that the stakeholders for the program are given reliable information when determining whether or not the costly farming component makes a meaningful impact on program participants understanding of nutrition.\n",
            "\n",
            "\n",
            "\n",
            "\n",
            "\n",
            "\n",
            "\n",
            "\n",
            "\n",
            "References\n",
            "\n",
            "\t\t\n",
            "\n",
            "\t\tAlaimo, Katherine, PhD, Packnett, Elizabeth, MPH, Miles, Richard A., BS, & Kruger, Daniel J., PhD. (2008). Fruit and Vegetable Intake among Urban Community Gardeners. Journal of Nutrition Education and Behavior, 40(2), 94–101. https://doi.org/10.1016/j.jneb.2006.12.003\n",
            "\n",
            "\t\t\n",
            "\n",
            "\t\tAlrawashdeh, Lindgren, S., Reyes, M., & Pisey, S. (2022). Engaging youth at school to advance sustainable agriculture and inspire future farming: evidence from Cambodia. The Journal of Agricultural Education and Extension, ahead-of-print(ahead-of-print), 1–18. https://doi.org/10.1080/1389224X.2022.2117213\n",
            "\n",
            "\t\t\n",
            "\n",
            "\t\tFusillo, A. E., & Beloian, A. M. (1977). Consumer nutrition knowledge and self reported food shopping behavior. American journal of public health, 67(9), 846–850. https://doi.org/10.2105/ajph.67.9.846\n",
            "\n",
            "\t\t\n",
            "\n",
            "\t\tHagger, Rebar, A. L., Mullan, B., Lipp, O. V., & Chatzisarantis, N. L. D. (2015). The subjective experience of habit captured by self-report indexes may lead to inaccuracies in the measurement of habitual action. Health Psychology Review, 9(3), 296–302. https://doi.org/10.1080/17437199.2014.959728\n",
            "\n",
            "\t\t\n",
            "\n",
            "\t\t\tJoshi, Rekha, & Mishra, Pratima. (2022). A Study of The Effectiveness of Activity-Based Teaching-Learning of Mathematics At 8th Standard Students. Educational Resurgence Journal, 5(1), 81–100. https://doi.org/10.5281/zenodo.6908498\n",
            "\n",
            "\t\t\t\n",
            "\n",
            "\t\t\tKatz, Katz, C. S., Treu, J. A., Reynolds, J., Njike, V., Walker, J., Smith, E., & Michael, J. (2011). Teaching Healthful Food Choices to Elementary School Students and Their Parents: The Nutrition Detectives™ Program. The Journal of School Health, 81(1), 21–28. https://doi.org/10.1111/j.1746-1561.2010.00553.x\n",
            "\n",
            "\t\t\t\n",
            "\n",
            "\t\tLent, Brown, S. D., & Hackett, G. (1994). Toward a Unifying Social Cognitive Theory of Career and Academic Interest, Choice, and Performance. Journal of Vocational Behavior, 45(1), 79–122. https://doi.org/10.1006/jvbe.1994.1027\n",
            "\n",
            "\t\t\n",
            "\n",
            "\t\tLytle, L. A. (1994). Nutrition education for school-aged children a review of Research. Distributed by ERIC Clearinghouse. \n",
            "\n",
            "\t\t\n",
            "\n",
            "\t\tMcCormack, Lacey Arneson, MPH, RD, Laska, Melissa Nelson, PhD, RD, Larson, Nicole I., PhD, MPH, RD, & Story, Mary, PhD, RD. (2010). Review of the Nutritional Implications of Farmers' Markets and Community Gardens: A Call for Evaluation and Research Efforts. Journal of the American Dietetic Association, 110(3), 399–408. https://doi.org/10.1016/j.jada.2009.11.023\n",
            "\n",
            "\t\t\n",
            "\n",
            "\t\tSuydam, M. N., & Higgins, J. L. (1977). Activity-Based Learning in Elementary School Mathematics:, Recommendations from Research. Mathematics Education Report, 1–5. https://doi.org/https://eric.ed.gov/?id=ED144840\n",
            "\n",
            "\t\t\n",
            "\n",
            "\t\t  Worsley. (2002). Nutrition knowledge and food consumption: can nutrition knowledge change food behaviour? Asia Pacific Journal of Clinical Nutrition, 11, S579–S585. https://doi.org/10.1046/j.1440-6047.11.supp3.7.x\n"
          ]
        }
      ]
    },
    {
      "cell_type": "code",
      "source": [],
      "metadata": {
        "id": "Hy63a8pt2I1t"
      },
      "execution_count": null,
      "outputs": []
    }
  ]
}