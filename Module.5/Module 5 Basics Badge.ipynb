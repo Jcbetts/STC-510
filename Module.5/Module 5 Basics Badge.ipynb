{
 "cells": [
  {
   "cell_type": "code",
   "execution_count": 1,
   "id": "00227bf3",
   "metadata": {},
   "outputs": [],
   "source": [
    "from nltk import word_tokenize\n",
    "from nltk.corpus import stopwords\n",
    "from nltk.stem import WordNetLemmatizer\n",
    "from bs4 import BeautifulSoup\n",
    "from sklearn.feature_extraction.text import TfidfVectorizer\n",
    "from sklearn.model_selection import train_test_split\n",
    "from sklearn.naive_bayes import MultinomialNB\n",
    "from sklearn.metrics import accuracy_score\n",
    "import pandas as pd\n",
    "import os\n",
    "import re\n",
    "from string import punctuation\n",
    "from datetime import datetime\n",
    "import json\n",
    "import string\n",
    "\n",
    "json_file_path = 'jeopardy.json'\n",
    "\n",
    "english_stopwords = set(stopwords.words('english') + list(punctuation) + \n",
    "                       ['...', '..', '....', '``', \"''\", '/n'])"
   ]
  },
  {
   "cell_type": "code",
   "execution_count": 2,
   "id": "ccd7a466",
   "metadata": {},
   "outputs": [],
   "source": [
    "with open(json_file_path, 'r', encoding='utf-8') as f:\n",
    "    data = json.load(f)"
   ]
  },
  {
   "cell_type": "code",
   "execution_count": 3,
   "id": "f5268cb7",
   "metadata": {},
   "outputs": [],
   "source": [
    "def clean_wordlist(data):\n",
    "    '''\n",
    "    Takes a list of a dictionary, opens it and provides \n",
    "    a word list for all the information, lemmatized without stopwords.\n",
    "    BeautifulSoup not used because json file? - everything already looked\n",
    "    fairly separated.\n",
    "    '''\n",
    "    lemmatizer = WordNetLemmatizer()\n",
    "    english_stopwords = set(stopwords.words('english'))\n",
    "    \n",
    "    # have to push everything into a string and lowercase...\n",
    "    corpus = ''\n",
    "    for item in data:\n",
    "        for value in item.values():\n",
    "            if isinstance(value, str):\n",
    "                corpus += value.lower() + ' '\n",
    "    \n",
    "    words = word_tokenize(corpus)\n",
    "    \n",
    "    wordlist = [lemmatizer.lemmatize(word) for word in words if word not in english_stopwords and word not in string.punctuation]\n",
    "    \n",
    "    return wordlist\n"
   ]
  },
  {
   "cell_type": "code",
   "execution_count": 4,
   "id": "94be9bcd",
   "metadata": {},
   "outputs": [
    {
     "name": "stdout",
     "output_type": "stream",
     "text": [
      "[{'category': 'HISTORY', 'air_date': '2004-12-31', 'question': \"'For the last 8 years of his life, Galileo was under house arrest for espousing this man's theory'\", 'value': '$200', 'answer': 'Copernicus', 'round': 'Jeopardy!', 'show_number': '4680'}, {'category': \"ESPN's TOP 10 ALL-TIME ATHLETES\", 'air_date': '2004-12-31', 'question': \"'No. 2: 1912 Olympian; football star at Carlisle Indian School; 6 MLB seasons with the Reds, Giants & Braves'\", 'value': '$200', 'answer': 'Jim Thorpe', 'round': 'Jeopardy!', 'show_number': '4680'}, {'category': 'EVERYBODY TALKS ABOUT IT...', 'air_date': '2004-12-31', 'question': \"'The city of Yuma in this state has a record average of 4,055 hours of sunshine each year'\", 'value': '$200', 'answer': 'Arizona', 'round': 'Jeopardy!', 'show_number': '4680'}, {'category': 'THE COMPANY LINE', 'air_date': '2004-12-31', 'question': '\\'In 1963, live on \"The Art Linkletter Show\", this company served its billionth burger\\'', 'value': '$200', 'answer': \"McDonald\\\\'s\", 'round': 'Jeopardy!', 'show_number': '4680'}, {'category': 'EPITAPHS & TRIBUTES', 'air_date': '2004-12-31', 'question': \"'Signer of the Dec. of Indep., framer of the Constitution of Mass., second President of the United States'\", 'value': '$200', 'answer': 'John Adams', 'round': 'Jeopardy!', 'show_number': '4680'}, {'category': '3-LETTER WORDS', 'air_date': '2004-12-31', 'question': \"'In the title of an Aesop fable, this insect shared billing with a grasshopper'\", 'value': '$200', 'answer': 'the ant', 'round': 'Jeopardy!', 'show_number': '4680'}, {'category': 'HISTORY', 'air_date': '2004-12-31', 'question': \"'Built in 312 B.C. to link Rome & the South of Italy, it's still in use today'\", 'value': '$400', 'answer': 'the Appian Way', 'round': 'Jeopardy!', 'show_number': '4680'}, {'category': \"ESPN's TOP 10 ALL-TIME ATHLETES\", 'air_date': '2004-12-31', 'question': \"'No. 8: 30 steals for the Birmingham Barons; 2,306 steals for the Bulls'\", 'value': '$400', 'answer': 'Michael Jordan', 'round': 'Jeopardy!', 'show_number': '4680'}, {'category': 'EVERYBODY TALKS ABOUT IT...', 'air_date': '2004-12-31', 'question': \"'In the winter of 1971-72, a record 1,122 inches of snow fell at Rainier Paradise Ranger Station in this state'\", 'value': '$400', 'answer': 'Washington', 'round': 'Jeopardy!', 'show_number': '4680'}, {'category': 'THE COMPANY LINE', 'air_date': '2004-12-31', 'question': \"'This housewares store was named for the packaging its merchandise came in & was first displayed on'\", 'value': '$400', 'answer': 'Crate & Barrel', 'round': 'Jeopardy!', 'show_number': '4680'}]\n"
     ]
    }
   ],
   "source": [
    "# confirm load successful\n",
    "print(data[:10])"
   ]
  },
  {
   "cell_type": "code",
   "execution_count": 5,
   "id": "795be199",
   "metadata": {},
   "outputs": [
    {
     "data": {
      "text/plain": [
       "list"
      ]
     },
     "execution_count": 5,
     "metadata": {},
     "output_type": "execute_result"
    }
   ],
   "source": [
    "type(data)"
   ]
  },
  {
   "cell_type": "code",
   "execution_count": 6,
   "id": "3f5c818a",
   "metadata": {},
   "outputs": [
    {
     "data": {
      "text/plain": [
       "216930"
      ]
     },
     "execution_count": 6,
     "metadata": {},
     "output_type": "execute_result"
    }
   ],
   "source": [
    "len(data)"
   ]
  },
  {
   "cell_type": "code",
   "execution_count": 7,
   "id": "b2bcb0ee",
   "metadata": {},
   "outputs": [],
   "source": [
    "# create group to identify values\n",
    "values = [entry['value'] for entry in data]"
   ]
  },
  {
   "cell_type": "code",
   "execution_count": 20,
   "id": "8f1721a6",
   "metadata": {},
   "outputs": [
    {
     "name": "stdout",
     "output_type": "stream",
     "text": [
      "['$200', '$200', '$200', '$200', '$200', '$200', '$400', '$400', '$400', '$400', '$400', '$400', '$600', '$600', '$600', '$600', '$600', '$600', '$800', '$800', '$800', '$800', '$2,000', '$800', '$1000', '$1000', '$1000', '$1000', '$1000', '$400']\n"
     ]
    }
   ],
   "source": [
    "# check to confirm values grouped\n",
    "print(values[:30])"
   ]
  },
  {
   "cell_type": "code",
   "execution_count": 11,
   "id": "cf52a5ce",
   "metadata": {},
   "outputs": [],
   "source": [
    "# regex to find 800+ values\n",
    "highval = [1 if x and re.search(r'\\$(800|1000)', x) is not None else 0 for x in values]"
   ]
  },
  {
   "cell_type": "code",
   "execution_count": 12,
   "id": "f2466650",
   "metadata": {},
   "outputs": [
    {
     "name": "stdout",
     "output_type": "stream",
     "text": [
      "[0, 0, 0, 0, 0, 0, 0, 0, 0, 0, 0, 0, 0, 0, 0, 0, 0, 0, 1, 1, 1, 1, 0, 1, 1, 1, 1, 1, 1, 0]\n"
     ]
    }
   ],
   "source": [
    "print(highval[:30])"
   ]
  },
  {
   "cell_type": "markdown",
   "id": "ff5f1b1b",
   "metadata": {},
   "source": [
    "This is not working as it should. We need to do something with values greater than 1000, as well as values with commas in them. Skipping for now to save time... and sanity."
   ]
  },
  {
   "cell_type": "code",
   "execution_count": 13,
   "id": "66745446",
   "metadata": {},
   "outputs": [
    {
     "data": {
      "text/plain": [
       "[({'category': '3-LETTER WORDS',\n",
       "   'air_date': '2004-12-31',\n",
       "   'question': \"'A small demon, or a mischievous child (who might be a little demon!)'\",\n",
       "   'value': '$600',\n",
       "   'answer': 'imp',\n",
       "   'round': 'Jeopardy!',\n",
       "   'show_number': '4680'},\n",
       "  0),\n",
       " ({'category': 'HISTORY',\n",
       "   'air_date': '2004-12-31',\n",
       "   'question': \"'Karl led the first of these Marxist organizational efforts; the second one began in 1889'\",\n",
       "   'value': '$800',\n",
       "   'answer': 'the International',\n",
       "   'round': 'Jeopardy!',\n",
       "   'show_number': '4680'},\n",
       "  1),\n",
       " ({'category': \"ESPN's TOP 10 ALL-TIME ATHLETES\",\n",
       "   'air_date': '2004-12-31',\n",
       "   'question': '\\'No. 10: FB/LB for Columbia U. in the 1920s; MVP for the Yankees in \\'27 & \\'36; \"Gibraltar in Cleats\"\\'',\n",
       "   'value': '$800',\n",
       "   'answer': '(Lou) Gehrig',\n",
       "   'round': 'Jeopardy!',\n",
       "   'show_number': '4680'},\n",
       "  1),\n",
       " ({'category': 'EVERYBODY TALKS ABOUT IT...',\n",
       "   'air_date': '2004-12-31',\n",
       "   'question': \"'Africa's lowest temperature was 11 degrees below zero in 1935 at Ifrane, just south of Fez in this country'\",\n",
       "   'value': '$800',\n",
       "   'answer': 'Morocco',\n",
       "   'round': 'Jeopardy!',\n",
       "   'show_number': '4680'},\n",
       "  1),\n",
       " ({'category': 'THE COMPANY LINE',\n",
       "   'air_date': '2004-12-31',\n",
       "   'question': \"'Edward Teller & this man partnered in 1898 to sell high fashions to women'\",\n",
       "   'value': '$800',\n",
       "   'answer': '(Paul) Bonwit',\n",
       "   'round': 'Jeopardy!',\n",
       "   'show_number': '4680'},\n",
       "  1),\n",
       " ({'category': 'EPITAPHS & TRIBUTES',\n",
       "   'air_date': '2004-12-31',\n",
       "   'question': '\\'1939 Oscar winner: \"...you are a credit to your craft, your race and to your family\"\\'',\n",
       "   'value': '$2,000',\n",
       "   'answer': 'Hattie McDaniel (for her role in Gone with the Wind)',\n",
       "   'round': 'Jeopardy!',\n",
       "   'show_number': '4680'},\n",
       "  0),\n",
       " ({'category': '3-LETTER WORDS',\n",
       "   'air_date': '2004-12-31',\n",
       "   'question': \"'In geologic time one of these, shorter than an eon, is divided into periods & subdivided into epochs'\",\n",
       "   'value': '$800',\n",
       "   'answer': 'era',\n",
       "   'round': 'Jeopardy!',\n",
       "   'show_number': '4680'},\n",
       "  1),\n",
       " ({'category': 'HISTORY',\n",
       "   'air_date': '2004-12-31',\n",
       "   'question': '\\'This Asian political party was founded in 1885 with \"Indian National\" as part of its name\\'',\n",
       "   'value': '$1000',\n",
       "   'answer': 'the Congress Party',\n",
       "   'round': 'Jeopardy!',\n",
       "   'show_number': '4680'},\n",
       "  1),\n",
       " ({'category': \"ESPN's TOP 10 ALL-TIME ATHLETES\",\n",
       "   'air_date': '2004-12-31',\n",
       "   'question': \"'No. 5: Only center to lead the NBA in assists; track scholarship to Kansas U.; marathoner; volleyballer'\",\n",
       "   'value': '$1000',\n",
       "   'answer': '(Wilt) Chamberlain',\n",
       "   'round': 'Jeopardy!',\n",
       "   'show_number': '4680'},\n",
       "  1),\n",
       " ({'category': 'THE COMPANY LINE',\n",
       "   'air_date': '2004-12-31',\n",
       "   'question': \"'The Kirschner brothers, Don & Bill, named this ski company for themselves & the second-highest mountain'\",\n",
       "   'value': '$1000',\n",
       "   'answer': 'K2',\n",
       "   'round': 'Jeopardy!',\n",
       "   'show_number': '4680'},\n",
       "  1),\n",
       " ({'category': 'EPITAPHS & TRIBUTES',\n",
       "   'air_date': '2004-12-31',\n",
       "   'question': '\\'Revolutionary War hero: \"His spirit is in Vermont now\"\\'',\n",
       "   'value': '$1000',\n",
       "   'answer': 'Ethan Allen',\n",
       "   'round': 'Jeopardy!',\n",
       "   'show_number': '4680'},\n",
       "  1),\n",
       " ({'category': '3-LETTER WORDS',\n",
       "   'air_date': '2004-12-31',\n",
       "   'question': \"'A single layer of paper, or to perform one's craft diligently'\",\n",
       "   'value': '$1000',\n",
       "   'answer': 'ply',\n",
       "   'round': 'Jeopardy!',\n",
       "   'show_number': '4680'},\n",
       "  1),\n",
       " ({'category': 'DR. SEUSS AT THE MULTIPLEX',\n",
       "   'air_date': '2004-12-31',\n",
       "   'question': '\\'<a href=\"http://www.j-archive.com/media/2004-12-31_DJ_23.mp3\">Beyond ovoid abandonment, beyond ovoid betrayal... you won\\'t believe the ending when he \"Hatches the Egg\"</a>\\'',\n",
       "   'value': '$400',\n",
       "   'answer': 'Horton',\n",
       "   'round': 'Double Jeopardy!',\n",
       "   'show_number': '4680'},\n",
       "  0)]"
      ]
     },
     "execution_count": 13,
     "metadata": {},
     "output_type": "execute_result"
    }
   ],
   "source": [
    "# Confirm successful assignment of treatment and control\n",
    "list(zip(data,highval))[17:30]"
   ]
  },
  {
   "cell_type": "code",
   "execution_count": 14,
   "id": "bb090b85",
   "metadata": {},
   "outputs": [],
   "source": [
    "allquestions = [ ' '.join(clean_wordlist([x])) for x in data ]"
   ]
  },
  {
   "cell_type": "code",
   "execution_count": 15,
   "id": "12eaf608",
   "metadata": {},
   "outputs": [],
   "source": [
    "df = pd.DataFrame({'filename':data,\n",
    "                 'smart':highval,\n",
    "                  'text':allquestions})"
   ]
  },
  {
   "cell_type": "code",
   "execution_count": 16,
   "id": "214cb6fc",
   "metadata": {},
   "outputs": [],
   "source": [
    "X_train, X_test, Y_train, Y_test = train_test_split(df.text, df.smart,\n",
    "                                                   random_state=1) "
   ]
  },
  {
   "cell_type": "code",
   "execution_count": 17,
   "id": "2af1125d",
   "metadata": {},
   "outputs": [],
   "source": [
    "tfidf_vectorize = TfidfVectorizer(use_idf=True)\n",
    "X_train_tf = tfidf_vectorize.fit_transform(X_train)\n",
    "X_test_tf = tfidf_vectorize.transform(X_test)"
   ]
  },
  {
   "cell_type": "code",
   "execution_count": 18,
   "id": "3e14e288",
   "metadata": {},
   "outputs": [],
   "source": [
    "naive_bayes = MultinomialNB()\n",
    "naive_bayes.fit(X_train_tf, Y_train)\n",
    "predictions = naive_bayes.predict(X_test_tf)"
   ]
  },
  {
   "cell_type": "code",
   "execution_count": 19,
   "id": "ebdc07d9",
   "metadata": {},
   "outputs": [
    {
     "name": "stdout",
     "output_type": "stream",
     "text": [
      "Accuracy:  0.7660465030516476\n"
     ]
    }
   ],
   "source": [
    "print('Accuracy: ', accuracy_score(Y_test, predictions))"
   ]
  }
 ],
 "metadata": {
  "kernelspec": {
   "display_name": "Python 3 (ipykernel)",
   "language": "python",
   "name": "python3"
  },
  "language_info": {
   "codemirror_mode": {
    "name": "ipython",
    "version": 3
   },
   "file_extension": ".py",
   "mimetype": "text/x-python",
   "name": "python",
   "nbconvert_exporter": "python",
   "pygments_lexer": "ipython3",
   "version": "3.11.2"
  }
 },
 "nbformat": 4,
 "nbformat_minor": 5
}
