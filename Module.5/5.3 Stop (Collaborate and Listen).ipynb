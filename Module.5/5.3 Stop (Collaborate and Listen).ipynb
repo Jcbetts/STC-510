{
 "cells": [
  {
   "cell_type": "code",
   "execution_count": 1,
   "id": "20998a24",
   "metadata": {},
   "outputs": [],
   "source": [
    "from nltk.tokenize import word_tokenize\n",
    "from nltk.corpus import stopwords\n",
    "from bs4 import BeautifulSoup\n",
    "import os\n",
    "import re\n",
    "from string import punctuation\n",
    "DIRNAME = 'blogs/'"
   ]
  },
  {
   "cell_type": "code",
   "execution_count": 2,
   "id": "2900d409",
   "metadata": {},
   "outputs": [],
   "source": [
    "def make_wordlist(filelist):\n",
    "    '''\n",
    "    Takes a list of filenames with XML content, opens these, and provides \n",
    "    a wordlist for all these posts.\n",
    "    '''\n",
    "    corpus = ''\n",
    "    for eachfile in filelist:\n",
    "        xmltext = open(eachfile, encoding='utf8', errors = 'replace').read()\n",
    "        soup = BeautifulSoup(xmltext, features = 'xml')\n",
    "        corpus += '/n'.join(x.text.lower() for x in soup.findAll('post'))\n",
    "    wordlist = word_tokenize(corpus, language='english', preserve_line=True)\n",
    "    return wordlist"
   ]
  },
  {
   "cell_type": "markdown",
   "id": "05212240",
   "metadata": {},
   "source": [
    "A 'document string' or doc string is initiated with the ''' or \"\"\" and they come after definig a function. It is supposed to tell you what a thing is in 'plain English'. It's technically an undefined string, and it comes in right after you define. It's distinct from traditional comments because it can be read by different parts of Python."
   ]
  },
  {
   "cell_type": "code",
   "execution_count": 3,
   "id": "917ff766",
   "metadata": {},
   "outputs": [],
   "source": [
    "blogtweens = [(DIRNAME + fn) for fn in os.listdir(DIRNAME) if re.search(r'\\.1[1-2]\\.', fn)]\n",
    "blogteens = [(DIRNAME + fn) for fn in os.listdir(DIRNAME) if re.search(r'\\.1[3-9]\\.', fn)]\n",
    "blogtwenties = [(DIRNAME + fn) for fn in os.listdir(DIRNAME) if re.search(r'\\.2\\d\\.', fn)]\n",
    "blogthirties = [(DIRNAME + fn) for fn in os.listdir(DIRNAME) if re.search(r'\\.3\\d\\.', fn)]"
   ]
  },
  {
   "cell_type": "code",
   "execution_count": 4,
   "id": "ea45a32d",
   "metadata": {},
   "outputs": [
    {
     "name": "stdout",
     "output_type": "stream",
     "text": [
      "['blogs/3699726.female.14.indUnk.Aries.xml', 'blogs/3362256.male.15.indUnk.Scorpio.xml', 'blogs/3897591.male.15.Student.Libra.xml', 'blogs/3584627.female.17.Student.Scorpio.xml', 'blogs/4268277.female.14.indUnk.Leo.xml', 'blogs/4176187.female.13.indUnk.Aquarius.xml', 'blogs/3818017.male.15.indUnk.Aries.xml', 'blogs/3476502.female.16.Education.Aries.xml', 'blogs/3319203.male.15.indUnk.Pisces.xml', 'blogs/4224119.male.14.indUnk.Aquarius.xml', 'blogs/3699630.male.16.Student.Aries.xml', 'blogs/1436059.female.15.Education.Gemini.xml', 'blogs/4033738.male.13.Student.Pisces.xml', 'blogs/3800295.male.15.Student.Cancer.xml', 'blogs/4235204.female.13.Religion.Cancer.xml', 'blogs/3354122.female.16.indUnk.Cancer.xml', 'blogs/4277181.male.15.Student.Leo.xml', 'blogs/4071938.male.16.BusinessServices.Sagittarius.xml', 'blogs/3765677.female.17.indUnk.Aries.xml', 'blogs/3135056.male.15.Student.Libra.xml']\n"
     ]
    }
   ],
   "source": [
    "print(blogteens[:20])"
   ]
  },
  {
   "cell_type": "code",
   "execution_count": 5,
   "id": "2120a412",
   "metadata": {},
   "outputs": [
    {
     "data": {
      "text/plain": [
       "0"
      ]
     },
     "execution_count": 5,
     "metadata": {},
     "output_type": "execute_result"
    }
   ],
   "source": [
    "len(blogtweens)"
   ]
  },
  {
   "cell_type": "code",
   "execution_count": 6,
   "id": "326ccd6a",
   "metadata": {},
   "outputs": [
    {
     "data": {
      "text/plain": [
       "8240"
      ]
     },
     "execution_count": 6,
     "metadata": {},
     "output_type": "execute_result"
    }
   ],
   "source": [
    "len(blogteens)"
   ]
  },
  {
   "cell_type": "code",
   "execution_count": 7,
   "id": "0e07eda3",
   "metadata": {},
   "outputs": [
    {
     "data": {
      "text/plain": [
       "8086"
      ]
     },
     "execution_count": 7,
     "metadata": {},
     "output_type": "execute_result"
    }
   ],
   "source": [
    "len(blogtwenties)"
   ]
  },
  {
   "cell_type": "code",
   "execution_count": 8,
   "id": "4e5a5ff2",
   "metadata": {},
   "outputs": [
    {
     "data": {
      "text/plain": [
       "2050"
      ]
     },
     "execution_count": 8,
     "metadata": {},
     "output_type": "execute_result"
    }
   ],
   "source": [
    "len(blogthirties)"
   ]
  },
  {
   "cell_type": "code",
   "execution_count": 10,
   "id": "2a43e881",
   "metadata": {},
   "outputs": [
    {
     "ename": "TypeError",
     "evalue": "sequence item 0: expected str instance, builtin_function_or_method found",
     "output_type": "error",
     "traceback": [
      "\u001b[0;31m---------------------------------------------------------------------------\u001b[0m",
      "\u001b[0;31mTypeError\u001b[0m                                 Traceback (most recent call last)",
      "Cell \u001b[0;32mIn [10], line 1\u001b[0m\n\u001b[0;32m----> 1\u001b[0m teenwords \u001b[38;5;241m=\u001b[39m \u001b[43mmake_wordlist\u001b[49m\u001b[43m(\u001b[49m\u001b[43mblogteens\u001b[49m\u001b[43m)\u001b[49m\n",
      "Cell \u001b[0;32mIn [2], line 10\u001b[0m, in \u001b[0;36mmake_wordlist\u001b[0;34m(filelist)\u001b[0m\n\u001b[1;32m      8\u001b[0m     xmltext \u001b[38;5;241m=\u001b[39m \u001b[38;5;28mopen\u001b[39m(eachfile, encoding\u001b[38;5;241m=\u001b[39m\u001b[38;5;124m'\u001b[39m\u001b[38;5;124mutf8\u001b[39m\u001b[38;5;124m'\u001b[39m, errors \u001b[38;5;241m=\u001b[39m \u001b[38;5;124m'\u001b[39m\u001b[38;5;124mreplace\u001b[39m\u001b[38;5;124m'\u001b[39m)\u001b[38;5;241m.\u001b[39mread()\n\u001b[1;32m      9\u001b[0m     soup \u001b[38;5;241m=\u001b[39m BeautifulSoup(xmltext, features \u001b[38;5;241m=\u001b[39m \u001b[38;5;124m'\u001b[39m\u001b[38;5;124mxml\u001b[39m\u001b[38;5;124m'\u001b[39m)\n\u001b[0;32m---> 10\u001b[0m     corpus \u001b[38;5;241m+\u001b[39m\u001b[38;5;241m=\u001b[39m \u001b[38;5;124;43m'\u001b[39;49m\u001b[38;5;124;43m/n\u001b[39;49m\u001b[38;5;124;43m'\u001b[39;49m\u001b[38;5;241;43m.\u001b[39;49m\u001b[43mjoin\u001b[49m\u001b[43m(\u001b[49m\u001b[43mx\u001b[49m\u001b[38;5;241;43m.\u001b[39;49m\u001b[43mtext\u001b[49m\u001b[38;5;241;43m.\u001b[39;49m\u001b[43mlower\u001b[49m\u001b[43m \u001b[49m\u001b[38;5;28;43;01mfor\u001b[39;49;00m\u001b[43m \u001b[49m\u001b[43mx\u001b[49m\u001b[43m \u001b[49m\u001b[38;5;129;43;01min\u001b[39;49;00m\u001b[43m \u001b[49m\u001b[43msoup\u001b[49m\u001b[38;5;241;43m.\u001b[39;49m\u001b[43mfindAll\u001b[49m\u001b[43m(\u001b[49m\u001b[38;5;124;43m'\u001b[39;49m\u001b[38;5;124;43mpost\u001b[39;49m\u001b[38;5;124;43m'\u001b[39;49m\u001b[43m)\u001b[49m\u001b[43m)\u001b[49m\n\u001b[1;32m     11\u001b[0m wordlist \u001b[38;5;241m=\u001b[39m word_tokenize(corpus, language\u001b[38;5;241m=\u001b[39m\u001b[38;5;124m'\u001b[39m\u001b[38;5;124menglish\u001b[39m\u001b[38;5;124m'\u001b[39m, preserve_line\u001b[38;5;241m=\u001b[39m\u001b[38;5;28;01mTrue\u001b[39;00m)\n\u001b[1;32m     12\u001b[0m \u001b[38;5;28;01mreturn\u001b[39;00m wordlist\n",
      "\u001b[0;31mTypeError\u001b[0m: sequence item 0: expected str instance, builtin_function_or_method found"
     ]
    }
   ],
   "source": [
    "teenwords = make_wordlist(blogteens)"
   ]
  },
  {
   "cell_type": "code",
   "execution_count": 30,
   "id": "1730310f",
   "metadata": {},
   "outputs": [],
   "source": [
    "# twentieswords = make_wordlist(blogtwenties)"
   ]
  },
  {
   "cell_type": "code",
   "execution_count": 31,
   "id": "5d1817fb",
   "metadata": {},
   "outputs": [],
   "source": [
    "# thirtieswords = make_wordlist(blogthirties)"
   ]
  },
  {
   "cell_type": "code",
   "execution_count": 32,
   "id": "019dc170",
   "metadata": {},
   "outputs": [],
   "source": [
    "# tweenwords = make_wordlist(blogtweens)"
   ]
  },
  {
   "cell_type": "code",
   "execution_count": 9,
   "id": "9b1b27e3",
   "metadata": {},
   "outputs": [
    {
     "name": "stderr",
     "output_type": "stream",
     "text": [
      "IOPub data rate exceeded.\n",
      "The notebook server will temporarily stop sending output\n",
      "to the client in order to avoid crashing it.\n",
      "To change this limit, set the config variable\n",
      "`--NotebookApp.iopub_data_rate_limit`.\n",
      "\n",
      "Current values:\n",
      "NotebookApp.iopub_data_rate_limit=1000000.0 (bytes/sec)\n",
      "NotebookApp.rate_limit_window=3.0 (secs)\n",
      "\n"
     ]
    }
   ],
   "source": [
    "# print(teenwords)"
   ]
  },
  {
   "cell_type": "code",
   "execution_count": 14,
   "id": "f98c9f2b",
   "metadata": {},
   "outputs": [
    {
     "name": "stdout",
     "output_type": "stream",
     "text": [
      "['i', 'dont', 'no', 'y', 'i', 'put', 'that', 'as', 'the', 'title', 'i', 'just', 'couldnt', 'think', 'of', 'anything.', 'if', 'any', 'of', 'my', 'mates', 'r', 'reading', 'this', 'plz']\n"
     ]
    }
   ],
   "source": [
    "print(teenwords[:25])"
   ]
  },
  {
   "cell_type": "code",
   "execution_count": 15,
   "id": "476fee7c",
   "metadata": {},
   "outputs": [
    {
     "name": "stderr",
     "output_type": "stream",
     "text": [
      "[nltk_data] Downloading package stopwords to /home/justin/nltk_data...\n",
      "[nltk_data]   Unzipping corpora/stopwords.zip.\n"
     ]
    },
    {
     "data": {
      "text/plain": [
       "True"
      ]
     },
     "execution_count": 15,
     "metadata": {},
     "output_type": "execute_result"
    }
   ],
   "source": [
    "from nltk import download\n",
    "download('stopwords')"
   ]
  },
  {
   "cell_type": "code",
   "execution_count": 25,
   "id": "415d2d3e",
   "metadata": {},
   "outputs": [],
   "source": [
    "english_stopwords = set(stopwords.words('english') + list(punctuation))"
   ]
  },
  {
   "cell_type": "markdown",
   "id": "e8eb4b6e",
   "metadata": {},
   "source": [
    "Turn this into a set to help make it more efficient."
   ]
  },
  {
   "cell_type": "code",
   "execution_count": 26,
   "id": "6f97f27b",
   "metadata": {},
   "outputs": [],
   "source": [
    "stopped_teens = [x for x in teenwords if not x in english_stopwords]"
   ]
  },
  {
   "cell_type": "code",
   "execution_count": 27,
   "id": "584eaa38",
   "metadata": {},
   "outputs": [
    {
     "data": {
      "text/plain": [
       "['dont',\n",
       " 'put',\n",
       " 'title',\n",
       " 'couldnt',\n",
       " 'think',\n",
       " 'anything.',\n",
       " 'mates',\n",
       " 'r',\n",
       " 'reading',\n",
       " 'plz',\n",
       " 'e-mail',\n",
       " 'box',\n",
       " 'empty',\n",
       " 'yonks.',\n",
       " 'im',\n",
       " 'soo',\n",
       " 'tierd',\n",
       " 'moment',\n",
       " 'got',\n",
       " 'sleep',\n",
       " 'last',\n",
       " 'nite',\n",
       " 'whatching',\n",
       " 'rush',\n",
       " 'hour',\n",
       " '2.',\n",
       " 'got',\n",
       " 'ta',\n",
       " 'go',\n",
       " 'bye.',\n",
       " '/n',\n",
       " 'Help',\n",
       " 'every1.',\n",
       " 'fell',\n",
       " 'lost',\n",
       " 'bored',\n",
       " 'hugry',\n",
       " 'tierd.',\n",
       " 'plz',\n",
       " 'save',\n",
       " 'im',\n",
       " 'dieing',\n",
       " 'here.',\n",
       " 'well',\n",
       " 'im',\n",
       " 'hey.',\n",
       " 'im',\n",
       " 'allways',\n",
       " 'hungry.',\n",
       " 'never']"
      ]
     },
     "execution_count": 27,
     "metadata": {},
     "output_type": "execute_result"
    }
   ],
   "source": [
    "stopped_teens[:50]"
   ]
  },
  {
   "cell_type": "code",
   "execution_count": null,
   "id": "e3e2ef83",
   "metadata": {},
   "outputs": [],
   "source": []
  }
 ],
 "metadata": {
  "kernelspec": {
   "display_name": "Python 3 (ipykernel)",
   "language": "python",
   "name": "python3"
  },
  "language_info": {
   "codemirror_mode": {
    "name": "ipython",
    "version": 3
   },
   "file_extension": ".py",
   "mimetype": "text/x-python",
   "name": "python",
   "nbconvert_exporter": "python",
   "pygments_lexer": "ipython3",
   "version": "3.11.2"
  }
 },
 "nbformat": 4,
 "nbformat_minor": 5
}
